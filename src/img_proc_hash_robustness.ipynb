{
 "cells": [
  {
   "attachments": {},
   "cell_type": "markdown",
   "metadata": {},
   "source": [
    "## Robustness of NeuralHash to Some Standard Image Processing Transformations"
   ]
  },
  {
   "cell_type": "code",
   "execution_count": 1,
   "metadata": {},
   "outputs": [
    {
     "name": "stderr",
     "output_type": "stream",
     "text": [
      "/Users/neddamj/miniforge3/envs/nhash/lib/python3.9/site-packages/tqdm/auto.py:21: TqdmWarning: IProgress not found. Please update jupyter and ipywidgets. See https://ipywidgets.readthedocs.io/en/stable/user_install.html\n",
      "  from .autonotebook import tqdm as notebook_tqdm\n"
     ]
    }
   ],
   "source": [
    "from data import IMAGENETTE\n",
    "import utils\n",
    "\n",
    "import matplotlib.pyplot as plt\n",
    "from PIL import Image\n",
    "import numpy as np\n",
    "import os"
   ]
  },
  {
   "cell_type": "code",
   "execution_count": 2,
   "metadata": {},
   "outputs": [
    {
     "name": "stdout",
     "output_type": "stream",
     "text": [
      "Metal device set to: Apple M1\n",
      "\n",
      "systemMemory: 8.00 GB\n",
      "maxCacheSize: 2.67 GB\n",
      "\n"
     ]
    },
    {
     "name": "stderr",
     "output_type": "stream",
     "text": [
      "2023-05-29 10:50:01.899522: W tensorflow/tsl/platform/profile_utils/cpu_utils.cc:128] Failed to get CPU frequency: 0 Hz\n"
     ]
    },
    {
     "name": "stdout",
     "output_type": "stream",
     "text": [
      "[INFO] Images saved\n"
     ]
    }
   ],
   "source": [
    "folder_path = '../images/'\n",
    "images = IMAGENETTE()\n",
    "x = images.load()\n",
    "images.save_to_disk(x, folder_path, num_images=100)"
   ]
  },
  {
   "attachments": {},
   "cell_type": "markdown",
   "metadata": {},
   "source": [
    "### Apply the image transformations to the Images"
   ]
  },
  {
   "cell_type": "code",
   "execution_count": 3,
   "metadata": {},
   "outputs": [],
   "source": [
    "def flip_image(folder_path, file_name):\n",
    "    if 'flipped' in file_name or 'rotated' in file_name:\n",
    "        return\n",
    "    # Open the image file\n",
    "    image_path = os.path.join(folder_path, file_name)\n",
    "    image = Image.open(image_path)\n",
    "\n",
    "    # Flip the image horizontally\n",
    "    flipped_image = image.transpose(Image.FLIP_LEFT_RIGHT)\n",
    "\n",
    "    # Save the flipped image with a new file name\n",
    "    flipped_image_path = os.path.join(folder_path, f\"{file_name.split('.')[0]}_flipped.{file_name.split('.')[1]}\")\n",
    "    flipped_image.save(flipped_image_path)\n",
    "\n",
    "    # Close the original image\n",
    "    image.close()\n",
    "    return os.path.join(folder_path, f\"{file_name.split('.')[0]}_flipped.{file_name.split('.')[1]}\")"
   ]
  },
  {
   "cell_type": "code",
   "execution_count": 4,
   "metadata": {},
   "outputs": [],
   "source": [
    "def rotate_image(folder_path, file_name):\n",
    "    if 'flipped' in file_name or 'rotated' in file_name:\n",
    "        return\n",
    "    # Open the image file\n",
    "    image_path = os.path.join(folder_path, file_name)\n",
    "    image = Image.open(image_path)\n",
    "\n",
    "    # Rotate the image by 90 degrees clockwise\n",
    "    rotated_image = image.transpose(Image.ROTATE_90)\n",
    "\n",
    "    # Save the rotated image with a new file name\n",
    "    rotated_image_path = os.path.join(folder_path, f\"{file_name.split('.')[0]}_rotated.{file_name.split('.')[1]}\")\n",
    "    rotated_image.save(rotated_image_path)\n",
    "\n",
    "    # Close the original image\n",
    "    image.close()\n",
    "    return os.path.join(folder_path, f\"{file_name.split('.')[0]}_rotated.{file_name.split('.')[1]}\")"
   ]
  },
  {
   "cell_type": "code",
   "execution_count": 8,
   "metadata": {},
   "outputs": [],
   "source": [
    "original_paths, flipped_paths, rotated_paths = [], [], []\n",
    "original_hashes, flipped_hashes, rotated_hashes = [], [], []\n",
    "for file in sorted(os.listdir(folder_path)):\n",
    "    if file.endswith(('.jpg', '.jpeg', '.png')):\n",
    "        original_paths.append(os.path.join(folder_path, file))\n",
    "        if original_paths[-1] is not None:\n",
    "            original_hashes.append(utils.compute_hash(original_paths[-1]))\n",
    "        \n",
    "        flipped_paths.append(flip_image(folder_path, file))    \n",
    "        if flipped_paths[-1] is None:\n",
    "            flipped_paths.pop(-1)\n",
    "        else:\n",
    "            flipped_hashes.append(utils.compute_hash(flipped_paths[-1]))\n",
    "        \n",
    "\n",
    "        rotated_paths.append(rotate_image(folder_path, file))    \n",
    "        if rotated_paths[-1] is None:\n",
    "            rotated_paths.pop(-1)\n",
    "        else:\n",
    "            rotated_hashes.append(utils.compute_hash(rotated_paths[-1]))"
   ]
  },
  {
   "cell_type": "code",
   "execution_count": 9,
   "metadata": {},
   "outputs": [],
   "source": [
    "l2_threshold = 20\n",
    "hamming_threshold = 40"
   ]
  },
  {
   "attachments": {},
   "cell_type": "markdown",
   "metadata": {},
   "source": [
    "### Compute the Hamming Distances and L2 Distortion between the Hashes of the Flipped Sets of Images"
   ]
  },
  {
   "cell_type": "code",
   "execution_count": 10,
   "metadata": {},
   "outputs": [
    {
     "name": "stdout",
     "output_type": "stream",
     "text": [
      "../images/1.jpeg & ../images/1_flipped.jpeg\t Hamming Distance: 41.67%\t L2 Dist: 98.77\n",
      "../images/10.jpeg & ../images/10_flipped.jpeg\t Hamming Distance: 38.54%\t L2 Dist: 76.35\n",
      "../images/100.jpeg & ../images/100_flipped.jpeg\t Hamming Distance: 33.33%\t L2 Dist: 114.85\n",
      "../images/100_flipped.jpeg & ../images/11_flipped.jpeg\t Hamming Distance: 65.62%\t L2 Dist: 290.13\n",
      "../images/100_rotated.jpeg & ../images/12_flipped.jpeg\t Hamming Distance: 48.96%\t L2 Dist: 169.89\n",
      "../images/10_flipped.jpeg & ../images/13_flipped.jpeg\t Hamming Distance: 60.42%\t L2 Dist: 118.40\n",
      "../images/10_rotated.jpeg & ../images/14_flipped.jpeg\t Hamming Distance: 57.29%\t L2 Dist: 114.67\n",
      "../images/11.jpeg & ../images/15_flipped.jpeg\t Hamming Distance: 55.21%\t L2 Dist: 247.35\n",
      "../images/11_flipped.jpeg & ../images/16_flipped.jpeg\t Hamming Distance: 69.79%\t L2 Dist: 183.37\n",
      "../images/11_rotated.jpeg & ../images/17_flipped.jpeg\t Hamming Distance: 53.12%\t L2 Dist: 181.88\n",
      "../images/12.jpeg & ../images/18_flipped.jpeg\t Hamming Distance: 72.92%\t L2 Dist: 155.43\n",
      "../images/12_flipped.jpeg & ../images/19_flipped.jpeg\t Hamming Distance: 56.25%\t L2 Dist: 157.78\n",
      "../images/12_rotated.jpeg & ../images/2_flipped.jpeg\t Hamming Distance: 52.08%\t L2 Dist: 118.40\n",
      "../images/13.jpeg & ../images/20_flipped.jpeg\t Hamming Distance: 57.29%\t L2 Dist: 133.47\n",
      "../images/13_flipped.jpeg & ../images/21_flipped.jpeg\t Hamming Distance: 50.00%\t L2 Dist: 135.07\n",
      "../images/13_rotated.jpeg & ../images/22_flipped.jpeg\t Hamming Distance: 51.04%\t L2 Dist: 159.11\n",
      "../images/14.jpeg & ../images/23_flipped.jpeg\t Hamming Distance: 57.29%\t L2 Dist: 195.21\n",
      "../images/14_flipped.jpeg & ../images/24_flipped.jpeg\t Hamming Distance: 46.88%\t L2 Dist: 184.75\n",
      "../images/14_rotated.jpeg & ../images/25_flipped.jpeg\t Hamming Distance: 41.67%\t L2 Dist: 140.69\n",
      "../images/15.jpeg & ../images/26_flipped.jpeg\t Hamming Distance: 56.25%\t L2 Dist: 107.99\n",
      "../images/15_flipped.jpeg & ../images/27_flipped.jpeg\t Hamming Distance: 59.38%\t L2 Dist: 198.37\n",
      "../images/15_rotated.jpeg & ../images/28_flipped.jpeg\t Hamming Distance: 59.38%\t L2 Dist: 180.59\n",
      "../images/16.jpeg & ../images/29_flipped.jpeg\t Hamming Distance: 48.96%\t L2 Dist: 133.63\n",
      "../images/16_flipped.jpeg & ../images/3_flipped.jpeg\t Hamming Distance: 58.33%\t L2 Dist: 202.77\n",
      "../images/16_rotated.jpeg & ../images/30_flipped.jpeg\t Hamming Distance: 52.08%\t L2 Dist: 186.22\n",
      "../images/17.jpeg & ../images/31_flipped.jpeg\t Hamming Distance: 51.04%\t L2 Dist: 148.04\n",
      "../images/17_flipped.jpeg & ../images/32_flipped.jpeg\t Hamming Distance: 52.08%\t L2 Dist: 174.07\n",
      "../images/17_rotated.jpeg & ../images/33_flipped.jpeg\t Hamming Distance: 58.33%\t L2 Dist: 173.00\n",
      "../images/18.jpeg & ../images/34_flipped.jpeg\t Hamming Distance: 57.29%\t L2 Dist: 154.74\n",
      "../images/18_flipped.jpeg & ../images/35_flipped.jpeg\t Hamming Distance: 52.08%\t L2 Dist: 136.57\n",
      "../images/18_rotated.jpeg & ../images/36_flipped.jpeg\t Hamming Distance: 56.25%\t L2 Dist: 171.27\n",
      "../images/19.jpeg & ../images/37_flipped.jpeg\t Hamming Distance: 63.54%\t L2 Dist: 157.40\n",
      "../images/19_flipped.jpeg & ../images/38_flipped.jpeg\t Hamming Distance: 53.12%\t L2 Dist: 126.79\n",
      "../images/19_rotated.jpeg & ../images/39_flipped.jpeg\t Hamming Distance: 55.21%\t L2 Dist: 143.14\n",
      "../images/1_flipped.jpeg & ../images/4_flipped.jpeg\t Hamming Distance: 56.25%\t L2 Dist: 171.54\n",
      "../images/1_rotated.jpeg & ../images/40_flipped.jpeg\t Hamming Distance: 57.29%\t L2 Dist: 124.45\n",
      "../images/2.jpeg & ../images/41_flipped.jpeg\t Hamming Distance: 51.04%\t L2 Dist: 134.77\n",
      "../images/20.jpeg & ../images/42_flipped.jpeg\t Hamming Distance: 60.42%\t L2 Dist: 128.89\n",
      "../images/20_flipped.jpeg & ../images/43_flipped.jpeg\t Hamming Distance: 52.08%\t L2 Dist: 157.33\n",
      "../images/20_rotated.jpeg & ../images/44_flipped.jpeg\t Hamming Distance: 45.83%\t L2 Dist: 138.91\n",
      "../images/21.jpeg & ../images/45_flipped.jpeg\t Hamming Distance: 63.54%\t L2 Dist: 165.04\n",
      "../images/21_flipped.jpeg & ../images/46_flipped.jpeg\t Hamming Distance: 54.17%\t L2 Dist: 152.56\n",
      "../images/21_rotated.jpeg & ../images/47_flipped.jpeg\t Hamming Distance: 44.79%\t L2 Dist: 124.36\n",
      "../images/22.jpeg & ../images/48_flipped.jpeg\t Hamming Distance: 56.25%\t L2 Dist: 148.28\n",
      "../images/22_flipped.jpeg & ../images/49_flipped.jpeg\t Hamming Distance: 56.25%\t L2 Dist: 201.14\n",
      "../images/22_rotated.jpeg & ../images/5_flipped.jpeg\t Hamming Distance: 44.79%\t L2 Dist: 162.74\n",
      "../images/23.jpeg & ../images/50_flipped.jpeg\t Hamming Distance: 61.46%\t L2 Dist: 143.95\n",
      "../images/23_flipped.jpeg & ../images/51_flipped.jpeg\t Hamming Distance: 57.29%\t L2 Dist: 179.63\n",
      "../images/23_rotated.jpeg & ../images/52_flipped.jpeg\t Hamming Distance: 48.96%\t L2 Dist: 183.68\n",
      "../images/24.jpeg & ../images/53_flipped.jpeg\t Hamming Distance: 52.08%\t L2 Dist: 203.58\n",
      "../images/24_flipped.jpeg & ../images/54_flipped.jpeg\t Hamming Distance: 50.00%\t L2 Dist: 135.06\n",
      "../images/24_rotated.jpeg & ../images/55_flipped.jpeg\t Hamming Distance: 46.88%\t L2 Dist: 138.56\n",
      "../images/25.jpeg & ../images/56_flipped.jpeg\t Hamming Distance: 60.42%\t L2 Dist: 130.27\n",
      "../images/25_flipped.jpeg & ../images/57_flipped.jpeg\t Hamming Distance: 47.92%\t L2 Dist: 181.19\n",
      "../images/25_rotated.jpeg & ../images/58_flipped.jpeg\t Hamming Distance: 59.38%\t L2 Dist: 148.65\n",
      "../images/26.jpeg & ../images/59_flipped.jpeg\t Hamming Distance: 42.71%\t L2 Dist: 94.34\n",
      "../images/26_flipped.jpeg & ../images/6_flipped.jpeg\t Hamming Distance: 40.62%\t L2 Dist: 108.94\n",
      "../images/26_rotated.jpeg & ../images/60_flipped.jpeg\t Hamming Distance: 65.62%\t L2 Dist: 144.08\n",
      "../images/27.jpeg & ../images/61_flipped.jpeg\t Hamming Distance: 44.79%\t L2 Dist: 144.86\n",
      "../images/27_flipped.jpeg & ../images/62_flipped.jpeg\t Hamming Distance: 54.17%\t L2 Dist: 168.71\n",
      "../images/27_rotated.jpeg & ../images/63_flipped.jpeg\t Hamming Distance: 47.92%\t L2 Dist: 134.53\n",
      "../images/28.jpeg & ../images/64_flipped.jpeg\t Hamming Distance: 63.54%\t L2 Dist: 192.08\n",
      "../images/28_flipped.jpeg & ../images/65_flipped.jpeg\t Hamming Distance: 62.50%\t L2 Dist: 204.47\n",
      "../images/28_rotated.jpeg & ../images/66_flipped.jpeg\t Hamming Distance: 52.08%\t L2 Dist: 154.26\n",
      "../images/29.jpeg & ../images/67_flipped.jpeg\t Hamming Distance: 57.29%\t L2 Dist: 129.56\n",
      "../images/29_flipped.jpeg & ../images/68_flipped.jpeg\t Hamming Distance: 62.50%\t L2 Dist: 156.24\n",
      "../images/29_rotated.jpeg & ../images/69_flipped.jpeg\t Hamming Distance: 42.71%\t L2 Dist: 136.70\n",
      "../images/2_flipped.jpeg & ../images/7_flipped.jpeg\t Hamming Distance: 55.21%\t L2 Dist: 123.76\n",
      "../images/2_rotated.jpeg & ../images/70_flipped.jpeg\t Hamming Distance: 55.21%\t L2 Dist: 138.09\n",
      "../images/3.jpeg & ../images/71_flipped.jpeg\t Hamming Distance: 61.46%\t L2 Dist: 208.99\n",
      "../images/30.jpeg & ../images/72_flipped.jpeg\t Hamming Distance: 51.04%\t L2 Dist: 164.03\n",
      "../images/30_flipped.jpeg & ../images/73_flipped.jpeg\t Hamming Distance: 60.42%\t L2 Dist: 150.51\n",
      "../images/30_rotated.jpeg & ../images/74_flipped.jpeg\t Hamming Distance: 48.96%\t L2 Dist: 139.20\n",
      "../images/31.jpeg & ../images/75_flipped.jpeg\t Hamming Distance: 52.08%\t L2 Dist: 121.85\n",
      "../images/31_flipped.jpeg & ../images/76_flipped.jpeg\t Hamming Distance: 65.62%\t L2 Dist: 161.04\n",
      "../images/31_rotated.jpeg & ../images/77_flipped.jpeg\t Hamming Distance: 47.92%\t L2 Dist: 127.39\n",
      "../images/32.jpeg & ../images/78_flipped.jpeg\t Hamming Distance: 58.33%\t L2 Dist: 125.37\n",
      "../images/32_flipped.jpeg & ../images/79_flipped.jpeg\t Hamming Distance: 58.33%\t L2 Dist: 140.51\n",
      "../images/32_rotated.jpeg & ../images/8_flipped.jpeg\t Hamming Distance: 61.46%\t L2 Dist: 164.85\n",
      "../images/33.jpeg & ../images/80_flipped.jpeg\t Hamming Distance: 52.08%\t L2 Dist: 136.57\n",
      "../images/33_flipped.jpeg & ../images/81_flipped.jpeg\t Hamming Distance: 52.08%\t L2 Dist: 117.21\n",
      "../images/33_rotated.jpeg & ../images/82_flipped.jpeg\t Hamming Distance: 56.25%\t L2 Dist: 145.89\n",
      "../images/34.jpeg & ../images/83_flipped.jpeg\t Hamming Distance: 54.17%\t L2 Dist: 143.56\n",
      "../images/34_flipped.jpeg & ../images/84_flipped.jpeg\t Hamming Distance: 50.00%\t L2 Dist: 122.00\n",
      "../images/34_rotated.jpeg & ../images/85_flipped.jpeg\t Hamming Distance: 46.88%\t L2 Dist: 144.82\n",
      "../images/35.jpeg & ../images/86_flipped.jpeg\t Hamming Distance: 58.33%\t L2 Dist: 132.43\n",
      "../images/35_flipped.jpeg & ../images/87_flipped.jpeg\t Hamming Distance: 57.29%\t L2 Dist: 115.51\n",
      "../images/35_rotated.jpeg & ../images/88_flipped.jpeg\t Hamming Distance: 55.21%\t L2 Dist: 123.37\n",
      "../images/36.jpeg & ../images/89_flipped.jpeg\t Hamming Distance: 48.96%\t L2 Dist: 153.00\n",
      "../images/36_flipped.jpeg & ../images/9_flipped.jpeg\t Hamming Distance: 63.54%\t L2 Dist: 147.00\n",
      "../images/36_rotated.jpeg & ../images/90_flipped.jpeg\t Hamming Distance: 47.92%\t L2 Dist: 169.46\n",
      "../images/37.jpeg & ../images/91_flipped.jpeg\t Hamming Distance: 56.25%\t L2 Dist: 220.81\n",
      "../images/37_flipped.jpeg & ../images/92_flipped.jpeg\t Hamming Distance: 53.12%\t L2 Dist: 145.03\n",
      "../images/37_rotated.jpeg & ../images/93_flipped.jpeg\t Hamming Distance: 48.96%\t L2 Dist: 181.41\n",
      "../images/38.jpeg & ../images/94_flipped.jpeg\t Hamming Distance: 51.04%\t L2 Dist: 106.18\n",
      "../images/38_flipped.jpeg & ../images/95_flipped.jpeg\t Hamming Distance: 43.75%\t L2 Dist: 94.44\n",
      "../images/38_rotated.jpeg & ../images/96_flipped.jpeg\t Hamming Distance: 58.33%\t L2 Dist: 150.70\n",
      "../images/39.jpeg & ../images/97_flipped.jpeg\t Hamming Distance: 55.21%\t L2 Dist: 158.28\n",
      "../images/39_flipped.jpeg & ../images/98_flipped.jpeg\t Hamming Distance: 47.92%\t L2 Dist: 151.20\n",
      "../images/39_rotated.jpeg & ../images/99_flipped.jpeg\t Hamming Distance: 48.96%\t L2 Dist: 133.25\n"
     ]
    }
   ],
   "source": [
    "# Original and flipped\n",
    "success = []\n",
    "for orig_path, flipped_path, orig_hash, flipped_hash in zip(original_paths, flipped_paths, original_hashes, flipped_hashes):\n",
    "    orig_img, flipped_img = utils.load_img(orig_path), utils.load_img(flipped_path)\n",
    "    hamming_dist, l2_dist = utils.distance(orig_hash, flipped_hash, \"hamming\"), utils.distance(orig_img, flipped_img, \"l2\")\n",
    "    print(f'{orig_path} & {flipped_path}\\t Hamming Distance: {hamming_dist/96 * 100:.2f}%\\t L2 Dist: {l2_dist:.2f}')\n",
    "    if hamming_dist >= hamming_threshold and l2_dist < l2_threshold:\n",
    "        success.append(1)\n",
    "    else:\n",
    "        success.append(0)"
   ]
  },
  {
   "cell_type": "code",
   "execution_count": 11,
   "metadata": {},
   "outputs": [
    {
     "name": "stdout",
     "output_type": "stream",
     "text": [
      "ASR: 0.00%\n"
     ]
    }
   ],
   "source": [
    "flipped_asr = sum(success)/len(success)\n",
    "print(f'ASR: {100*flipped_asr:.2f}%')"
   ]
  },
  {
   "attachments": {},
   "cell_type": "markdown",
   "metadata": {},
   "source": [
    "### Compute the Hamming Distances and L2 Distortion between the Hashes of the Rotated Sets of Images"
   ]
  },
  {
   "cell_type": "code",
   "execution_count": 12,
   "metadata": {},
   "outputs": [
    {
     "name": "stdout",
     "output_type": "stream",
     "text": [
      "../images/1.jpeg & ../images/1_rotated.jpeg\t Hamming Distance: 41.67%\t L2 Dist: 124.11\n",
      "../images/10.jpeg & ../images/10_rotated.jpeg\t Hamming Distance: 58.33%\t L2 Dist: 109.04\n",
      "../images/100.jpeg & ../images/100_rotated.jpeg\t Hamming Distance: 51.04%\t L2 Dist: 141.43\n",
      "../images/100_flipped.jpeg & ../images/11_rotated.jpeg\t Hamming Distance: 46.88%\t L2 Dist: 285.40\n",
      "../images/100_rotated.jpeg & ../images/12_rotated.jpeg\t Hamming Distance: 43.75%\t L2 Dist: 184.28\n",
      "../images/10_flipped.jpeg & ../images/13_rotated.jpeg\t Hamming Distance: 51.04%\t L2 Dist: 134.65\n",
      "../images/10_rotated.jpeg & ../images/14_rotated.jpeg\t Hamming Distance: 50.00%\t L2 Dist: 121.79\n",
      "../images/11.jpeg & ../images/15_rotated.jpeg\t Hamming Distance: 51.04%\t L2 Dist: 244.80\n",
      "../images/11_flipped.jpeg & ../images/16_rotated.jpeg\t Hamming Distance: 54.17%\t L2 Dist: 189.52\n",
      "../images/11_rotated.jpeg & ../images/17_rotated.jpeg\t Hamming Distance: 54.17%\t L2 Dist: 159.73\n",
      "../images/12.jpeg & ../images/18_rotated.jpeg\t Hamming Distance: 57.29%\t L2 Dist: 134.59\n",
      "../images/12_flipped.jpeg & ../images/19_rotated.jpeg\t Hamming Distance: 61.46%\t L2 Dist: 154.87\n",
      "../images/12_rotated.jpeg & ../images/2_rotated.jpeg\t Hamming Distance: 54.17%\t L2 Dist: 134.07\n",
      "../images/13.jpeg & ../images/20_rotated.jpeg\t Hamming Distance: 52.08%\t L2 Dist: 136.48\n",
      "../images/13_flipped.jpeg & ../images/21_rotated.jpeg\t Hamming Distance: 50.00%\t L2 Dist: 159.63\n",
      "../images/13_rotated.jpeg & ../images/22_rotated.jpeg\t Hamming Distance: 55.21%\t L2 Dist: 160.64\n",
      "../images/14.jpeg & ../images/23_rotated.jpeg\t Hamming Distance: 54.17%\t L2 Dist: 190.85\n",
      "../images/14_flipped.jpeg & ../images/24_rotated.jpeg\t Hamming Distance: 55.21%\t L2 Dist: 180.86\n",
      "../images/14_rotated.jpeg & ../images/25_rotated.jpeg\t Hamming Distance: 52.08%\t L2 Dist: 128.25\n",
      "../images/15.jpeg & ../images/26_rotated.jpeg\t Hamming Distance: 46.88%\t L2 Dist: 103.07\n",
      "../images/15_flipped.jpeg & ../images/27_rotated.jpeg\t Hamming Distance: 59.38%\t L2 Dist: 196.45\n",
      "../images/15_rotated.jpeg & ../images/28_rotated.jpeg\t Hamming Distance: 58.33%\t L2 Dist: 180.53\n",
      "../images/16.jpeg & ../images/29_rotated.jpeg\t Hamming Distance: 59.38%\t L2 Dist: 131.94\n",
      "../images/16_flipped.jpeg & ../images/3_rotated.jpeg\t Hamming Distance: 56.25%\t L2 Dist: 192.31\n",
      "../images/16_rotated.jpeg & ../images/30_rotated.jpeg\t Hamming Distance: 47.92%\t L2 Dist: 177.49\n",
      "../images/17.jpeg & ../images/31_rotated.jpeg\t Hamming Distance: 44.79%\t L2 Dist: 181.15\n",
      "../images/17_flipped.jpeg & ../images/32_rotated.jpeg\t Hamming Distance: 53.12%\t L2 Dist: 168.41\n",
      "../images/17_rotated.jpeg & ../images/33_rotated.jpeg\t Hamming Distance: 53.12%\t L2 Dist: 175.73\n",
      "../images/18.jpeg & ../images/34_rotated.jpeg\t Hamming Distance: 60.42%\t L2 Dist: 145.57\n",
      "../images/18_flipped.jpeg & ../images/35_rotated.jpeg\t Hamming Distance: 60.42%\t L2 Dist: 130.15\n",
      "../images/18_rotated.jpeg & ../images/36_rotated.jpeg\t Hamming Distance: 58.33%\t L2 Dist: 177.59\n",
      "../images/19.jpeg & ../images/37_rotated.jpeg\t Hamming Distance: 56.25%\t L2 Dist: 171.43\n",
      "../images/19_flipped.jpeg & ../images/38_rotated.jpeg\t Hamming Distance: 50.00%\t L2 Dist: 133.83\n",
      "../images/19_rotated.jpeg & ../images/39_rotated.jpeg\t Hamming Distance: 54.17%\t L2 Dist: 135.91\n",
      "../images/1_flipped.jpeg & ../images/4_rotated.jpeg\t Hamming Distance: 54.17%\t L2 Dist: 160.90\n",
      "../images/1_rotated.jpeg & ../images/40_rotated.jpeg\t Hamming Distance: 53.12%\t L2 Dist: 125.21\n",
      "../images/2.jpeg & ../images/41_rotated.jpeg\t Hamming Distance: 58.33%\t L2 Dist: 139.83\n",
      "../images/20.jpeg & ../images/42_rotated.jpeg\t Hamming Distance: 56.25%\t L2 Dist: 128.31\n",
      "../images/20_flipped.jpeg & ../images/43_rotated.jpeg\t Hamming Distance: 55.21%\t L2 Dist: 152.59\n",
      "../images/20_rotated.jpeg & ../images/44_rotated.jpeg\t Hamming Distance: 57.29%\t L2 Dist: 137.10\n",
      "../images/21.jpeg & ../images/45_rotated.jpeg\t Hamming Distance: 57.29%\t L2 Dist: 147.02\n",
      "../images/21_flipped.jpeg & ../images/46_rotated.jpeg\t Hamming Distance: 37.50%\t L2 Dist: 147.41\n",
      "../images/21_rotated.jpeg & ../images/47_rotated.jpeg\t Hamming Distance: 45.83%\t L2 Dist: 130.62\n",
      "../images/22.jpeg & ../images/48_rotated.jpeg\t Hamming Distance: 43.75%\t L2 Dist: 143.65\n",
      "../images/22_flipped.jpeg & ../images/49_rotated.jpeg\t Hamming Distance: 58.33%\t L2 Dist: 172.47\n",
      "../images/22_rotated.jpeg & ../images/5_rotated.jpeg\t Hamming Distance: 50.00%\t L2 Dist: 171.21\n",
      "../images/23.jpeg & ../images/50_rotated.jpeg\t Hamming Distance: 42.71%\t L2 Dist: 196.01\n",
      "../images/23_flipped.jpeg & ../images/51_rotated.jpeg\t Hamming Distance: 55.21%\t L2 Dist: 182.20\n",
      "../images/23_rotated.jpeg & ../images/52_rotated.jpeg\t Hamming Distance: 55.21%\t L2 Dist: 174.66\n",
      "../images/24.jpeg & ../images/53_rotated.jpeg\t Hamming Distance: 45.83%\t L2 Dist: 204.58\n",
      "../images/24_flipped.jpeg & ../images/54_rotated.jpeg\t Hamming Distance: 52.08%\t L2 Dist: 135.00\n",
      "../images/24_rotated.jpeg & ../images/55_rotated.jpeg\t Hamming Distance: 46.88%\t L2 Dist: 136.72\n",
      "../images/25.jpeg & ../images/56_rotated.jpeg\t Hamming Distance: 61.46%\t L2 Dist: 141.70\n",
      "../images/25_flipped.jpeg & ../images/57_rotated.jpeg\t Hamming Distance: 37.50%\t L2 Dist: 174.72\n",
      "../images/25_rotated.jpeg & ../images/58_rotated.jpeg\t Hamming Distance: 58.33%\t L2 Dist: 149.71\n",
      "../images/26.jpeg & ../images/59_rotated.jpeg\t Hamming Distance: 45.83%\t L2 Dist: 89.16\n",
      "../images/26_flipped.jpeg & ../images/6_rotated.jpeg\t Hamming Distance: 54.17%\t L2 Dist: 115.10\n",
      "../images/26_rotated.jpeg & ../images/60_rotated.jpeg\t Hamming Distance: 58.33%\t L2 Dist: 145.71\n",
      "../images/27.jpeg & ../images/61_rotated.jpeg\t Hamming Distance: 57.29%\t L2 Dist: 164.14\n",
      "../images/27_flipped.jpeg & ../images/62_rotated.jpeg\t Hamming Distance: 55.21%\t L2 Dist: 146.98\n",
      "../images/27_rotated.jpeg & ../images/63_rotated.jpeg\t Hamming Distance: 60.42%\t L2 Dist: 152.03\n",
      "../images/28.jpeg & ../images/64_rotated.jpeg\t Hamming Distance: 59.38%\t L2 Dist: 181.77\n",
      "../images/28_flipped.jpeg & ../images/65_rotated.jpeg\t Hamming Distance: 46.88%\t L2 Dist: 206.68\n",
      "../images/28_rotated.jpeg & ../images/66_rotated.jpeg\t Hamming Distance: 56.25%\t L2 Dist: 165.51\n",
      "../images/29.jpeg & ../images/67_rotated.jpeg\t Hamming Distance: 63.54%\t L2 Dist: 144.52\n",
      "../images/29_flipped.jpeg & ../images/68_rotated.jpeg\t Hamming Distance: 53.12%\t L2 Dist: 156.58\n",
      "../images/29_rotated.jpeg & ../images/69_rotated.jpeg\t Hamming Distance: 48.96%\t L2 Dist: 141.70\n",
      "../images/2_flipped.jpeg & ../images/7_rotated.jpeg\t Hamming Distance: 59.38%\t L2 Dist: 123.06\n",
      "../images/2_rotated.jpeg & ../images/70_rotated.jpeg\t Hamming Distance: 51.04%\t L2 Dist: 161.24\n",
      "../images/3.jpeg & ../images/71_rotated.jpeg\t Hamming Distance: 53.12%\t L2 Dist: 214.68\n",
      "../images/30.jpeg & ../images/72_rotated.jpeg\t Hamming Distance: 61.46%\t L2 Dist: 169.29\n",
      "../images/30_flipped.jpeg & ../images/73_rotated.jpeg\t Hamming Distance: 56.25%\t L2 Dist: 159.51\n",
      "../images/30_rotated.jpeg & ../images/74_rotated.jpeg\t Hamming Distance: 41.67%\t L2 Dist: 132.43\n",
      "../images/31.jpeg & ../images/75_rotated.jpeg\t Hamming Distance: 48.96%\t L2 Dist: 140.14\n",
      "../images/31_flipped.jpeg & ../images/76_rotated.jpeg\t Hamming Distance: 69.79%\t L2 Dist: 175.33\n",
      "../images/31_rotated.jpeg & ../images/77_rotated.jpeg\t Hamming Distance: 54.17%\t L2 Dist: 122.79\n",
      "../images/32.jpeg & ../images/78_rotated.jpeg\t Hamming Distance: 56.25%\t L2 Dist: 127.34\n",
      "../images/32_flipped.jpeg & ../images/79_rotated.jpeg\t Hamming Distance: 57.29%\t L2 Dist: 141.06\n",
      "../images/32_rotated.jpeg & ../images/8_rotated.jpeg\t Hamming Distance: 56.25%\t L2 Dist: 158.90\n",
      "../images/33.jpeg & ../images/80_rotated.jpeg\t Hamming Distance: 47.92%\t L2 Dist: 133.63\n",
      "../images/33_flipped.jpeg & ../images/81_rotated.jpeg\t Hamming Distance: 56.25%\t L2 Dist: 121.52\n",
      "../images/33_rotated.jpeg & ../images/82_rotated.jpeg\t Hamming Distance: 42.71%\t L2 Dist: 152.29\n",
      "../images/34.jpeg & ../images/83_rotated.jpeg\t Hamming Distance: 58.33%\t L2 Dist: 135.97\n",
      "../images/34_flipped.jpeg & ../images/84_rotated.jpeg\t Hamming Distance: 50.00%\t L2 Dist: 127.58\n",
      "../images/34_rotated.jpeg & ../images/85_rotated.jpeg\t Hamming Distance: 51.04%\t L2 Dist: 145.47\n",
      "../images/35.jpeg & ../images/86_rotated.jpeg\t Hamming Distance: 55.21%\t L2 Dist: 132.89\n",
      "../images/35_flipped.jpeg & ../images/87_rotated.jpeg\t Hamming Distance: 55.21%\t L2 Dist: 116.83\n",
      "../images/35_rotated.jpeg & ../images/88_rotated.jpeg\t Hamming Distance: 40.62%\t L2 Dist: 122.97\n",
      "../images/36.jpeg & ../images/89_rotated.jpeg\t Hamming Distance: 69.79%\t L2 Dist: 156.18\n",
      "../images/36_flipped.jpeg & ../images/9_rotated.jpeg\t Hamming Distance: 62.50%\t L2 Dist: 152.00\n",
      "../images/36_rotated.jpeg & ../images/90_rotated.jpeg\t Hamming Distance: 64.58%\t L2 Dist: 175.17\n",
      "../images/37.jpeg & ../images/91_rotated.jpeg\t Hamming Distance: 57.29%\t L2 Dist: 221.97\n",
      "../images/37_flipped.jpeg & ../images/92_rotated.jpeg\t Hamming Distance: 55.21%\t L2 Dist: 182.80\n",
      "../images/37_rotated.jpeg & ../images/93_rotated.jpeg\t Hamming Distance: 54.17%\t L2 Dist: 154.06\n",
      "../images/38.jpeg & ../images/94_rotated.jpeg\t Hamming Distance: 59.38%\t L2 Dist: 112.10\n",
      "../images/38_flipped.jpeg & ../images/95_rotated.jpeg\t Hamming Distance: 62.50%\t L2 Dist: 97.05\n",
      "../images/38_rotated.jpeg & ../images/96_rotated.jpeg\t Hamming Distance: 47.92%\t L2 Dist: 150.31\n",
      "../images/39.jpeg & ../images/97_rotated.jpeg\t Hamming Distance: 62.50%\t L2 Dist: 157.47\n",
      "../images/39_flipped.jpeg & ../images/98_rotated.jpeg\t Hamming Distance: 46.88%\t L2 Dist: 129.22\n",
      "../images/39_rotated.jpeg & ../images/99_rotated.jpeg\t Hamming Distance: 52.08%\t L2 Dist: 123.92\n"
     ]
    }
   ],
   "source": [
    "# Original and rotated\n",
    "for orig_path, rotated_path, orig_hash, rotated_hash in zip(original_paths, rotated_paths, original_hashes, rotated_hashes):\n",
    "    orig_img, rotated_img = utils.load_img(orig_path), utils.load_img(rotated_path)\n",
    "    hamming_dist, l2_dist = utils.distance(orig_hash, rotated_hash, \"hamming\"), utils.distance(orig_img, rotated_img, \"l2\")\n",
    "    print(f'{orig_path} & {rotated_path}\\t Hamming Distance: {hamming_dist/96 * 100:.2f}%\\t L2 Dist: {l2_dist:.2f}')\n",
    "    if hamming_dist >= hamming_threshold and l2_dist < l2_threshold:\n",
    "        success.append(1)\n",
    "    else:\n",
    "        success.append(0)"
   ]
  },
  {
   "cell_type": "code",
   "execution_count": 13,
   "metadata": {},
   "outputs": [
    {
     "name": "stdout",
     "output_type": "stream",
     "text": [
      "ASR: 0.00%\n"
     ]
    }
   ],
   "source": [
    "rotated_asr = sum(success)/len(success)\n",
    "print(f'ASR: {100*rotated_asr:.2f}%')"
   ]
  },
  {
   "cell_type": "code",
   "execution_count": null,
   "metadata": {},
   "outputs": [],
   "source": []
  }
 ],
 "metadata": {
  "kernelspec": {
   "display_name": "nhash",
   "language": "python",
   "name": "python3"
  },
  "language_info": {
   "codemirror_mode": {
    "name": "ipython",
    "version": 3
   },
   "file_extension": ".py",
   "mimetype": "text/x-python",
   "name": "python",
   "nbconvert_exporter": "python",
   "pygments_lexer": "ipython3",
   "version": "3.9.16"
  },
  "orig_nbformat": 4
 },
 "nbformat": 4,
 "nbformat_minor": 2
}
