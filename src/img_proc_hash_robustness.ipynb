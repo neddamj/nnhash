{
 "cells": [
  {
   "attachments": {},
   "cell_type": "markdown",
   "metadata": {},
   "source": [
    "## Robustness of NeuralHash to Some Standard Image Processing Transformations"
   ]
  },
  {
   "cell_type": "code",
   "execution_count": 9,
   "metadata": {},
   "outputs": [],
   "source": [
    "from data import IMAGENETTE\n",
    "import utils\n",
    "\n",
    "import matplotlib.pyplot as plt\n",
    "from PIL import Image\n",
    "import numpy as np\n",
    "import os"
   ]
  },
  {
   "cell_type": "code",
   "execution_count": 10,
   "metadata": {},
   "outputs": [
    {
     "name": "stdout",
     "output_type": "stream",
     "text": [
      "[INFO] Images saved\n"
     ]
    }
   ],
   "source": [
    "folder_path = '../images/'\n",
    "images = IMAGENETTE()\n",
    "x = images.load()\n",
    "images.save_to_disk(x, folder_path, num_images=100)"
   ]
  },
  {
   "attachments": {},
   "cell_type": "markdown",
   "metadata": {},
   "source": [
    "### Apply the image transformations to the Images"
   ]
  },
  {
   "cell_type": "code",
   "execution_count": 11,
   "metadata": {},
   "outputs": [],
   "source": [
    "def flip_image(folder_path, file_name):\n",
    "    if 'flipped' in file_name or 'rotated' in file_name:\n",
    "        return\n",
    "    # Open the image file\n",
    "    image_path = os.path.join(folder_path, file_name)\n",
    "    image = Image.open(image_path)\n",
    "\n",
    "    # Flip the image horizontally\n",
    "    flipped_image = image.transpose(Image.FLIP_LEFT_RIGHT)\n",
    "\n",
    "    # Save the flipped image with a new file name\n",
    "    flipped_image_path = os.path.join(folder_path, f\"{file_name.split('.')[0]}_flipped.{file_name.split('.')[1]}\")\n",
    "    flipped_image.save(flipped_image_path)\n",
    "\n",
    "    # Close the original image\n",
    "    image.close()\n",
    "    return os.path.join(folder_path, f\"{file_name.split('.')[0]}_flipped.{file_name.split('.')[1]}\")"
   ]
  },
  {
   "cell_type": "code",
   "execution_count": 12,
   "metadata": {},
   "outputs": [],
   "source": [
    "def rotate_image(folder_path, file_name):\n",
    "    if 'flipped' in file_name or 'rotated' in file_name:\n",
    "        return\n",
    "    # Open the image file\n",
    "    image_path = os.path.join(folder_path, file_name)\n",
    "    image = Image.open(image_path)\n",
    "\n",
    "    # Rotate the image by 90 degrees clockwise\n",
    "    rotated_image = image.transpose(Image.ROTATE_90)\n",
    "\n",
    "    # Save the rotated image with a new file name\n",
    "    rotated_image_path = os.path.join(folder_path, f\"{file_name.split('.')[0]}_rotated.{file_name.split('.')[1]}\")\n",
    "    rotated_image.save(rotated_image_path)\n",
    "\n",
    "    # Close the original image\n",
    "    image.close()\n",
    "    return os.path.join(folder_path, f\"{file_name.split('.')[0]}_rotated.{file_name.split('.')[1]}\")"
   ]
  },
  {
   "cell_type": "code",
   "execution_count": 13,
   "metadata": {},
   "outputs": [],
   "source": [
    "original_paths, flipped_paths, rotated_paths = [], [], []\n",
    "original_hashes, flipped_hashes, rotated_hashes = [], [], []\n",
    "for file in sorted(os.listdir(folder_path)):\n",
    "    if file.endswith(('.jpg', '.jpeg', '.png')):\n",
    "        original_paths.append(os.path.join(folder_path, file))\n",
    "        if original_paths[-1] is not None:\n",
    "            original_hashes.append(utils.compute_hash(original_paths[-1]))\n",
    "        \n",
    "        flipped_paths.append(flip_image(folder_path, file))    \n",
    "        if flipped_paths[-1] is not None:\n",
    "            flipped_hashes.append(utils.compute_hash(flipped_paths[-1]))\n",
    "\n",
    "        rotated_paths.append(rotate_image(folder_path, file))    \n",
    "        if rotated_paths[-1] is not None:\n",
    "            rotated_hashes.append(utils.compute_hash(rotated_paths[-1]))"
   ]
  },
  {
   "cell_type": "code",
   "execution_count": 14,
   "metadata": {},
   "outputs": [],
   "source": [
    "l2_threshold = 20\n",
    "hamming_threshold = 40"
   ]
  },
  {
   "attachments": {},
   "cell_type": "markdown",
   "metadata": {},
   "source": [
    "### Compute the Hamming Distances and L2 Distortion between the Hashes of the Flipped Sets of Images"
   ]
  },
  {
   "cell_type": "code",
   "execution_count": 15,
   "metadata": {},
   "outputs": [
    {
     "name": "stdout",
     "output_type": "stream",
     "text": [
      "../images/1.jpeg & ../images/1_flipped.jpeg\t Hamming Distance: 40\t L2 Dist: 152.63767588626047\n",
      "../images/10.jpeg & ../images/10_flipped.jpeg\t Hamming Distance: 53\t L2 Dist: 132.2264993702668\n",
      "../images/100.jpeg & ../images/100_flipped.jpeg\t Hamming Distance: 44\t L2 Dist: 161.71817512601686\n",
      "../images/11.jpeg & ../images/11_flipped.jpeg\t Hamming Distance: 45\t L2 Dist: 93.02784054101683\n",
      "../images/12.jpeg & ../images/12_flipped.jpeg\t Hamming Distance: 34\t L2 Dist: 143.2992140931186\n",
      "../images/13.jpeg & ../images/13_flipped.jpeg\t Hamming Distance: 35\t L2 Dist: 77.87784784474785\n",
      "../images/14.jpeg & ../images/14_flipped.jpeg\t Hamming Distance: 33\t L2 Dist: 186.81350782293288\n",
      "../images/15.jpeg & ../images/15_flipped.jpeg\t Hamming Distance: 37\t L2 Dist: 135.34499668493\n",
      "../images/16.jpeg & ../images/16_flipped.jpeg\t Hamming Distance: 42\t L2 Dist: 69.42129158062043\n",
      "../images/17.jpeg & ../images/17_flipped.jpeg\t Hamming Distance: 33\t L2 Dist: 121.70429798340454\n",
      "../images/18.jpeg & ../images/18_flipped.jpeg\t Hamming Distance: 41\t L2 Dist: 51.89149134760703\n",
      "../images/19.jpeg & ../images/19_flipped.jpeg\t Hamming Distance: 38\t L2 Dist: 155.45598550538753\n",
      "../images/2.jpeg & ../images/2_flipped.jpeg\t Hamming Distance: 50\t L2 Dist: 133.73034014550296\n",
      "../images/20.jpeg & ../images/20_flipped.jpeg\t Hamming Distance: 65\t L2 Dist: 108.14521485999124\n",
      "../images/21.jpeg & ../images/21_flipped.jpeg\t Hamming Distance: 39\t L2 Dist: 149.89813652644418\n",
      "../images/22.jpeg & ../images/22_flipped.jpeg\t Hamming Distance: 46\t L2 Dist: 136.47969250677053\n",
      "../images/23.jpeg & ../images/23_flipped.jpeg\t Hamming Distance: 16\t L2 Dist: 47.7591570877886\n",
      "../images/24.jpeg & ../images/24_flipped.jpeg\t Hamming Distance: 40\t L2 Dist: 98.76631661635052\n",
      "../images/25.jpeg & ../images/25_flipped.jpeg\t Hamming Distance: 47\t L2 Dist: 107.31651218242231\n",
      "../images/26.jpeg & ../images/26_flipped.jpeg\t Hamming Distance: 46\t L2 Dist: 68.12378707355366\n",
      "../images/27.jpeg & ../images/27_flipped.jpeg\t Hamming Distance: 39\t L2 Dist: 102.12102890396828\n",
      "../images/28.jpeg & ../images/28_flipped.jpeg\t Hamming Distance: 15\t L2 Dist: 81.78970690329294\n",
      "../images/29.jpeg & ../images/29_flipped.jpeg\t Hamming Distance: 35\t L2 Dist: 118.1689771419779\n",
      "../images/3.jpeg & ../images/3_flipped.jpeg\t Hamming Distance: 49\t L2 Dist: 115.87695677690557\n",
      "../images/30.jpeg & ../images/30_flipped.jpeg\t Hamming Distance: 37\t L2 Dist: 76.34686159668726\n",
      "../images/31.jpeg & ../images/31_flipped.jpeg\t Hamming Distance: 49\t L2 Dist: 143.86632171444114\n",
      "../images/32.jpeg & ../images/32_flipped.jpeg\t Hamming Distance: 38\t L2 Dist: 126.92915236200704\n",
      "../images/33.jpeg & ../images/33_flipped.jpeg\t Hamming Distance: 42\t L2 Dist: 114.28441449800783\n",
      "../images/34.jpeg & ../images/34_flipped.jpeg\t Hamming Distance: 21\t L2 Dist: 78.43624484866636\n",
      "../images/35.jpeg & ../images/35_flipped.jpeg\t Hamming Distance: 49\t L2 Dist: 107.2211950475927\n",
      "../images/36.jpeg & ../images/36_flipped.jpeg\t Hamming Distance: 56\t L2 Dist: 141.74610563302724\n",
      "../images/37.jpeg & ../images/37_flipped.jpeg\t Hamming Distance: 45\t L2 Dist: 180.0417382938578\n",
      "../images/38.jpeg & ../images/38_flipped.jpeg\t Hamming Distance: 56\t L2 Dist: 76.28054958696889\n",
      "../images/39.jpeg & ../images/39_flipped.jpeg\t Hamming Distance: 28\t L2 Dist: 73.37384557809283\n",
      "../images/4.jpeg & ../images/4_flipped.jpeg\t Hamming Distance: 51\t L2 Dist: 115.68599268824887\n",
      "../images/40.jpeg & ../images/40_flipped.jpeg\t Hamming Distance: 23\t L2 Dist: 122.25924397527747\n",
      "../images/41.jpeg & ../images/41_flipped.jpeg\t Hamming Distance: 47\t L2 Dist: 124.12903723715569\n",
      "../images/42.jpeg & ../images/42_flipped.jpeg\t Hamming Distance: 39\t L2 Dist: 100.19321840821024\n",
      "../images/43.jpeg & ../images/43_flipped.jpeg\t Hamming Distance: 34\t L2 Dist: 26.963197325169197\n",
      "../images/44.jpeg & ../images/44_flipped.jpeg\t Hamming Distance: 42\t L2 Dist: 75.02605386244352\n",
      "../images/45.jpeg & ../images/45_flipped.jpeg\t Hamming Distance: 44\t L2 Dist: 57.74337878195139\n",
      "../images/46.jpeg & ../images/46_flipped.jpeg\t Hamming Distance: 43\t L2 Dist: 113.14877849355746\n",
      "../images/47.jpeg & ../images/47_flipped.jpeg\t Hamming Distance: 49\t L2 Dist: 82.49677047959558\n",
      "../images/48.jpeg & ../images/48_flipped.jpeg\t Hamming Distance: 48\t L2 Dist: 110.14589416209841\n",
      "../images/49.jpeg & ../images/49_flipped.jpeg\t Hamming Distance: 34\t L2 Dist: 126.64339105032957\n",
      "../images/5.jpeg & ../images/5_flipped.jpeg\t Hamming Distance: 40\t L2 Dist: 149.4114735214085\n",
      "../images/50.jpeg & ../images/50_flipped.jpeg\t Hamming Distance: 50\t L2 Dist: 132.0105152918897\n",
      "../images/51.jpeg & ../images/51_flipped.jpeg\t Hamming Distance: 38\t L2 Dist: 125.63486575191295\n",
      "../images/52.jpeg & ../images/52_flipped.jpeg\t Hamming Distance: 43\t L2 Dist: 59.46539661725644\n",
      "../images/53.jpeg & ../images/53_flipped.jpeg\t Hamming Distance: 15\t L2 Dist: 67.26160636564889\n",
      "../images/54.jpeg & ../images/54_flipped.jpeg\t Hamming Distance: 50\t L2 Dist: 88.12511849090883\n",
      "../images/55.jpeg & ../images/55_flipped.jpeg\t Hamming Distance: 51\t L2 Dist: 82.0528940158676\n",
      "../images/56.jpeg & ../images/56_flipped.jpeg\t Hamming Distance: 25\t L2 Dist: 106.97319702960372\n",
      "../images/57.jpeg & ../images/57_flipped.jpeg\t Hamming Distance: 45\t L2 Dist: 106.80233521859589\n",
      "../images/58.jpeg & ../images/58_flipped.jpeg\t Hamming Distance: 57\t L2 Dist: 172.00279930306445\n",
      "../images/59.jpeg & ../images/59_flipped.jpeg\t Hamming Distance: 20\t L2 Dist: 89.50149092682928\n",
      "../images/6.jpeg & ../images/6_flipped.jpeg\t Hamming Distance: 37\t L2 Dist: 65.44583515766855\n",
      "../images/60.jpeg & ../images/60_flipped.jpeg\t Hamming Distance: 26\t L2 Dist: 98.58812734951026\n",
      "../images/61.jpeg & ../images/61_flipped.jpeg\t Hamming Distance: 34\t L2 Dist: 115.77851875719485\n",
      "../images/62.jpeg & ../images/62_flipped.jpeg\t Hamming Distance: 44\t L2 Dist: 88.44098317412954\n",
      "../images/63.jpeg & ../images/63_flipped.jpeg\t Hamming Distance: 13\t L2 Dist: 57.50028641086486\n",
      "../images/64.jpeg & ../images/64_flipped.jpeg\t Hamming Distance: 51\t L2 Dist: 120.8198506417967\n",
      "../images/65.jpeg & ../images/65_flipped.jpeg\t Hamming Distance: 42\t L2 Dist: 97.2801880474261\n",
      "../images/66.jpeg & ../images/66_flipped.jpeg\t Hamming Distance: 22\t L2 Dist: 109.87757613723218\n",
      "../images/67.jpeg & ../images/67_flipped.jpeg\t Hamming Distance: 50\t L2 Dist: 36.343781869606204\n",
      "../images/68.jpeg & ../images/68_flipped.jpeg\t Hamming Distance: 44\t L2 Dist: 69.82444928390326\n",
      "../images/69.jpeg & ../images/69_flipped.jpeg\t Hamming Distance: 41\t L2 Dist: 148.52456110631044\n",
      "../images/7.jpeg & ../images/7_flipped.jpeg\t Hamming Distance: 51\t L2 Dist: 176.4272015510509\n",
      "../images/70.jpeg & ../images/70_flipped.jpeg\t Hamming Distance: 58\t L2 Dist: 160.52320338047912\n",
      "../images/71.jpeg & ../images/71_flipped.jpeg\t Hamming Distance: 45\t L2 Dist: 130.90787155206934\n",
      "../images/72.jpeg & ../images/72_flipped.jpeg\t Hamming Distance: 40\t L2 Dist: 141.08310681865564\n",
      "../images/73.jpeg & ../images/73_flipped.jpeg\t Hamming Distance: 34\t L2 Dist: 82.55600473451061\n",
      "../images/74.jpeg & ../images/74_flipped.jpeg\t Hamming Distance: 48\t L2 Dist: 87.23408661168901\n",
      "../images/75.jpeg & ../images/75_flipped.jpeg\t Hamming Distance: 54\t L2 Dist: 75.90392610197951\n",
      "../images/76.jpeg & ../images/76_flipped.jpeg\t Hamming Distance: 39\t L2 Dist: 90.44207196537981\n",
      "../images/77.jpeg & ../images/77_flipped.jpeg\t Hamming Distance: 41\t L2 Dist: 49.75676244951181\n",
      "../images/78.jpeg & ../images/78_flipped.jpeg\t Hamming Distance: 48\t L2 Dist: 159.58918737624924\n",
      "../images/79.jpeg & ../images/79_flipped.jpeg\t Hamming Distance: 37\t L2 Dist: 108.40875791545633\n",
      "../images/8.jpeg & ../images/8_flipped.jpeg\t Hamming Distance: 39\t L2 Dist: 202.4090271490567\n",
      "../images/80.jpeg & ../images/80_flipped.jpeg\t Hamming Distance: 32\t L2 Dist: 114.85233432761099\n",
      "../images/81.jpeg & ../images/81_flipped.jpeg\t Hamming Distance: 47\t L2 Dist: 107.61763153615713\n",
      "../images/82.jpeg & ../images/82_flipped.jpeg\t Hamming Distance: 47\t L2 Dist: 134.1215318207956\n",
      "../images/83.jpeg & ../images/83_flipped.jpeg\t Hamming Distance: 22\t L2 Dist: 20.511752616160216\n",
      "../images/84.jpeg & ../images/84_flipped.jpeg\t Hamming Distance: 47\t L2 Dist: 89.32310723202272\n",
      "../images/85.jpeg & ../images/85_flipped.jpeg\t Hamming Distance: 40\t L2 Dist: 121.79645211493836\n",
      "../images/86.jpeg & ../images/86_flipped.jpeg\t Hamming Distance: 38\t L2 Dist: 93.04316584932724\n",
      "../images/87.jpeg & ../images/87_flipped.jpeg\t Hamming Distance: 52\t L2 Dist: 195.80712430079114\n",
      "../images/88.jpeg & ../images/88_flipped.jpeg\t Hamming Distance: 31\t L2 Dist: 111.33407979635611\n",
      "../images/89.jpeg & ../images/89_flipped.jpeg\t Hamming Distance: 47\t L2 Dist: 29.818363374096798\n",
      "../images/9.jpeg & ../images/9_flipped.jpeg\t Hamming Distance: 53\t L2 Dist: 131.4044219456866\n",
      "../images/90.jpeg & ../images/90_flipped.jpeg\t Hamming Distance: 30\t L2 Dist: 98.19567601558714\n",
      "../images/91.jpeg & ../images/91_flipped.jpeg\t Hamming Distance: 26\t L2 Dist: 67.59461257648533\n",
      "../images/92.jpeg & ../images/92_flipped.jpeg\t Hamming Distance: 40\t L2 Dist: 157.9961314794604\n",
      "../images/93.jpeg & ../images/93_flipped.jpeg\t Hamming Distance: 39\t L2 Dist: 97.27676509472649\n",
      "../images/94.jpeg & ../images/94_flipped.jpeg\t Hamming Distance: 36\t L2 Dist: 55.71005664491467\n",
      "../images/95.jpeg & ../images/95_flipped.jpeg\t Hamming Distance: 44\t L2 Dist: 133.71413407015527\n",
      "../images/96.jpeg & ../images/96_flipped.jpeg\t Hamming Distance: 45\t L2 Dist: 151.8740364161365\n",
      "../images/97.jpeg & ../images/97_flipped.jpeg\t Hamming Distance: 13\t L2 Dist: 65.39518175088612\n",
      "../images/98.jpeg & ../images/98_flipped.jpeg\t Hamming Distance: 17\t L2 Dist: 51.69142852697556\n",
      "../images/99.jpeg & ../images/99_flipped.jpeg\t Hamming Distance: 42\t L2 Dist: 104.27890079169201\n"
     ]
    }
   ],
   "source": [
    "# Original and flipped\n",
    "success = []\n",
    "for orig_path, flipped_path, orig_hash, flipped_hash in zip(original_paths, flipped_paths, original_hashes, flipped_hashes):\n",
    "    orig_img, flipped_img = utils.load_img(orig_path), utils.load_img(flipped_path)\n",
    "    hamming_dist, l2_dist = utils.distance(orig_hash, flipped_hash, \"hamming\"), utils.distance(orig_img, flipped_img, \"l2\")\n",
    "    print(f'{orig_path} & {flipped_path}\\t Hamming Distance: {hamming_dist}\\t L2 Dist: {l2_dist}')\n",
    "    if hamming_dist >= hamming_threshold and l2_dist < l2_threshold:\n",
    "        success.append(1)\n",
    "    else:\n",
    "        success.append(0)"
   ]
  },
  {
   "cell_type": "code",
   "execution_count": 20,
   "metadata": {},
   "outputs": [
    {
     "name": "stdout",
     "output_type": "stream",
     "text": [
      "ASR: 0.00%\n"
     ]
    }
   ],
   "source": [
    "flipped_asr = sum(success)/len(success)\n",
    "print(f'ASR: {100*flipped_asr:.2f}%')"
   ]
  },
  {
   "attachments": {},
   "cell_type": "markdown",
   "metadata": {},
   "source": [
    "### Compute the Hamming Distances and L2 Distortion between the Hashes of the Rotated Sets of Images"
   ]
  },
  {
   "cell_type": "code",
   "execution_count": 21,
   "metadata": {},
   "outputs": [
    {
     "name": "stdout",
     "output_type": "stream",
     "text": [
      "../images/1.jpeg & ../images/1_rotated.jpeg\t Hamming Distance: 50\t L2 Dist: 147.06508828484982\n",
      "../images/10.jpeg & ../images/10_rotated.jpeg\t Hamming Distance: 49\t L2 Dist: 179.8332227926498\n",
      "../images/100.jpeg & ../images/100_rotated.jpeg\t Hamming Distance: 52\t L2 Dist: 161.63155266172035\n",
      "../images/11.jpeg & ../images/11_rotated.jpeg\t Hamming Distance: 43\t L2 Dist: 134.77423690274256\n",
      "../images/12.jpeg & ../images/12_rotated.jpeg\t Hamming Distance: 51\t L2 Dist: 151.00527887581993\n",
      "../images/13.jpeg & ../images/13_rotated.jpeg\t Hamming Distance: 38\t L2 Dist: 95.09500783524895\n",
      "../images/14.jpeg & ../images/14_rotated.jpeg\t Hamming Distance: 42\t L2 Dist: 158.48739671449752\n",
      "../images/15.jpeg & ../images/15_rotated.jpeg\t Hamming Distance: 51\t L2 Dist: 130.66021539755306\n",
      "../images/16.jpeg & ../images/16_rotated.jpeg\t Hamming Distance: 48\t L2 Dist: 71.45827108152014\n",
      "../images/17.jpeg & ../images/17_rotated.jpeg\t Hamming Distance: 44\t L2 Dist: 127.75291607755523\n",
      "../images/18.jpeg & ../images/18_rotated.jpeg\t Hamming Distance: 48\t L2 Dist: 81.51092661262086\n",
      "../images/19.jpeg & ../images/19_rotated.jpeg\t Hamming Distance: 49\t L2 Dist: 146.68558869236472\n",
      "../images/2.jpeg & ../images/2_rotated.jpeg\t Hamming Distance: 55\t L2 Dist: 170.80039554187522\n",
      "../images/20.jpeg & ../images/20_rotated.jpeg\t Hamming Distance: 56\t L2 Dist: 107.92437154361632\n",
      "../images/21.jpeg & ../images/21_rotated.jpeg\t Hamming Distance: 43\t L2 Dist: 172.135907876507\n",
      "../images/22.jpeg & ../images/22_rotated.jpeg\t Hamming Distance: 49\t L2 Dist: 137.00863015385923\n",
      "../images/23.jpeg & ../images/23_rotated.jpeg\t Hamming Distance: 51\t L2 Dist: 74.31565831208205\n",
      "../images/24.jpeg & ../images/24_rotated.jpeg\t Hamming Distance: 40\t L2 Dist: 124.1127358319554\n",
      "../images/25.jpeg & ../images/25_rotated.jpeg\t Hamming Distance: 53\t L2 Dist: 110.76956771546998\n",
      "../images/26.jpeg & ../images/26_rotated.jpeg\t Hamming Distance: 42\t L2 Dist: 117.63842837622707\n",
      "../images/27.jpeg & ../images/27_rotated.jpeg\t Hamming Distance: 57\t L2 Dist: 114.76016848481528\n",
      "../images/28.jpeg & ../images/28_rotated.jpeg\t Hamming Distance: 52\t L2 Dist: 194.939454791002\n",
      "../images/29.jpeg & ../images/29_rotated.jpeg\t Hamming Distance: 50\t L2 Dist: 130.10237574224539\n",
      "../images/3.jpeg & ../images/3_rotated.jpeg\t Hamming Distance: 42\t L2 Dist: 113.68518548807813\n",
      "../images/30.jpeg & ../images/30_rotated.jpeg\t Hamming Distance: 56\t L2 Dist: 109.04323583704348\n",
      "../images/31.jpeg & ../images/31_rotated.jpeg\t Hamming Distance: 49\t L2 Dist: 148.96660899651351\n",
      "../images/32.jpeg & ../images/32_rotated.jpeg\t Hamming Distance: 33\t L2 Dist: 155.83077430066922\n",
      "../images/33.jpeg & ../images/33_rotated.jpeg\t Hamming Distance: 57\t L2 Dist: 122.81891121460133\n",
      "../images/34.jpeg & ../images/34_rotated.jpeg\t Hamming Distance: 48\t L2 Dist: 95.89608145832284\n",
      "../images/35.jpeg & ../images/35_rotated.jpeg\t Hamming Distance: 55\t L2 Dist: 116.46394521227016\n",
      "../images/36.jpeg & ../images/36_rotated.jpeg\t Hamming Distance: 49\t L2 Dist: 127.97334773944108\n",
      "../images/37.jpeg & ../images/37_rotated.jpeg\t Hamming Distance: 52\t L2 Dist: 165.4009817606781\n",
      "../images/38.jpeg & ../images/38_rotated.jpeg\t Hamming Distance: 57\t L2 Dist: 100.6000157455821\n",
      "../images/39.jpeg & ../images/39_rotated.jpeg\t Hamming Distance: 51\t L2 Dist: 130.48560007226277\n",
      "../images/4.jpeg & ../images/4_rotated.jpeg\t Hamming Distance: 51\t L2 Dist: 119.01337535769296\n",
      "../images/40.jpeg & ../images/40_rotated.jpeg\t Hamming Distance: 34\t L2 Dist: 153.16188554399093\n",
      "../images/41.jpeg & ../images/41_rotated.jpeg\t Hamming Distance: 45\t L2 Dist: 118.35363011271578\n",
      "../images/42.jpeg & ../images/42_rotated.jpeg\t Hamming Distance: 58\t L2 Dist: 155.40312974185235\n",
      "../images/43.jpeg & ../images/43_rotated.jpeg\t Hamming Distance: 46\t L2 Dist: 139.70045523685462\n",
      "../images/44.jpeg & ../images/44_rotated.jpeg\t Hamming Distance: 52\t L2 Dist: 86.38585070395054\n",
      "../images/45.jpeg & ../images/45_rotated.jpeg\t Hamming Distance: 45\t L2 Dist: 150.35676378787304\n",
      "../images/46.jpeg & ../images/46_rotated.jpeg\t Hamming Distance: 43\t L2 Dist: 115.89926720391935\n",
      "../images/47.jpeg & ../images/47_rotated.jpeg\t Hamming Distance: 51\t L2 Dist: 113.53136203409846\n",
      "../images/48.jpeg & ../images/48_rotated.jpeg\t Hamming Distance: 43\t L2 Dist: 156.04797865296277\n",
      "../images/49.jpeg & ../images/49_rotated.jpeg\t Hamming Distance: 60\t L2 Dist: 130.8957339418085\n",
      "../images/5.jpeg & ../images/5_rotated.jpeg\t Hamming Distance: 42\t L2 Dist: 139.77840517356108\n",
      "../images/50.jpeg & ../images/50_rotated.jpeg\t Hamming Distance: 60\t L2 Dist: 175.50256365664572\n",
      "../images/51.jpeg & ../images/51_rotated.jpeg\t Hamming Distance: 40\t L2 Dist: 131.99959234729894\n",
      "../images/52.jpeg & ../images/52_rotated.jpeg\t Hamming Distance: 47\t L2 Dist: 60.27766955627403\n",
      "../images/53.jpeg & ../images/53_rotated.jpeg\t Hamming Distance: 43\t L2 Dist: 128.78801963809562\n",
      "../images/54.jpeg & ../images/54_rotated.jpeg\t Hamming Distance: 40\t L2 Dist: 102.6893758494129\n",
      "../images/55.jpeg & ../images/55_rotated.jpeg\t Hamming Distance: 44\t L2 Dist: 85.66202501573731\n",
      "../images/56.jpeg & ../images/56_rotated.jpeg\t Hamming Distance: 44\t L2 Dist: 136.28731591683174\n",
      "../images/57.jpeg & ../images/57_rotated.jpeg\t Hamming Distance: 43\t L2 Dist: 181.00656488675435\n",
      "../images/58.jpeg & ../images/58_rotated.jpeg\t Hamming Distance: 55\t L2 Dist: 164.34165877032478\n",
      "../images/59.jpeg & ../images/59_rotated.jpeg\t Hamming Distance: 49\t L2 Dist: 172.49936816827577\n",
      "../images/6.jpeg & ../images/6_rotated.jpeg\t Hamming Distance: 46\t L2 Dist: 81.51231908273587\n",
      "../images/60.jpeg & ../images/60_rotated.jpeg\t Hamming Distance: 34\t L2 Dist: 100.17831568116596\n",
      "../images/61.jpeg & ../images/61_rotated.jpeg\t Hamming Distance: 43\t L2 Dist: 146.00013577490046\n",
      "../images/62.jpeg & ../images/62_rotated.jpeg\t Hamming Distance: 48\t L2 Dist: 98.91874008275546\n",
      "../images/63.jpeg & ../images/63_rotated.jpeg\t Hamming Distance: 48\t L2 Dist: 132.81584311168075\n",
      "../images/64.jpeg & ../images/64_rotated.jpeg\t Hamming Distance: 48\t L2 Dist: 128.29789387685193\n",
      "../images/65.jpeg & ../images/65_rotated.jpeg\t Hamming Distance: 50\t L2 Dist: 110.34204811266255\n",
      "../images/66.jpeg & ../images/66_rotated.jpeg\t Hamming Distance: 42\t L2 Dist: 127.42364575652252\n",
      "../images/67.jpeg & ../images/67_rotated.jpeg\t Hamming Distance: 51\t L2 Dist: 45.12453748375379\n",
      "../images/68.jpeg & ../images/68_rotated.jpeg\t Hamming Distance: 40\t L2 Dist: 71.56030324944776\n",
      "../images/69.jpeg & ../images/69_rotated.jpeg\t Hamming Distance: 55\t L2 Dist: 206.0633708419914\n",
      "../images/7.jpeg & ../images/7_rotated.jpeg\t Hamming Distance: 55\t L2 Dist: 162.71432706972942\n",
      "../images/70.jpeg & ../images/70_rotated.jpeg\t Hamming Distance: 54\t L2 Dist: 158.41575461750585\n",
      "../images/71.jpeg & ../images/71_rotated.jpeg\t Hamming Distance: 49\t L2 Dist: 133.26968601989137\n",
      "../images/72.jpeg & ../images/72_rotated.jpeg\t Hamming Distance: 44\t L2 Dist: 172.6172762945658\n",
      "../images/73.jpeg & ../images/73_rotated.jpeg\t Hamming Distance: 59\t L2 Dist: 138.82566277301387\n",
      "../images/74.jpeg & ../images/74_rotated.jpeg\t Hamming Distance: 44\t L2 Dist: 114.89907417907895\n",
      "../images/75.jpeg & ../images/75_rotated.jpeg\t Hamming Distance: 52\t L2 Dist: 78.58758208801298\n",
      "../images/76.jpeg & ../images/76_rotated.jpeg\t Hamming Distance: 49\t L2 Dist: 108.74137121236033\n",
      "../images/77.jpeg & ../images/77_rotated.jpeg\t Hamming Distance: 42\t L2 Dist: 47.791878841478386\n",
      "../images/78.jpeg & ../images/78_rotated.jpeg\t Hamming Distance: 49\t L2 Dist: 157.10922850326898\n",
      "../images/79.jpeg & ../images/79_rotated.jpeg\t Hamming Distance: 52\t L2 Dist: 121.60214585358833\n",
      "../images/8.jpeg & ../images/8_rotated.jpeg\t Hamming Distance: 54\t L2 Dist: 210.8463061050628\n",
      "../images/80.jpeg & ../images/80_rotated.jpeg\t Hamming Distance: 49\t L2 Dist: 141.4287030517659\n",
      "../images/81.jpeg & ../images/81_rotated.jpeg\t Hamming Distance: 49\t L2 Dist: 114.83487836338094\n",
      "../images/82.jpeg & ../images/82_rotated.jpeg\t Hamming Distance: 51\t L2 Dist: 183.15396812514135\n",
      "../images/83.jpeg & ../images/83_rotated.jpeg\t Hamming Distance: 46\t L2 Dist: 51.56708355252503\n",
      "../images/84.jpeg & ../images/84_rotated.jpeg\t Hamming Distance: 48\t L2 Dist: 95.35306963739023\n",
      "../images/85.jpeg & ../images/85_rotated.jpeg\t Hamming Distance: 40\t L2 Dist: 129.3225139649775\n",
      "../images/86.jpeg & ../images/86_rotated.jpeg\t Hamming Distance: 47\t L2 Dist: 122.26891005803134\n",
      "../images/87.jpeg & ../images/87_rotated.jpeg\t Hamming Distance: 47\t L2 Dist: 183.8470129418165\n",
      "../images/88.jpeg & ../images/88_rotated.jpeg\t Hamming Distance: 51\t L2 Dist: 121.26451614471884\n",
      "../images/89.jpeg & ../images/89_rotated.jpeg\t Hamming Distance: 47\t L2 Dist: 41.22477577428137\n",
      "../images/9.jpeg & ../images/9_rotated.jpeg\t Hamming Distance: 49\t L2 Dist: 124.99365329522956\n",
      "../images/90.jpeg & ../images/90_rotated.jpeg\t Hamming Distance: 40\t L2 Dist: 119.02489344466026\n",
      "../images/91.jpeg & ../images/91_rotated.jpeg\t Hamming Distance: 48\t L2 Dist: 124.23946238549156\n",
      "../images/92.jpeg & ../images/92_rotated.jpeg\t Hamming Distance: 52\t L2 Dist: 173.6629966825467\n",
      "../images/93.jpeg & ../images/93_rotated.jpeg\t Hamming Distance: 51\t L2 Dist: 137.04758785890647\n",
      "../images/94.jpeg & ../images/94_rotated.jpeg\t Hamming Distance: 47\t L2 Dist: 63.75964104525502\n",
      "../images/95.jpeg & ../images/95_rotated.jpeg\t Hamming Distance: 51\t L2 Dist: 131.93038107936675\n",
      "../images/96.jpeg & ../images/96_rotated.jpeg\t Hamming Distance: 45\t L2 Dist: 167.5070105093515\n",
      "../images/97.jpeg & ../images/97_rotated.jpeg\t Hamming Distance: 53\t L2 Dist: 107.61389031484909\n",
      "../images/98.jpeg & ../images/98_rotated.jpeg\t Hamming Distance: 53\t L2 Dist: 79.02337742188935\n",
      "../images/99.jpeg & ../images/99_rotated.jpeg\t Hamming Distance: 51\t L2 Dist: 134.46697871972924\n"
     ]
    }
   ],
   "source": [
    "# Original and rotated\n",
    "for orig_path, rotated_path, orig_hash, rotated_hash in zip(original_paths, rotated_paths, original_hashes, rotated_hashes):\n",
    "    orig_img, rotated_img = utils.load_img(orig_path), utils.load_img(rotated_path)\n",
    "    hamming_dist, l2_dist = utils.distance(orig_hash, rotated_hash, \"hamming\"), utils.distance(orig_img, rotated_img, \"l2\")\n",
    "    print(f'{orig_path} & {rotated_path}\\t Hamming Distance: {hamming_dist}\\t L2 Dist: {l2_dist}')\n",
    "    if hamming_dist >= hamming_threshold and l2_dist < l2_threshold:\n",
    "        success.append(1)\n",
    "    else:\n",
    "        success.append(0)"
   ]
  },
  {
   "cell_type": "code",
   "execution_count": 22,
   "metadata": {},
   "outputs": [
    {
     "name": "stdout",
     "output_type": "stream",
     "text": [
      "ASR: 0.00%\n"
     ]
    }
   ],
   "source": [
    "rotated_asr = sum(success)/len(success)\n",
    "print(f'ASR: {100*rotated_asr:.2f}%')"
   ]
  },
  {
   "cell_type": "code",
   "execution_count": null,
   "metadata": {},
   "outputs": [],
   "source": []
  }
 ],
 "metadata": {
  "kernelspec": {
   "display_name": "nhash",
   "language": "python",
   "name": "python3"
  },
  "language_info": {
   "codemirror_mode": {
    "name": "ipython",
    "version": 3
   },
   "file_extension": ".py",
   "mimetype": "text/x-python",
   "name": "python",
   "nbconvert_exporter": "python",
   "pygments_lexer": "ipython3",
   "version": "3.9.16"
  },
  "orig_nbformat": 4
 },
 "nbformat": 4,
 "nbformat_minor": 2
}
