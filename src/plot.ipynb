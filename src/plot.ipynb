{
 "cells": [
  {
   "cell_type": "code",
   "execution_count": null,
   "metadata": {},
   "outputs": [],
   "source": [
    "import matplotlib.pyplot as plt\n",
    "import numpy as np\n"
   ]
  },
  {
   "cell_type": "markdown",
   "metadata": {},
   "source": [
    "# Joint Attack"
   ]
  },
  {
   "cell_type": "markdown",
   "metadata": {},
   "source": [
    "## Queries vs Stepsize"
   ]
  },
  {
   "cell_type": "code",
   "execution_count": null,
   "metadata": {},
   "outputs": [],
   "source": [
    "stepsizes = [0.7, 0.8, 0.9]\n",
    "x = np.arange(len(stepsizes))\n",
    "queries_by_hamm_thresh = {\n",
    "    \"Hamming Threshold = 1\": np.array([1234, 1093, 1062]),\n",
    "    \"Hamming Threshold = 5\": np.array([1350, 1235, 1146]),\n",
    "    \"Hamming Threshold = 10\": np.array([3229, 3192, 3024]),\n",
    "    \"Hamming Threshold = 19\": np.array([4494, 4202, 3495])\n",
    "}\n",
    "width = 0.20\n",
    "multiplier = 0\n",
    "\n",
    "fig, ax= plt.subplots(layout='constrained')\n",
    "for attribute, measurement in queries_by_hamm_thresh.items():\n",
    "    offset = width*multiplier\n",
    "    rects = ax.bar(x + offset, measurement, width, label=attribute)\n",
    "    ax.bar_label(rects, padding=3)\n",
    "    multiplier += 1\n",
    "fig.set_figwidth(8)\n",
    "ax.set_ylabel('Queries')\n",
    "ax.set_xlabel('Stepsize')\n",
    "ax.set_xticks(x+width, stepsizes)\n",
    "ax.legend(loc='upper right')\n",
    "ax.set_ylim(0, 5000)\n",
    "plt.show()"
   ]
  },
  {
   "cell_type": "markdown",
   "metadata": {},
   "source": [
    "## ASR vs Hamming Threshold"
   ]
  },
  {
   "cell_type": "code",
   "execution_count": null,
   "metadata": {},
   "outputs": [],
   "source": [
    "\n",
    "hamming_thresholds = [1, 5, 10, 19]\n",
    "x = np.arange(len(hamming_thresholds))\n",
    "asr_by_stepsize = {\n",
    "    \"Stepsize = 0.7\": np.array([99, 89, 81, 54]),\n",
    "    \"Stepsize = 0.8\": np.array([97, 90, 82, 55]),\n",
    "    \"Stepsize = 0.9\": np.array([99, 91, 84, 55])\n",
    "}\n",
    "width = 0.20\n",
    "multiplier = 0\n",
    "\n",
    "fig, ax = plt.subplots(layout='constrained')\n",
    "for attribute, measurement in asr_by_stepsize.items():\n",
    "    offset = width*multiplier\n",
    "    rects = ax.bar(x + offset, measurement, width, label=attribute)\n",
    "    ax.bar_label(rects, padding=3)\n",
    "    multiplier += 1\n",
    "ax.set_ylabel('Attack Success Rate (%)')\n",
    "ax.set_xlabel('Hamming Threshold (/96)')\n",
    "ax.set_xticks(x+width, hamming_thresholds)\n",
    "ax.legend(loc='upper right')\n",
    "ax.set_ylim(0, 110)\n",
    "plt.show()\n"
   ]
  }
 ],
 "metadata": {
  "kernelspec": {
   "display_name": "nhash",
   "language": "python",
   "name": "python3"
  },
  "language_info": {
   "codemirror_mode": {
    "name": "ipython",
    "version": 3
   },
   "file_extension": ".py",
   "mimetype": "text/x-python",
   "name": "python",
   "nbconvert_exporter": "python",
   "pygments_lexer": "ipython3",
   "version": "3.9.16"
  },
  "orig_nbformat": 4
 },
 "nbformat": 4,
 "nbformat_minor": 2
}
