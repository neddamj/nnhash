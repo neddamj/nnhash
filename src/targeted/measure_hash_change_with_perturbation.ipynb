{
 "cells": [
  {
   "cell_type": "code",
   "execution_count": null,
   "metadata": {},
   "outputs": [],
   "source": [
    "# Attack imports\n",
    "from simba_test import simba_measure_dist\n",
    "\n",
    "# Helper imports\n",
    "from data import CIFAR10, IMAGENETTE\n",
    "import utils\n",
    "\n",
    "# Numerical computing and display imports\n",
    "import matplotlib.pyplot as plt\n",
    "from PIL import Image\n",
    "import numpy as np\n",
    "\n",
    "# Other imports\n",
    "from datetime import datetime\n",
    "import logging\n",
    "import pickle\n",
    "import os"
   ]
  },
  {
   "cell_type": "code",
   "execution_count": null,
   "metadata": {},
   "outputs": [],
   "source": [
    "# Load and Prepare the Data\n",
    "folder_path = '../../images/'\n",
    "dataset = 'imagenette'    \n",
    "if dataset == 'cifar10':\n",
    "    images = CIFAR10()\n",
    "if dataset == 'imagenette':\n",
    "    images = IMAGENETTE()\n",
    "x = images.load()\n",
    "images.save_to_disk(x, folder_path, num_images=100)\n",
    "folder_path = utils.move_data_to_temp_ram(folder_path, ram_size_mb=50)"
   ]
  },
  {
   "cell_type": "code",
   "execution_count": null,
   "metadata": {},
   "outputs": [],
   "source": [
    "# SIMBA Hyperparams\n",
    "simba_epsilon = 0.9\n",
    "simba_hamming_threshold = 1.0                          \n",
    "simba_max_steps = 20000"
   ]
  },
  {
   "cell_type": "code",
   "execution_count": null,
   "metadata": {},
   "outputs": [],
   "source": [
    "results = list()\n",
    "\n",
    "for i in range(3):\n",
    "    # Format the path to the input image and target image\n",
    "    img_path = '../../images/1.jpeg' \n",
    "    _, _, _, _, path, filetype = img_path.split('.')\n",
    "    img_path = path.split('/')\n",
    "    img_path = f'{folder_path}{img_path[2]}.{filetype}'\n",
    "\n",
    "    target_img_path = f'../../images/{i+2}.jpeg' \n",
    "    _, _, _, _, path, filetype = target_img_path.split('.')\n",
    "    target_img_path = path.split('/')\n",
    "    target_img_path = f'{folder_path}{target_img_path[2]}.{filetype}'\n",
    "\n",
    "\n",
    "    (orig_add, orig_sub), (target_add, target_sub) = simba_measure_dist(\n",
    "                                    img_path=img_path, \n",
    "                                    target_path=target_img_path,\n",
    "                                    eps=simba_epsilon, \n",
    "                                    mismatched_threshold=simba_hamming_threshold, \n",
    "                                    max_steps=simba_max_steps\n",
    "                                    )\n",
    "     \n",
    "    attack_data = {\n",
    "        'Image Path': img_path,\n",
    "        'Target Path': target_img_path,\n",
    "        'Add Dist from Orig': orig_add,\n",
    "        'Add Dist to Target': target_add,\n",
    "        'Sub Dist from Orig': orig_sub,\n",
    "        'Sub Dist to Target': target_sub\n",
    "    }\n",
    "    results.append(attack_data)\n",
    "    \n",
    "# Save the results\n",
    "file_path = 'results/orig_target_hamming_dists.pkl'\n",
    "with open(file_path, 'wb') as file:\n",
    "    pickle.dump(results, file)"
   ]
  },
  {
   "cell_type": "code",
   "execution_count": null,
   "metadata": {},
   "outputs": [],
   "source": [
    "file_path = 'results/orig_target_hamming_dists.pkl'\n",
    "info = pickle.load(open(file_path, \"rb\"))\n",
    "info[0].keys()"
   ]
  },
  {
   "cell_type": "code",
   "execution_count": null,
   "metadata": {},
   "outputs": [],
   "source": [
    "def plot_results(info, type='Add'):\n",
    "    avg_dist_from_orig = np.array([np.array(result[f'{type} Dist from Orig']) for result in info]).mean(axis=0)\n",
    "    avg_dist_to_target = np.array([np.array(result[f'{type} Dist to Target']) for result in info]).mean(axis=0)\n",
    "    steps = np.linspace(1, len(avg_dist_from_orig), num=len(avg_dist_from_orig))\n",
    "    plt.plot(steps, avg_dist_from_orig, label='Hamming Distance from Original Hash')\n",
    "    plt.plot(steps, avg_dist_to_target, label='Hamming Distance to Target Hash')\n",
    "    #plt.title(f'Average Hamming Distances Relative to Original and Target {type} Image')\n",
    "    plt.legend()\n",
    "    plt.grid()"
   ]
  },
  {
   "cell_type": "code",
   "execution_count": null,
   "metadata": {},
   "outputs": [],
   "source": [
    "plot_results(info, 'Add')"
   ]
  },
  {
   "cell_type": "code",
   "execution_count": null,
   "metadata": {},
   "outputs": [],
   "source": [
    "plot_results(info, 'Sub')"
   ]
  },
  {
   "cell_type": "code",
   "execution_count": null,
   "metadata": {},
   "outputs": [],
   "source": []
  }
 ],
 "metadata": {
  "kernelspec": {
   "display_name": "Python 3 (ipykernel)",
   "language": "python",
   "name": "python3"
  },
  "language_info": {
   "codemirror_mode": {
    "name": "ipython",
    "version": 3
   },
   "file_extension": ".py",
   "mimetype": "text/x-python",
   "name": "python",
   "nbconvert_exporter": "python",
   "pygments_lexer": "ipython3",
   "version": "3.9.16"
  }
 },
 "nbformat": 4,
 "nbformat_minor": 2
}
