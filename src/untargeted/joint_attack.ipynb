{
 "cells": [
  {
   "cell_type": "code",
   "execution_count": null,
   "metadata": {},
   "outputs": [],
   "source": [
    "# Attack imports\n",
    "from simba import simba_attack_image\n",
    "from hsja import hop_skip_jump_attack\n",
    "\n",
    "# Helper imports\n",
    "from data import CIFAR10, IMAGENETTE\n",
    "import utils\n",
    "\n",
    "# Numerical computing and display imports\n",
    "import matplotlib.pyplot as plt\n",
    "from PIL import Image\n",
    "import pandas as pd\n",
    "import numpy as np\n",
    "\n",
    "# Other imports\n",
    "from datetime import datetime\n",
    "import logging\n",
    "import os"
   ]
  },
  {
   "cell_type": "code",
   "execution_count": null,
   "metadata": {},
   "outputs": [],
   "source": [
    "# Load and Prepare the Data\n",
    "folder_path = '../../images/'\n",
    "dataset = 'imagenette'    \n",
    "if dataset == 'cifar10':\n",
    "    images = CIFAR10()\n",
    "if dataset == 'imagenette':\n",
    "    images = IMAGENETTE()\n",
    "x = images.load()\n",
    "images.save_to_disk(x, folder_path, num_images=100)\n",
    "folder_path = utils.move_data_to_temp_ram(folder_path, ram_size_mb=50)"
   ]
  },
  {
   "cell_type": "code",
   "execution_count": null,
   "metadata": {},
   "outputs": [],
   "source": [
    "# SIMBA Hyperparams\n",
    "simba_epsilon = 0.6\n",
    "simba_hamming_threshold = 23                                # <= 5% - 10 & 10% - 20 & 20% - 23 \n",
    "simba_max_steps = 7000\n",
    "\n",
    "# HSJA Hyperparams\n",
    "hsja_max_steps = 10\n",
    "hsja_grad_queries = 20\n",
    "hsja_l2_threshold = 24                                       # <=5% - 16 & >10% - 24\n",
    "hsja_hamming_threshold = int(0.2  * 96 + 0.5)                # 5% ~ 5 & 10% ~ 10 & 50% = 48\n",
    "\n",
    "# Other params\n",
    "ssim_threshold = 0.9"
   ]
  },
  {
   "cell_type": "code",
   "execution_count": null,
   "metadata": {},
   "outputs": [],
   "source": [
    "# Configure logging\n",
    "now = datetime.now()\n",
    "dt_string = now.strftime(\"%d-%m-%Y_%H:%M:%S\")\n",
    "logging.basicConfig(filename='../../logs/untargeted/Eps-{simba_epsilon}_Bits-{simba_hamming_threshold}_{dt_string}.log',\n",
    "                    format='%(asctime)s %(message)s',\n",
    "                    level='DEBUG',\n",
    "                    filemode='w',\n",
    "                    force=True)\n",
    "logger = logging.getLogger()\n",
    "logger.info(f'Epsilon: {simba_epsilon}\\tMismatched Bits Threshold: {simba_hamming_threshold}\\n')"
   ]
  },
  {
   "cell_type": "code",
   "execution_count": null,
   "metadata": {},
   "outputs": [],
   "source": [
    "def joint_attack(img_path,\n",
    "           epsilon, \n",
    "           logger,\n",
    "           max_mismatched_bits,\n",
    "           simba_max_steps,\n",
    "           hsja_max_steps,\n",
    "           grad_queries,\n",
    "           l2_threshold,\n",
    "           hamming_threshold):\n",
    "    # Soft-label attack\n",
    "    (simba_filename, simba_queries) = simba_attack_image(img_path=img_path, \n",
    "                                          eps=epsilon, \n",
    "                                          logger=logger,\n",
    "                                          mismatched_threshold=max_mismatched_bits, \n",
    "                                          max_steps=simba_max_steps)\n",
    "    # Hard-label attack\n",
    "    (adv_img, hsja_queries) = hop_skip_jump_attack(orig_img_path=img_path, \n",
    "                                target_img_path=simba_filename, \n",
    "                                max_iters=hsja_max_steps, \n",
    "                                grad_queries=grad_queries, \n",
    "                                l2_threshold=l2_threshold, \n",
    "                                hamming_threshold=hamming_threshold)\n",
    "    # Load the original image as well as the noisy adv. image outputted by simba\n",
    "    orig_img, simba_img = utils.load_img(img_path), utils.load_img(simba_filename)\n",
    "    return orig_img, simba_img, adv_img, simba_queries, hsja_queries"
   ]
  },
  {
   "cell_type": "code",
   "execution_count": null,
   "metadata": {},
   "outputs": [],
   "source": [
    "for i in range(100):\n",
    "    # Format the path to the input image\n",
    "    img_path = f'../../images/{i+1}.jpeg' \n",
    "    _, _, _, _, path, filetype = img_path.split('.')\n",
    "    img_path = path.split('/')\n",
    "    img_path = f'{folder_path}{img_path[2]}.{filetype}'\n",
    "\n",
    "    # Attack NeuralHash \n",
    "    orig_img, simba_img, adv_img, simba_num_queries, hsja_num_queries = joint_attack(img_path, \n",
    "                                                                            simba_epsilon, \n",
    "                                                                            logger, \n",
    "                                                                            simba_hamming_threshold, \n",
    "                                                                            simba_max_steps, \n",
    "                                                                            hsja_max_steps, \n",
    "                                                                            hsja_grad_queries, \n",
    "                                                                            hsja_l2_threshold, \n",
    "                                                                            hsja_hamming_threshold)\n",
    "\n",
    "    # Attack Metrics\n",
    "    orig_hash  = utils.compute_hash(orig_img)\n",
    "    simba_hash = utils.compute_hash(simba_img)\n",
    "    adv_hash = utils.compute_hash(adv_img)\n",
    "    simba_hamming_dist = utils.distance(orig_hash, simba_hash, \"hamming\")\n",
    "    final_hamming_dist = utils.distance(orig_hash, adv_hash, \"hamming\")\n",
    "    simba_l2_dist = utils.distance(orig_img, simba_img, 'l2')\n",
    "    final_l2_dist = utils.distance(orig_img, adv_img, 'l2')\n",
    "    final_ssim = utils.distance(orig_img, adv_img.astype(np.uint8), 'ssim')\n",
    "    total_queries = simba_num_queries + hsja_num_queries\n",
    "    success = (final_hamming_dist >= hsja_hamming_threshold) and (final_l2_dist < hsja_l2_threshold)\n",
    "\n",
    "    attack_metrics = {\n",
    "        'Image Path': [img_path],\n",
    "        'Success': [success],\n",
    "        'Queries': [total_queries],\n",
    "        'Simba L2': [simba_l2_dist],\n",
    "        'Final L2': [final_l2_dist],\n",
    "        'Final SSIM': [final_ssim],\n",
    "        'Simba Hamming': [simba_hamming_dist],\n",
    "        'Final Hamming': [final_hamming_dist]\n",
    "    }\n",
    "\n",
    "    # Save the results\n",
    "    df = pd.DataFrame.from_dict(attack_metrics)\n",
    "    file_path = f'metrics/{simba_epsilon}/hamm_{hsja_hamming_threshold}_l2_{hsja_l2_threshold}_{dt_string}.csv'\n",
    "    if os.path.exists(file_path):\n",
    "        df.to_csv(file_path, mode='a', index=False, header=False)\n",
    "    else: \n",
    "        df.to_csv(file_path, index=False, header=True)\n"
   ]
  },
  {
   "cell_type": "code",
   "execution_count": null,
   "metadata": {},
   "outputs": [],
   "source": [
    "def plot_results(orig_img, simba_img, adv_img, hamming_threshold):\n",
    "    fig, (ax1, ax2, ax3) = plt.subplots(1, 3, figsize=(15,6))\n",
    "    fig.suptitle(f'Hamming Threshold: {hamming_threshold}')\n",
    "    ax1.imshow(orig_img)\n",
    "    ax1.set_title('Orginal Image')\n",
    "    ax2.imshow(simba_img)\n",
    "    ax2.set_title('Noisy Simba Image')\n",
    "    ax3.imshow(adv_img.astype(np.uint8))\n",
    "    ax3.set_title('Denoised Final Image')"
   ]
  },
  {
   "cell_type": "code",
   "execution_count": null,
   "metadata": {},
   "outputs": [],
   "source": [
    "# Show the images/results\n",
    "plot_results(orig_img, simba_img, adv_img, hsja_hamming_threshold)"
   ]
  },
  {
   "cell_type": "code",
   "execution_count": null,
   "metadata": {},
   "outputs": [],
   "source": []
  }
 ],
 "metadata": {
  "kernelspec": {
   "display_name": "Python 3 (ipykernel)",
   "language": "python",
   "name": "python3"
  },
  "language_info": {
   "codemirror_mode": {
    "name": "ipython",
    "version": 3
   },
   "file_extension": ".py",
   "mimetype": "text/x-python",
   "name": "python",
   "nbconvert_exporter": "python",
   "pygments_lexer": "ipython3",
   "version": "3.9.16"
  }
 },
 "nbformat": 4,
 "nbformat_minor": 2
}
