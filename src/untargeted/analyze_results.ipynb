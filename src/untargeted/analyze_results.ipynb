{
 "cells": [
  {
   "cell_type": "code",
   "execution_count": 9,
   "metadata": {},
   "outputs": [],
   "source": [
    "import matplotlib.pyplot as plt\n",
    "import pandas as pd\n",
    "import numpy as np"
   ]
  },
  {
   "cell_type": "code",
   "execution_count": 2,
   "metadata": {},
   "outputs": [
    {
     "data": {
      "text/html": [
       "<div>\n",
       "<style scoped>\n",
       "    .dataframe tbody tr th:only-of-type {\n",
       "        vertical-align: middle;\n",
       "    }\n",
       "\n",
       "    .dataframe tbody tr th {\n",
       "        vertical-align: top;\n",
       "    }\n",
       "\n",
       "    .dataframe thead th {\n",
       "        text-align: right;\n",
       "    }\n",
       "</style>\n",
       "<table border=\"1\" class=\"dataframe\">\n",
       "  <thead>\n",
       "    <tr style=\"text-align: right;\">\n",
       "      <th></th>\n",
       "      <th>Image Path</th>\n",
       "      <th>Success</th>\n",
       "      <th>Queries</th>\n",
       "      <th>Simba L2</th>\n",
       "      <th>Final L2</th>\n",
       "      <th>Simba Hamming</th>\n",
       "      <th>Final Hamming</th>\n",
       "    </tr>\n",
       "  </thead>\n",
       "  <tbody>\n",
       "    <tr>\n",
       "      <th>0</th>\n",
       "      <td>/Volumes/TempRAM/1.jpeg</td>\n",
       "      <td>1</td>\n",
       "      <td>5002</td>\n",
       "      <td>23.991479</td>\n",
       "      <td>18.838258</td>\n",
       "      <td>13</td>\n",
       "      <td>10</td>\n",
       "    </tr>\n",
       "    <tr>\n",
       "      <th>1</th>\n",
       "      <td>/Volumes/TempRAM/2.jpeg</td>\n",
       "      <td>1</td>\n",
       "      <td>1860</td>\n",
       "      <td>17.902519</td>\n",
       "      <td>17.902519</td>\n",
       "      <td>11</td>\n",
       "      <td>11</td>\n",
       "    </tr>\n",
       "    <tr>\n",
       "      <th>2</th>\n",
       "      <td>/Volumes/TempRAM/3.jpeg</td>\n",
       "      <td>1</td>\n",
       "      <td>1528</td>\n",
       "      <td>22.336118</td>\n",
       "      <td>15.972139</td>\n",
       "      <td>16</td>\n",
       "      <td>16</td>\n",
       "    </tr>\n",
       "    <tr>\n",
       "      <th>3</th>\n",
       "      <td>/Volumes/TempRAM/4.jpeg</td>\n",
       "      <td>1</td>\n",
       "      <td>5002</td>\n",
       "      <td>26.535734</td>\n",
       "      <td>17.644823</td>\n",
       "      <td>15</td>\n",
       "      <td>15</td>\n",
       "    </tr>\n",
       "    <tr>\n",
       "      <th>4</th>\n",
       "      <td>/Volumes/TempRAM/5.jpeg</td>\n",
       "      <td>0</td>\n",
       "      <td>3600</td>\n",
       "      <td>24.847744</td>\n",
       "      <td>33.705800</td>\n",
       "      <td>18</td>\n",
       "      <td>12</td>\n",
       "    </tr>\n",
       "  </tbody>\n",
       "</table>\n",
       "</div>"
      ],
      "text/plain": [
       "                Image Path  Success  Queries   Simba L2   Final L2  \\\n",
       "0  /Volumes/TempRAM/1.jpeg        1     5002  23.991479  18.838258   \n",
       "1  /Volumes/TempRAM/2.jpeg        1     1860  17.902519  17.902519   \n",
       "2  /Volumes/TempRAM/3.jpeg        1     1528  22.336118  15.972139   \n",
       "3  /Volumes/TempRAM/4.jpeg        1     5002  26.535734  17.644823   \n",
       "4  /Volumes/TempRAM/5.jpeg        0     3600  24.847744  33.705800   \n",
       "\n",
       "   Simba Hamming  Final Hamming  \n",
       "0             13             10  \n",
       "1             11             11  \n",
       "2             16             16  \n",
       "3             15             15  \n",
       "4             18             12  "
      ]
     },
     "execution_count": 2,
     "metadata": {},
     "output_type": "execute_result"
    }
   ],
   "source": [
    "results_path = 'untargeted_metrics.csv'\n",
    "df = pd.read_csv(results_path)\n",
    "df.head()"
   ]
  },
  {
   "attachments": {},
   "cell_type": "markdown",
   "metadata": {},
   "source": [
    "### Average # of Queries"
   ]
  },
  {
   "cell_type": "code",
   "execution_count": 42,
   "metadata": {},
   "outputs": [
    {
     "name": "stdout",
     "output_type": "stream",
     "text": [
      "The attacks were completed in 2851 queries on average\n"
     ]
    }
   ],
   "source": [
    "queries = np.array(df['Queries'])\n",
    "avg_queries = queries.mean()\n",
    "print(f'The attacks were completed in {int(avg_queries)} queries on average')"
   ]
  },
  {
   "attachments": {},
   "cell_type": "markdown",
   "metadata": {},
   "source": [
    "### Measure the ASR"
   ]
  },
  {
   "cell_type": "code",
   "execution_count": 39,
   "metadata": {},
   "outputs": [
    {
     "name": "stdout",
     "output_type": "stream",
     "text": [
      "The attack success rate is: 78.00%\n"
     ]
    }
   ],
   "source": [
    "success = np.array(df['Success'])\n",
    "ASR = success.mean()\n",
    "print(f'The attack success rate is: {100*ASR:.2f}%')"
   ]
  },
  {
   "attachments": {},
   "cell_type": "markdown",
   "metadata": {},
   "source": [
    "### Hamming Distance"
   ]
  },
  {
   "cell_type": "code",
   "execution_count": 49,
   "metadata": {},
   "outputs": [
    {
     "name": "stdout",
     "output_type": "stream",
     "text": [
      "The average hamming distance after joint attack is 14.38\n"
     ]
    }
   ],
   "source": [
    "hamming_dist = np.array(df['Final Hamming'])\n",
    "avg_hamm = hamming_dist.mean()\n",
    "print(f'The average hamming distance after joint attack is {avg_hamm}')"
   ]
  },
  {
   "attachments": {},
   "cell_type": "markdown",
   "metadata": {},
   "source": [
    "### L2 Distortion"
   ]
  },
  {
   "cell_type": "code",
   "execution_count": 47,
   "metadata": {},
   "outputs": [
    {
     "name": "stdout",
     "output_type": "stream",
     "text": [
      "The average L2 distortion after the attack is 17.6976\n"
     ]
    }
   ],
   "source": [
    "l2_dist = np.array(df['Final L2'])\n",
    "avg_l2 = l2_dist.mean()\n",
    "print(f'The average L2 distortion after the attack is {avg_l2:.4f}')"
   ]
  },
  {
   "cell_type": "code",
   "execution_count": 36,
   "metadata": {},
   "outputs": [
    {
     "data": {
      "image/png": "[encoded data removed]",
      "text/plain": [
       "<Figure size 1500x600 with 1 Axes>"
      ]
     },
     "metadata": {},
     "output_type": "display_data"
    }
   ],
   "source": [
    "index = np.arange(100)\n",
    "bar_width = 0.3\n",
    "fig, ax = plt.subplots(figsize=(15,6)) \n",
    "simba_distortion = ax.bar(index, df['Simba L2'], bar_width, label='Simba L2 Dist')\n",
    "output_distortion = ax.bar(index + bar_width, df['Final L2'], bar_width, label='Final L2 Dist')\n",
    "\n",
    "ax.set_label('Image')\n",
    "ax.set_ylabel('L2 Distortion')\n",
    "ax.legend()\n",
    "\n",
    "plt.show()"
   ]
  },
  {
   "cell_type": "code",
   "execution_count": null,
   "metadata": {},
   "outputs": [],
   "source": []
  }
 ],
 "metadata": {
  "kernelspec": {
   "display_name": "nhash",
   "language": "python",
   "name": "python3"
  },
  "language_info": {
   "codemirror_mode": {
    "name": "ipython",
    "version": 3
   },
   "file_extension": ".py",
   "mimetype": "text/x-python",
   "name": "python",
   "nbconvert_exporter": "python",
   "pygments_lexer": "ipython3",
   "version": "3.9.16"
  },
  "orig_nbformat": 4
 },
 "nbformat": 4,
 "nbformat_minor": 2
}
