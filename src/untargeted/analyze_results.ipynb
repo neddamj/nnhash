{
 "cells": [
  {
   "cell_type": "code",
   "execution_count": 1,
   "metadata": {},
   "outputs": [],
   "source": [
    "import matplotlib.pyplot as plt\n",
    "import pandas as pd\n",
    "import numpy as np"
   ]
  },
  {
   "cell_type": "code",
   "execution_count": 2,
   "metadata": {},
   "outputs": [
    {
     "data": {
      "text/html": [
       "<div>\n",
       "<style scoped>\n",
       "    .dataframe tbody tr th:only-of-type {\n",
       "        vertical-align: middle;\n",
       "    }\n",
       "\n",
       "    .dataframe tbody tr th {\n",
       "        vertical-align: top;\n",
       "    }\n",
       "\n",
       "    .dataframe thead th {\n",
       "        text-align: right;\n",
       "    }\n",
       "</style>\n",
       "<table border=\"1\" class=\"dataframe\">\n",
       "  <thead>\n",
       "    <tr style=\"text-align: right;\">\n",
       "      <th></th>\n",
       "      <th>Image Path</th>\n",
       "      <th>Success</th>\n",
       "      <th>Queries</th>\n",
       "      <th>Simba L2</th>\n",
       "      <th>Final L2</th>\n",
       "      <th>Final SSIM</th>\n",
       "      <th>Simba Hamming</th>\n",
       "      <th>Final Hamming</th>\n",
       "    </tr>\n",
       "  </thead>\n",
       "  <tbody>\n",
       "    <tr>\n",
       "      <th>0</th>\n",
       "      <td>/Volumes/TempRAM/1.jpeg</td>\n",
       "      <td>0</td>\n",
       "      <td>1831</td>\n",
       "      <td>36.621303</td>\n",
       "      <td>48.852894</td>\n",
       "      <td>0.810072</td>\n",
       "      <td>20</td>\n",
       "      <td>22</td>\n",
       "    </tr>\n",
       "    <tr>\n",
       "      <th>1</th>\n",
       "      <td>/Volumes/TempRAM/2.jpeg</td>\n",
       "      <td>1</td>\n",
       "      <td>886</td>\n",
       "      <td>23.779363</td>\n",
       "      <td>23.779363</td>\n",
       "      <td>0.586386</td>\n",
       "      <td>19</td>\n",
       "      <td>19</td>\n",
       "    </tr>\n",
       "    <tr>\n",
       "      <th>2</th>\n",
       "      <td>/Volumes/TempRAM/3.jpeg</td>\n",
       "      <td>1</td>\n",
       "      <td>958</td>\n",
       "      <td>43.200874</td>\n",
       "      <td>23.802170</td>\n",
       "      <td>0.931080</td>\n",
       "      <td>17</td>\n",
       "      <td>22</td>\n",
       "    </tr>\n",
       "    <tr>\n",
       "      <th>3</th>\n",
       "      <td>/Volumes/TempRAM/4.jpeg</td>\n",
       "      <td>1</td>\n",
       "      <td>3160</td>\n",
       "      <td>57.220738</td>\n",
       "      <td>22.587535</td>\n",
       "      <td>0.926897</td>\n",
       "      <td>18</td>\n",
       "      <td>21</td>\n",
       "    </tr>\n",
       "    <tr>\n",
       "      <th>4</th>\n",
       "      <td>/Volumes/TempRAM/5.jpeg</td>\n",
       "      <td>0</td>\n",
       "      <td>2222</td>\n",
       "      <td>49.364104</td>\n",
       "      <td>54.181878</td>\n",
       "      <td>0.767738</td>\n",
       "      <td>23</td>\n",
       "      <td>21</td>\n",
       "    </tr>\n",
       "  </tbody>\n",
       "</table>\n",
       "</div>"
      ],
      "text/plain": [
       "                Image Path  Success  Queries   Simba L2   Final L2  \\\n",
       "0  /Volumes/TempRAM/1.jpeg        0     1831  36.621303  48.852894   \n",
       "1  /Volumes/TempRAM/2.jpeg        1      886  23.779363  23.779363   \n",
       "2  /Volumes/TempRAM/3.jpeg        1      958  43.200874  23.802170   \n",
       "3  /Volumes/TempRAM/4.jpeg        1     3160  57.220738  22.587535   \n",
       "4  /Volumes/TempRAM/5.jpeg        0     2222  49.364104  54.181878   \n",
       "\n",
       "   Final SSIM  Simba Hamming  Final Hamming  \n",
       "0    0.810072             20             22  \n",
       "1    0.586386             19             19  \n",
       "2    0.931080             17             22  \n",
       "3    0.926897             18             21  \n",
       "4    0.767738             23             21  "
      ]
     },
     "execution_count": 2,
     "metadata": {},
     "output_type": "execute_result"
    }
   ],
   "source": [
    "# Path to the results file you want to analyze\n",
    "results_path = 'metrics/24-06-2023_10:49:40_hamm_19_l2_24.csv'\n",
    "df = pd.read_csv(results_path)\n",
    "df.head()"
   ]
  },
  {
   "attachments": {},
   "cell_type": "markdown",
   "metadata": {},
   "source": [
    "### Average # of Queries"
   ]
  },
  {
   "cell_type": "code",
   "execution_count": 3,
   "metadata": {},
   "outputs": [
    {
     "name": "stdout",
     "output_type": "stream",
     "text": [
      "The attacks were completed in 1733 queries on average\n"
     ]
    }
   ],
   "source": [
    "queries = np.array(df['Queries'])\n",
    "avg_queries = queries.mean()\n",
    "print(f'The attacks were completed in {int(avg_queries)} queries on average')"
   ]
  },
  {
   "attachments": {},
   "cell_type": "markdown",
   "metadata": {},
   "source": [
    "### Measure the ASR"
   ]
  },
  {
   "cell_type": "code",
   "execution_count": 4,
   "metadata": {},
   "outputs": [
    {
     "name": "stdout",
     "output_type": "stream",
     "text": [
      "The attack success rate is: 57.00%\n"
     ]
    }
   ],
   "source": [
    "success = np.array(df['Success'])\n",
    "ASR = success.mean()\n",
    "print(f'The attack success rate is: {100*ASR:.2f}%')"
   ]
  },
  {
   "attachments": {},
   "cell_type": "markdown",
   "metadata": {},
   "source": [
    "### Hamming Distance"
   ]
  },
  {
   "cell_type": "code",
   "execution_count": 5,
   "metadata": {},
   "outputs": [
    {
     "name": "stdout",
     "output_type": "stream",
     "text": [
      "The average hamming distance after joint attack is 21.42\n"
     ]
    }
   ],
   "source": [
    "hamming_dist = np.array(df['Final Hamming'])\n",
    "avg_hamm = hamming_dist.mean()\n",
    "print(f'The average hamming distance after joint attack is {avg_hamm}')"
   ]
  },
  {
   "attachments": {},
   "cell_type": "markdown",
   "metadata": {},
   "source": [
    "### L2 Distortion"
   ]
  },
  {
   "cell_type": "code",
   "execution_count": 6,
   "metadata": {},
   "outputs": [
    {
     "name": "stdout",
     "output_type": "stream",
     "text": [
      "The average L2 distortion after the soft-label attack is 40.5764\n",
      "The average L2 distortion after the complete attack is 30.1817\n"
     ]
    }
   ],
   "source": [
    "simba_l2_dist = np.array(df['Simba L2'])\n",
    "simba_avg_l2 = simba_l2_dist.mean()\n",
    "print(f'The average L2 distortion after the soft-label attack is {simba_avg_l2:.4f}')\n",
    "\n",
    "final_l2_dist = np.array(df['Final L2'])\n",
    "final_avg_l2 = final_l2_dist.mean()\n",
    "print(f'The average L2 distortion after the complete attack is {final_avg_l2:.4f}')"
   ]
  },
  {
   "cell_type": "code",
   "execution_count": 7,
   "metadata": {},
   "outputs": [
    {
     "data": {
      "image/png": "[encoded data removed]",
      "text/plain": [
       "<Figure size 1500x600 with 1 Axes>"
      ]
     },
     "metadata": {},
     "output_type": "display_data"
    }
   ],
   "source": [
    "index = np.arange(100)\n",
    "bar_width = 0.3\n",
    "fig, ax = plt.subplots(figsize=(15,6)) \n",
    "simba_distortion = ax.bar(index, df['Simba L2'], bar_width, label='Simba L2 Dist')\n",
    "output_distortion = ax.bar(index + bar_width, df['Final L2'], bar_width, label='Final L2 Dist')\n",
    "ax.set_label('Image')\n",
    "ax.set_ylabel('L2 Distortion')\n",
    "ax.legend()\n",
    "\n",
    "plt.show()"
   ]
  },
  {
   "cell_type": "code",
   "execution_count": null,
   "metadata": {},
   "outputs": [],
   "source": []
  }
 ],
 "metadata": {
  "kernelspec": {
   "display_name": "nhash",
   "language": "python",
   "name": "python3"
  },
  "language_info": {
   "codemirror_mode": {
    "name": "ipython",
    "version": 3
   },
   "file_extension": ".py",
   "mimetype": "text/x-python",
   "name": "python",
   "nbconvert_exporter": "python",
   "pygments_lexer": "ipython3",
   "version": "3.9.16"
  },
  "orig_nbformat": 4
 },
 "nbformat": 4,
 "nbformat_minor": 2
}
