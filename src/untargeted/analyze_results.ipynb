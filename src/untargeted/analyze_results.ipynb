{
 "cells": [
  {
   "cell_type": "code",
   "execution_count": 1,
   "metadata": {},
   "outputs": [],
   "source": [
    "import matplotlib.pyplot as plt\n",
    "import pandas as pd\n",
    "import numpy as np"
   ]
  },
  {
   "cell_type": "code",
   "execution_count": 9,
   "metadata": {},
   "outputs": [
    {
     "data": {
      "text/html": [
       "<div>\n",
       "<style scoped>\n",
       "    .dataframe tbody tr th:only-of-type {\n",
       "        vertical-align: middle;\n",
       "    }\n",
       "\n",
       "    .dataframe tbody tr th {\n",
       "        vertical-align: top;\n",
       "    }\n",
       "\n",
       "    .dataframe thead th {\n",
       "        text-align: right;\n",
       "    }\n",
       "</style>\n",
       "<table border=\"1\" class=\"dataframe\">\n",
       "  <thead>\n",
       "    <tr style=\"text-align: right;\">\n",
       "      <th></th>\n",
       "      <th>Image Path</th>\n",
       "      <th>Success</th>\n",
       "      <th>Queries</th>\n",
       "      <th>Simba L2</th>\n",
       "      <th>Final L2</th>\n",
       "      <th>Simba Hamming</th>\n",
       "      <th>Final Hamming</th>\n",
       "    </tr>\n",
       "  </thead>\n",
       "  <tbody>\n",
       "    <tr>\n",
       "      <th>0</th>\n",
       "      <td>/Volumes/TempRAM/1.jpeg</td>\n",
       "      <td>1</td>\n",
       "      <td>1769</td>\n",
       "      <td>35.852967</td>\n",
       "      <td>20.969275</td>\n",
       "      <td>18</td>\n",
       "      <td>10</td>\n",
       "    </tr>\n",
       "    <tr>\n",
       "      <th>1</th>\n",
       "      <td>/Volumes/TempRAM/2.jpeg</td>\n",
       "      <td>1</td>\n",
       "      <td>716</td>\n",
       "      <td>21.413185</td>\n",
       "      <td>21.413185</td>\n",
       "      <td>13</td>\n",
       "      <td>13</td>\n",
       "    </tr>\n",
       "    <tr>\n",
       "      <th>2</th>\n",
       "      <td>/Volumes/TempRAM/3.jpeg</td>\n",
       "      <td>1</td>\n",
       "      <td>1095</td>\n",
       "      <td>45.742402</td>\n",
       "      <td>15.878941</td>\n",
       "      <td>16</td>\n",
       "      <td>16</td>\n",
       "    </tr>\n",
       "    <tr>\n",
       "      <th>3</th>\n",
       "      <td>/Volumes/TempRAM/4.jpeg</td>\n",
       "      <td>1</td>\n",
       "      <td>2668</td>\n",
       "      <td>53.734270</td>\n",
       "      <td>20.886447</td>\n",
       "      <td>18</td>\n",
       "      <td>16</td>\n",
       "    </tr>\n",
       "    <tr>\n",
       "      <th>4</th>\n",
       "      <td>/Volumes/TempRAM/5.jpeg</td>\n",
       "      <td>0</td>\n",
       "      <td>1322</td>\n",
       "      <td>36.306463</td>\n",
       "      <td>34.383337</td>\n",
       "      <td>17</td>\n",
       "      <td>11</td>\n",
       "    </tr>\n",
       "  </tbody>\n",
       "</table>\n",
       "</div>"
      ],
      "text/plain": [
       "                Image Path  Success  Queries   Simba L2   Final L2  \\\n",
       "0  /Volumes/TempRAM/1.jpeg        1     1769  35.852967  20.969275   \n",
       "1  /Volumes/TempRAM/2.jpeg        1      716  21.413185  21.413185   \n",
       "2  /Volumes/TempRAM/3.jpeg        1     1095  45.742402  15.878941   \n",
       "3  /Volumes/TempRAM/4.jpeg        1     2668  53.734270  20.886447   \n",
       "4  /Volumes/TempRAM/5.jpeg        0     1322  36.306463  34.383337   \n",
       "\n",
       "   Simba Hamming  Final Hamming  \n",
       "0             18             10  \n",
       "1             13             13  \n",
       "2             16             16  \n",
       "3             18             16  \n",
       "4             17             11  "
      ]
     },
     "execution_count": 9,
     "metadata": {},
     "output_type": "execute_result"
    }
   ],
   "source": [
    "# Path to the results file you want to analyze\n",
    "results_path = 'metrics/08-06-2023_13:12:07_hamm_10_l2_23.csv'\n",
    "df = pd.read_csv(results_path)\n",
    "df.head()"
   ]
  },
  {
   "attachments": {},
   "cell_type": "markdown",
   "metadata": {},
   "source": [
    "### Average # of Queries"
   ]
  },
  {
   "cell_type": "code",
   "execution_count": 10,
   "metadata": {},
   "outputs": [
    {
     "name": "stdout",
     "output_type": "stream",
     "text": [
      "The attacks were completed in 1394 queries on average\n"
     ]
    }
   ],
   "source": [
    "queries = np.array(df['Queries'])\n",
    "avg_queries = queries.mean()\n",
    "print(f'The attacks were completed in {int(avg_queries)} queries on average')"
   ]
  },
  {
   "attachments": {},
   "cell_type": "markdown",
   "metadata": {},
   "source": [
    "### Measure the ASR"
   ]
  },
  {
   "cell_type": "code",
   "execution_count": 11,
   "metadata": {},
   "outputs": [
    {
     "name": "stdout",
     "output_type": "stream",
     "text": [
      "The attack success rate is: 88.00%\n"
     ]
    }
   ],
   "source": [
    "success = np.array(df['Success'])\n",
    "ASR = success.mean()\n",
    "print(f'The attack success rate is: {100*ASR:.2f}%')"
   ]
  },
  {
   "attachments": {},
   "cell_type": "markdown",
   "metadata": {},
   "source": [
    "### Hamming Distance"
   ]
  },
  {
   "cell_type": "code",
   "execution_count": 12,
   "metadata": {},
   "outputs": [
    {
     "name": "stdout",
     "output_type": "stream",
     "text": [
      "The average hamming distance after joint attack is 15.57\n"
     ]
    }
   ],
   "source": [
    "hamming_dist = np.array(df['Final Hamming'])\n",
    "avg_hamm = hamming_dist.mean()\n",
    "print(f'The average hamming distance after joint attack is {avg_hamm}')"
   ]
  },
  {
   "attachments": {},
   "cell_type": "markdown",
   "metadata": {},
   "source": [
    "### L2 Distortion"
   ]
  },
  {
   "cell_type": "code",
   "execution_count": 15,
   "metadata": {},
   "outputs": [
    {
     "name": "stdout",
     "output_type": "stream",
     "text": [
      "The average L2 distortion after the soft-label attack is 37.2209\n",
      "The average L2 distortion after the complete attack is 20.4032\n"
     ]
    }
   ],
   "source": [
    "simba_l2_dist = np.array(df['Simba L2'])\n",
    "simba_avg_l2 = simba_l2_dist.mean()\n",
    "print(f'The average L2 distortion after the soft-label attack is {simba_avg_l2:.4f}')\n",
    "\n",
    "final_l2_dist = np.array(df['Final L2'])\n",
    "final_avg_l2 = final_l2_dist.mean()\n",
    "print(f'The average L2 distortion after the complete attack is {final_avg_l2:.4f}')"
   ]
  },
  {
   "cell_type": "code",
   "execution_count": 14,
   "metadata": {},
   "outputs": [
    {
     "data": {
      "image/png": "[encoded data removed]",
      "text/plain": [
       "<Figure size 1500x600 with 1 Axes>"
      ]
     },
     "metadata": {},
     "output_type": "display_data"
    }
   ],
   "source": [
    "index = np.arange(100)\n",
    "bar_width = 0.3\n",
    "fig, ax = plt.subplots(figsize=(15,6)) \n",
    "simba_distortion = ax.bar(index, df['Simba L2'], bar_width, label='Simba L2 Dist')\n",
    "output_distortion = ax.bar(index + bar_width, df['Final L2'], bar_width, label='Final L2 Dist')\n",
    "\n",
    "ax.set_label('Image')\n",
    "ax.set_ylabel('L2 Distortion')\n",
    "ax.legend()\n",
    "\n",
    "plt.show()"
   ]
  },
  {
   "cell_type": "code",
   "execution_count": null,
   "metadata": {},
   "outputs": [],
   "source": []
  }
 ],
 "metadata": {
  "kernelspec": {
   "display_name": "nhash",
   "language": "python",
   "name": "python3"
  },
  "language_info": {
   "codemirror_mode": {
    "name": "ipython",
    "version": 3
   },
   "file_extension": ".py",
   "mimetype": "text/x-python",
   "name": "python",
   "nbconvert_exporter": "python",
   "pygments_lexer": "ipython3",
   "version": "3.9.16"
  },
  "orig_nbformat": 4
 },
 "nbformat": 4,
 "nbformat_minor": 2
}
