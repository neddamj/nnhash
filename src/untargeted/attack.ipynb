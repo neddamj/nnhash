{
 "cells": [
  {
   "cell_type": "code",
   "execution_count": null,
   "metadata": {},
   "outputs": [],
   "source": [
    "import sys\n",
    "sys.path.append('..')\n",
    "\n",
    "# Helper imports\n",
    "from data import CIFAR10, IMAGENETTE\n",
    "import utils\n",
    "\n",
    "# Numerical computing and display imports\n",
    "import matplotlib.pyplot as plt\n",
    "from PIL import Image\n",
    "import pandas as pd\n",
    "import numpy as np\n",
    "\n",
    "# Other imports\n",
    "import multiprocess as mp\n",
    "from datetime import datetime\n",
    "import logging\n",
    "import os"
   ]
  },
  {
   "cell_type": "code",
   "execution_count": null,
   "metadata": {},
   "outputs": [],
   "source": [
    "# Load and Prepare the Data\n",
    "folder_path = '../../images/'\n",
    "dataset = 'imagenette'    \n",
    "if dataset == 'cifar10':\n",
    "    images = CIFAR10()\n",
    "if dataset == 'imagenette':\n",
    "    images = IMAGENETTE()\n",
    "x = images.load()\n",
    "images.save_to_disk(x, folder_path, num_images=100)\n",
    "folder_path = utils.move_data_to_temp_ram(folder_path, ram_size_mb=50)\n",
    "del(x)"
   ]
  },
  {
   "cell_type": "code",
   "execution_count": null,
   "metadata": {},
   "outputs": [],
   "source": [
    "# Threshold-hyperparameter mappings\n",
    "threshold_hyperparam = {\n",
    "    '1':  {'simba_hamming_threshold': 7,  'simba_l2_threshold': 20, 'hsja_l2_threshold': 8},\n",
    "    '5':  {'simba_hamming_threshold': 10, 'simba_l2_threshold': 20, 'hsja_l2_threshold': 16},\n",
    "    '10': {'simba_hamming_threshold': 20, 'simba_l2_threshold': 28, 'hsja_l2_threshold': 24},\n",
    "    '19': {'simba_hamming_threshold': 23, 'simba_l2_threshold': 30, 'hsja_l2_threshold': 24}\n",
    "}\n",
    "attack_hamming_threshold = int(0.1 * 96 + 0.5) \n",
    "\n",
    "# SIMBA Hyperparams\n",
    "simba_epsilon = 0.9\n",
    "simba_hamming_threshold = threshold_hyperparam[str(attack_hamming_threshold)]['simba_hamming_threshold']                                # <= 5% - 10(max) & 10% - 20 & 20% - 23 \n",
    "simba_l2_threshold = threshold_hyperparam[str(attack_hamming_threshold)]['simba_l2_threshold']\n",
    "simba_max_steps = 10000 \n",
    "fast = True\n",
    "\n",
    "# HSJA Hyperparams\n",
    "hsja_max_steps = 10\n",
    "hsja_grad_queries = 20\n",
    "hsja_l2_threshold = threshold_hyperparam[str(attack_hamming_threshold)]['hsja_l2_threshold']\n",
    "\n",
    "# Other params\n",
    "ssim_threshold = 0.8\n",
    "now = datetime.now()\n",
    "dt_string = now.strftime(\"%d-%m-%Y_%H:%M:%S\")"
   ]
  },
  {
   "cell_type": "code",
   "execution_count": null,
   "metadata": {},
   "outputs": [],
   "source": [
    "# Threshold-hyperparameter mappings\n",
    "nes_threshold_hyperparam = {\n",
    "    '1':  {'nes_l2_threshold': 25, 'nes_l2_tolerance': 10, 'hsja_l2_threshold': 10},\n",
    "    '5':  {'nes_l2_threshold': 35, 'nes_l2_tolerance': 12, 'hsja_l2_threshold': 15},\n",
    "    '10': {'nes_l2_threshold': 45, 'nes_l2_tolerance': 15, 'hsja_l2_threshold': 20},\n",
    "    '19': {'nes_l2_threshold': 55, 'nes_l2_tolerance': 20, 'hsja_l2_threshold': 24}# l2_tolerance: 15 ... hsja_l2_threshold: 25\n",
    "}\n",
    "attack_hamming_threshold = int(0.1 * 96 + 0.5) \n",
    "\n",
    "# NES Hyperparams\n",
    "nes_mean =  -0.025 \n",
    "nes_std = 0.1\n",
    "nes_sigma = 0.7\n",
    "nes_eps = 0.1                      \n",
    "nes_l2_threshold = nes_threshold_hyperparam[str(attack_hamming_threshold)]['nes_l2_threshold'] \n",
    "nes_l2_tolerance = nes_threshold_hyperparam[str(attack_hamming_threshold)]['nes_l2_tolerance'] \n",
    "nes_num_samples = 50"
   ]
  },
  {
   "cell_type": "code",
   "execution_count": null,
   "metadata": {},
   "outputs": [],
   "source": [
    "# Soft-Label Attack imports\n",
    "from simba import SimBAttack\n",
    "from nes import NESAttack\n",
    "\n",
    "simba = SimBAttack(eps=simba_epsilon,\n",
    "                   hamming_threshold=simba_hamming_threshold,\n",
    "                   l2_threshold=simba_l2_threshold,\n",
    "                   max_steps=simba_max_steps,\n",
    "                   fast=fast)\n",
    "nes = NESAttack(mean=nes_mean,\n",
    "                std=nes_std,\n",
    "                sigma=nes_sigma,\n",
    "                eps=nes_eps,\n",
    "                l2_threshold=nes_l2_threshold,\n",
    "                l2_tolerance=nes_l2_tolerance,\n",
    "                num_samples=nes_num_samples)"
   ]
  },
  {
   "cell_type": "code",
   "execution_count": null,
   "metadata": {},
   "outputs": [],
   "source": [
    "# Hard-label Attack imports\n",
    "from hsja import HSJAttack\n",
    "\n",
    "hsja = HSJAttack(max_iters=hsja_max_steps, \n",
    "                 grad_queries=hsja_grad_queries, \n",
    "                 l2_threshold=hsja_l2_threshold, \n",
    "                 hamming_threshold=attack_hamming_threshold)"
   ]
  },
  {
   "cell_type": "code",
   "execution_count": null,
   "metadata": {},
   "outputs": [],
   "source": [
    "# Joint Attack\n",
    "from joint_attack import JointAttack\n",
    "\n",
    "joint_attack = JointAttack(nes, hsja)"
   ]
  },
  {
   "cell_type": "code",
   "execution_count": null,
   "metadata": {},
   "outputs": [],
   "source": [
    "for i in range(100):\n",
    "    # Format the path to the input image\n",
    "    img_path = f'../../images/{i+1}.bmp' \n",
    "    _, _, _, _, path, filetype = img_path.split('.')\n",
    "    img_path = path.split('/')\n",
    "    img_path = f'{folder_path}{img_path[2]}.{filetype}'\n",
    "\n",
    "    # Attack NeuralHash \n",
    "    orig_img, sl_img, adv_img, sl_num_queries, hl_num_queries = joint_attack.attack(img_path)\n",
    "    \n",
    "    # Save the simba image and the final image\n",
    "    utils.save_img(f'../../images/{i+1}_simba.bmp', sl_img)  \n",
    "    utils.save_img(f'../../images/{i+1}_final.bmp', adv_img)\n",
    "\n",
    "    # Attack Metrics\n",
    "    orig_hash  = utils.compute_hash(orig_img)\n",
    "    sl_hash = utils.compute_hash(sl_img)\n",
    "    adv_hash = utils.compute_hash(adv_img)\n",
    "    simba_hamming_dist = utils.distance(orig_hash, sl_hash, \"hamming\")\n",
    "    final_hamming_dist = utils.distance(orig_hash, adv_hash, \"hamming\")\n",
    "    sl_l2_dist = utils.distance(orig_img, sl_img, 'l2')\n",
    "    final_l2_dist = utils.distance(orig_img, adv_img, 'l2')\n",
    "    final_ssim = utils.distance(orig_img, adv_img.astype(np.uint8), 'ssim')\n",
    "    total_queries = sl_num_queries + hl_num_queries\n",
    "    success = (final_hamming_dist >= attack_hamming_threshold) and (final_ssim >= ssim_threshold)\n",
    "\n",
    "    attack_metrics = {\n",
    "        'Image Path':         [img_path],\n",
    "        'Success':            [success],\n",
    "        'Queries':            [total_queries],\n",
    "        'Soft-Label L2':      [sl_l2_dist],\n",
    "        'Final L2':           [final_l2_dist],\n",
    "        'Final SSIM':         [final_ssim],\n",
    "        'Soft-Label Hamming': [simba_hamming_dist],\n",
    "        'Final Hamming':      [final_hamming_dist]\n",
    "    }\n",
    "\n",
    "    # Save the results\n",
    "    df = pd.DataFrame.from_dict(attack_metrics)\n",
    "    sl_attack = 'simba' if type(joint_attack.sl_algo) == SimBAttack else 'nes'\n",
    "    eps = simba_epsilon if sl_attack == 'simba' else nes_eps\n",
    "    file_path = f'metrics/{sl_attack}/{eps}/hamm_{attack_hamming_threshold}_l2_{hsja_l2_threshold}_{dt_string}.csv'\n",
    "    if os.path.exists(file_path):\n",
    "        df.to_csv(file_path, mode='a', index=False, header=False)\n",
    "    else: \n",
    "        df.to_csv(file_path, index=False, header=True)    "
   ]
  },
  {
   "cell_type": "code",
   "execution_count": null,
   "metadata": {},
   "outputs": [],
   "source": [
    "def plot_results(orig_img, sl_img, adv_img, hamming_threshold):\n",
    "    fig, (ax1, ax2, ax3) = plt.subplots(1, 3, figsize=(15,6))\n",
    "    #fig.suptitle(f'Hamming Threshold: {hamming_threshold}')\n",
    "    ax1.imshow(orig_img)\n",
    "    ax1.set_title('Orginal Image') \n",
    "    ax2.imshow(sl_img)\n",
    "    ax2.set_title('Noisy Simba Image')\n",
    "    ax3.imshow(adv_img.astype(np.uint8))\n",
    "    ax3.set_title('Denoised Final Image')"
   ]
  },
  {
   "cell_type": "code",
   "execution_count": null,
   "metadata": {},
   "outputs": [],
   "source": [
    "# Show the images/results\n",
    "plot_results(orig_img, sl_img, adv_img, attack_hamming_threshold)"
   ]
  }
 ],
 "metadata": {
  "kernelspec": {
   "display_name": "Python 3 (ipykernel)",
   "language": "python",
   "name": "python3"
  },
  "language_info": {
   "codemirror_mode": {
    "name": "ipython",
    "version": 3
   },
   "file_extension": ".py",
   "mimetype": "text/x-python",
   "name": "python",
   "nbconvert_exporter": "python",
   "pygments_lexer": "ipython3",
   "version": "3.9.16"
  }
 },
 "nbformat": 4,
 "nbformat_minor": 2
}
