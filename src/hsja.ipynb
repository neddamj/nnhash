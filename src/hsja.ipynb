{
 "cells": [
  {
   "cell_type": "code",
   "execution_count": 1,
   "id": "1685305d",
   "metadata": {},
   "outputs": [
    {
     "name": "stderr",
     "output_type": "stream",
     "text": [
      "/Users/neddamj/miniforge3/envs/nhash/lib/python3.9/site-packages/tqdm/auto.py:21: TqdmWarning: IProgress not found. Please update jupyter and ipywidgets. See https://ipywidgets.readthedocs.io/en/stable/user_install.html\n",
      "  from .autonotebook import tqdm as notebook_tqdm\n"
     ]
    }
   ],
   "source": [
    "from data import CIFAR10, IMAGENETTE\n",
    "import matplotlib.pyplot as plt\n",
    "from PIL import Image\n",
    "import numpy as np\n",
    "\n",
    "import utils\n",
    "import copy"
   ]
  },
  {
   "cell_type": "code",
   "execution_count": 2,
   "id": "7c6b50e7",
   "metadata": {},
   "outputs": [],
   "source": [
    "def decision_fn(orig_img, new_img, threshold=1):\n",
    "    # Save the images and get their hashes\n",
    "    orig_hash, new_hash = utils.compute_hash(orig_img), utils.compute_hash(new_img)\n",
    "    # Make the decision based on the threshold\n",
    "    hamming_dist = utils.distance(orig_hash, new_hash, 'hamming')\n",
    "    if hamming_dist >= threshold:\n",
    "        return True\n",
    "    return False"
   ]
  },
  {
   "cell_type": "code",
   "execution_count": 3,
   "id": "8a72bc45",
   "metadata": {},
   "outputs": [],
   "source": [
    "def bin_boundary_search(orig_img, adv_img, l2_threshold, hamming_threshold):\n",
    "    print('[INFO] Starting Boundary Search...')\n",
    "    src_img = copy.deepcopy(orig_img)       # Copy of origin img that will be used for interpolation\n",
    "    l2_dist = utils.distance(orig_img, adv_img, 'l2')\n",
    "    while l2_dist >= l2_threshold:\n",
    "        midpoint = (src_img + adv_img)/2\n",
    "        if decision_fn(orig_img, midpoint, hamming_threshold):\n",
    "            adv_img = midpoint\n",
    "        else:\n",
    "            src_img = midpoint\n",
    "        print(f'L2 Dist: {l2_dist}')\n",
    "        l2_dist = utils.distance(orig_img, adv_img, 'l2')\n",
    "    print('[INFO] Boundary Search Complete...')\n",
    "    return adv_img"
   ]
  },
  {
   "cell_type": "code",
   "execution_count": 4,
   "id": "0f6e7ca2",
   "metadata": {
    "scrolled": true
   },
   "outputs": [
    {
     "name": "stdout",
     "output_type": "stream",
     "text": [
      "[INFO] Starting Boundary Search...\n",
      "Hamming Dist: 54\n",
      "L2 Dist: 312.335916378285\n",
      "Hamming Dist: 47\n",
      "L2 Dist: 385.3155258334368\n",
      "Hamming Dist: 19\n",
      "L2 Dist: 192.6577629167185\n",
      "Hamming Dist: 6\n",
      "L2 Dist: 96.32888145835928\n",
      "Hamming Dist: 0\n",
      "L2 Dist: 48.164440729179695\n",
      "Hamming Dist: 5\n",
      "L2 Dist: 48.164440729179695\n",
      "Hamming Dist: 5\n",
      "L2 Dist: 36.12333054687674\n",
      "Hamming Dist: 5\n",
      "L2 Dist: 30.102775455734022\n",
      "[INFO] Boundary Search Complete...\n"
     ]
    }
   ],
   "source": [
    "img1, img2 = '../images/1.jpeg','../images/2.jpeg'\n",
    "img = bin_boundary_search(img1, img2, 28, 2)\n",
    "im = Image.fromarray(img.astype(np.uint8))\n",
    "im.show()"
   ]
  },
  {
   "cell_type": "code",
   "execution_count": 48,
   "id": "cb271263",
   "metadata": {},
   "outputs": [],
   "source": [
    "def estimate_grad_direction(img, sample_count):\n",
    "    # Create the noise unit vectors\n",
    "    noise = np.random.randn(sample_count, img.shape[0], img.shape[1], img.shape[2])\n",
    "    noise /= np.linalg.norm(noise)\n",
    "    # Get the signs of each img with the additive noise\n",
    "    directions = np.zeros((noise.shape[0], 1))\n",
    "    for i in range(noise.shape[0]):\n",
    "        new = img/255 + noise[i]\n",
    "        new = np.asarray(255*new).astype(np.uint8)\n",
    "        np.clip(new, 0, 255)\n",
    "        directions[i] = 1 if decision_fn(img, new, threshold=2) else -1\n",
    "    # Compute the gradient direction estimate\n",
    "    direction_estimate = sum([noise[i]*directions[i] for i in range(noise.shape[0])])\n",
    "    return direction_estimate"
   ]
  },
  {
   "cell_type": "code",
   "execution_count": 49,
   "id": "de90b78c",
   "metadata": {},
   "outputs": [],
   "source": [
    "def grad_based_update(orig_img, adv_img, grad_direction, stepsize, hamming_threshold):\n",
    "    while True:\n",
    "        new_img = img + stepsize*grad_direction\n",
    "        if decision_fn(orig_img, adv_img, hamming_threshold):\n",
    "            break\n",
    "        stepsize /= 2\n",
    "    return new_img"
   ]
  },
  {
   "cell_type": "code",
   "execution_count": null,
   "id": "8b4c69d9",
   "metadata": {},
   "outputs": [],
   "source": [
    "def hsja(orig_img_path, \n",
    "         target_img_path,\n",
    "         max_iters=10, \n",
    "         grad_queries=100, \n",
    "         l2_threshold=30, \n",
    "         hamming_threshold=5):\n",
    "    orig_img, target_img = utils.load_img(orig_img_path), utils.load_img(target_img_path)\n",
    "    for idx in range(1, max_iters+1):\n",
    "        print(f'Iteration: {idx}')\n",
    "        # Find the img as close to the boundary as possible\n",
    "        boundary_img = bin_boundary_search(orig_img, target_img, l2_threshold, hamming_threshold)\n",
    "        l2_dist = utils.distance(orig_img, boundary_img)\n",
    "        if l2_dist < l2_threshold:\n",
    "            print()\n",
    "            return boundary_img\n",
    "        # Estimate the gradient direction\n",
    "        sample_count = int(grad_queries * (idx)**0.5)\n",
    "        grad_direction = estimate_grad_direction(boundary_img, sample_count)\n",
    "        # Calculate the stepsize\n",
    "        stepsize = utils.distance(orig_img, boundary_img, 'l2')/np.sqrt(idx)\n",
    "        target_img = grad_based_update(orig_img, boundary_img, grad_direction, stepsize, hamming_threshold)\n",
    "    return target_img"
   ]
  },
  {
   "cell_type": "code",
   "execution_count": null,
   "id": "b182eaa8",
   "metadata": {},
   "outputs": [],
   "source": []
  }
 ],
 "metadata": {
  "kernelspec": {
   "display_name": "Python 3 (ipykernel)",
   "language": "python",
   "name": "python3"
  },
  "language_info": {
   "codemirror_mode": {
    "name": "ipython",
    "version": 3
   },
   "file_extension": ".py",
   "mimetype": "text/x-python",
   "name": "python",
   "nbconvert_exporter": "python",
   "pygments_lexer": "ipython3",
   "version": "3.9.16"
  }
 },
 "nbformat": 4,
 "nbformat_minor": 5
}
