{
 "cells": [
  {
   "cell_type": "code",
   "execution_count": 7,
   "metadata": {},
   "outputs": [],
   "source": [
    "from utils import compute_hash, load_img_paths, load_img, distance"
   ]
  },
  {
   "cell_type": "code",
   "execution_count": 8,
   "metadata": {},
   "outputs": [
    {
     "data": {
      "text/plain": [
       "['../photos/man/man.jpg',\n",
       " '../photos/man/man_change_clarity.jpg',\n",
       " '../photos/leaf/leaf_black_white.jpg',\n",
       " '../photos/leaf/leaf.jpg',\n",
       " '../photos/dolphin/original_dolpin.jpg',\n",
       " '../photos/dolphin/dolpin_pixelate.jpg',\n",
       " '../photos/house/original_house.jpg',\n",
       " '../photos/house/house_rotate.jpg',\n",
       " '../photos/swan/original_swan.jpg',\n",
       " '../photos/swan/swan_crop_color_tint_reduce_quality.gif',\n",
       " '../photos/human/flip_human.jpg',\n",
       " '../photos/human/original_human.jpg']"
      ]
     },
     "execution_count": 8,
     "metadata": {},
     "output_type": "execute_result"
    }
   ],
   "source": [
    "# Get all the image paths\n",
    "img_paths = []\n",
    "folder_paths = load_img_paths('../photos/')\n",
    "for path in folder_paths:\n",
    "    for img_path in load_img_paths(path):\n",
    "        img_paths.append(img_path)\n",
    "\n",
    "img_paths"
   ]
  },
  {
   "cell_type": "code",
   "execution_count": 12,
   "metadata": {},
   "outputs": [
    {
     "name": "stdout",
     "output_type": "stream",
     "text": [
      "New IMG\n",
      "Image: ../photos/man/man.jpg\tHash Value:0x49307139533358695577753637445250\n",
      "Image: ../photos/man/man_change_clarity.jpg\tHash Value:0x4932794e61336669466773367a685250\n",
      "Hamming Distance: 29\n",
      "New IMG\n",
      "Image: ../photos/leaf/leaf_black_white.jpg\tHash Value:0x45472f7a496837615075336461527179\n",
      "Image: ../photos/leaf/leaf.jpg\tHash Value:0x46472f7a4968376150752f6461527179\n",
      "Hamming Distance: 5\n",
      "New IMG\n",
      "Image: ../photos/dolphin/original_dolpin.jpg\tHash Value:0x4f627272737035416d2f563659417a30\n",
      "Image: ../photos/dolphin/dolpin_pixelate.jpg\tHash Value:0x4f623772737035416d2b313659417a30\n",
      "Hamming Distance: 9\n",
      "New IMG\n",
      "Image: ../photos/house/original_house.jpg\tHash Value:0x446f766d2b4d30516e42505478754d6b\n",
      "Image: ../photos/house/house_rotate.jpg\tHash Value:0x4f4e726d6f61385247486e367a485a73\n",
      "Hamming Distance: 39\n",
      "New IMG\n",
      "Image: ../photos/swan/original_swan.jpg\tHash Value:0x6569504f30514d3342585361394e4f63\n",
      "Image: ../photos/swan/swan_crop_color_tint_reduce_quality.gif\tHash Value:0x5779504f55514d7a422b53612f4e4d63\n",
      "Hamming Distance: 20\n",
      "New IMG\n",
      "Image: ../photos/human/flip_human.jpg\tHash Value:0x6377386f7133436556494a684369314d\n",
      "Image: ../photos/human/original_human.jpg\tHash Value:0x5268596166784575647353684e6a6357\n",
      "Hamming Distance: 46\n"
     ]
    }
   ],
   "source": [
    "# Compute the image hashes\n",
    "hashes = []\n",
    "for i, path in enumerate(img_paths):\n",
    "    if i%2 == 0:\n",
    "        if len(hashes) > 0:\n",
    "            print(f'Hamming Distance: {distance(hashes[-1], hashes[-2], \"hamming\")}')\n",
    "        print('New IMG')\n",
    "    hashes.append(compute_hash(path))\n",
    "    print(f'Image: {path}\\tHash Value:{hex(compute_hash(path))}')\n",
    "print(f'Hamming Distance: {distance(hashes[-1], hashes[-2], \"hamming\")}')"
   ]
  },
  {
   "cell_type": "code",
   "execution_count": null,
   "metadata": {},
   "outputs": [],
   "source": []
  }
 ],
 "metadata": {
  "kernelspec": {
   "display_name": "nhash",
   "language": "python",
   "name": "python3"
  },
  "language_info": {
   "codemirror_mode": {
    "name": "ipython",
    "version": 3
   },
   "file_extension": ".py",
   "mimetype": "text/x-python",
   "name": "python",
   "nbconvert_exporter": "python",
   "pygments_lexer": "ipython3",
   "version": "3.9.16"
  },
  "orig_nbformat": 4
 },
 "nbformat": 4,
 "nbformat_minor": 2
}
