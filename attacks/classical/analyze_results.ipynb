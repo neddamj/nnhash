{
 "cells": [
  {
   "cell_type": "code",
   "execution_count": null,
   "metadata": {},
   "outputs": [],
   "source": [
    "import pandas as pd\n",
    "import numpy as np\n",
    "import matplotlib.pyplot as plt\n",
    "\n",
    "import os\n",
    "import sys\n",
    "sys.path.append('..')\n",
    "\n",
    "import utils"
   ]
  },
  {
   "cell_type": "markdown",
   "metadata": {},
   "source": [
    "### Compression Results"
   ]
  },
  {
   "cell_type": "code",
   "execution_count": null,
   "metadata": {},
   "outputs": [],
   "source": [
    "hamming_dists = [0.1, 0.2, 0.3, 0.4]\n",
    "for hamming_dist in hamming_dists:\n",
    "    print(f'Hamming Dist: {hamming_dist}')\n",
    "    csv_path = os.path.sep.join(['metrics', f'{hamming_dist}', 'recompression.csv'])\n",
    "    df = pd.read_csv(csv_path)\n",
    "    compression_success = df['BMP2JPEG Success']\n",
    "    compression_asr = np.sum(compression_success)\n",
    "    compression_l2 = df['BMP2JPEG L2 Dist']/np.sqrt(224*224*3)\n",
    "    avg_l2 = np.mean(compression_l2)\n",
    "    std = np.std(compression_l2)\n",
    "    \n",
    "    print(f'ASR: {compression_asr}')\n",
    "    print(f'L2 Distance = {avg_l2} +- {std}\\n')"
   ]
  },
  {
   "cell_type": "markdown",
   "metadata": {},
   "source": [
    "### Filtering Results"
   ]
  },
  {
   "cell_type": "code",
   "execution_count": null,
   "metadata": {},
   "outputs": [],
   "source": [
    "hamming_dists = [0.1, 0.2, 0.3, 0.4]\n",
    "for hamming_dist in hamming_dists:\n",
    "    csv_path = os.path.sep.join(['metrics', f'{hamming_dist}', 'filter.csv'])\n",
    "    df = pd.read_csv(csv_path)\n",
    "    vig_filter_success = df['VIGNETTE Success']\n",
    "    vig_filter_asr = np.sum(vig_filter_success)\n",
    "    vig_l2 = df['VIGNETTE L2']/np.sqrt(224*224*3)\n",
    "    avg_l2 = np.mean(vig_l2)\n",
    "    std = np.std(vig_l2)\n",
    "\n",
    "    print(f'ASR: {vig_filter_asr}')\n",
    "    print(f'L2 Distance = {avg_l2} +- {std}\\n')"
   ]
  },
  {
   "cell_type": "markdown",
   "metadata": {},
   "source": [
    "### Resize Results"
   ]
  },
  {
   "cell_type": "code",
   "execution_count": null,
   "metadata": {},
   "outputs": [],
   "source": [
    "hamming_dists = [0.1, 0.2, 0.3, 0.4]\n",
    "for hamming_dist in hamming_dists:\n",
    "    csv_path = os.path.sep.join(['metrics', f'{hamming_dist}', 'resize_rotate.csv'])\n",
    "    df = pd.read_csv(csv_path)\n",
    "    resized_success = df['Resized Success']\n",
    "    resized_asr = np.sum(resized_success)\n",
    "\n",
    "    print(f'ASR: {resized_asr}')"
   ]
  },
  {
   "cell_type": "markdown",
   "metadata": {},
   "source": [
    "### Rotated Results"
   ]
  },
  {
   "cell_type": "code",
   "execution_count": null,
   "metadata": {},
   "outputs": [],
   "source": [
    "hamming_dists = [0.1, 0.2, 0.3, 0.4]\n",
    "for hamming_dist in hamming_dists:\n",
    "    csv_path = os.path.sep.join(['metrics', f'{hamming_dist}', 'resize_rotate.csv'])\n",
    "    df = pd.read_csv(csv_path)\n",
    "    resized_success = df['Rotated Success']\n",
    "    resized_asr = np.sum(resized_success)\n",
    "    resized_l2 = df['Rotated L2']/np.sqrt(224*224*3)\n",
    "    avg_l2 = np.mean(resized_l2)\n",
    "    std = np.std(resized_l2)\n",
    "\n",
    "    print(f'ASR: {resized_asr}')\n",
    "    print(f'L2 Distance = {avg_l2} +- {std}\\n')"
   ]
  },
  {
   "cell_type": "code",
   "execution_count": null,
   "metadata": {},
   "outputs": [],
   "source": []
  }
 ],
 "metadata": {
  "kernelspec": {
   "display_name": "nhash",
   "language": "python",
   "name": "python3"
  },
  "language_info": {
   "codemirror_mode": {
    "name": "ipython",
    "version": 3
   },
   "file_extension": ".py",
   "mimetype": "text/x-python",
   "name": "python",
   "nbconvert_exporter": "python",
   "pygments_lexer": "ipython3",
   "version": "3.9.16"
  }
 },
 "nbformat": 4,
 "nbformat_minor": 2
}
