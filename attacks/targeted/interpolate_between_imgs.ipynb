{
 "cells": [
  {
   "cell_type": "code",
   "execution_count": null,
   "metadata": {},
   "outputs": [],
   "source": [
    "import sys\n",
    "sys.path.append('..')\n",
    "\n",
    "import matplotlib.pyplot as plt\n",
    "import numpy as np\n",
    "import utils"
   ]
  },
  {
   "cell_type": "code",
   "execution_count": null,
   "metadata": {},
   "outputs": [],
   "source": [
    "img_path1 = '../../images/2.jpeg'\n",
    "img_path2 = '../../images/8.jpeg'\n",
    "\n",
    "img1 = utils.load_img(img_path1)\n",
    "img2 = utils.load_img(img_path2)"
   ]
  },
  {
   "cell_type": "code",
   "execution_count": null,
   "metadata": {},
   "outputs": [],
   "source": [
    "plt.imshow(img1)"
   ]
  },
  {
   "cell_type": "code",
   "execution_count": null,
   "metadata": {},
   "outputs": [],
   "source": [
    "plt.imshow(img2)"
   ]
  },
  {
   "cell_type": "code",
   "execution_count": null,
   "metadata": {},
   "outputs": [],
   "source": [
    "hash1 = utils.compute_hash(img_path1)\n",
    "print(f'Hash of Image 1 is {hash1}')\n",
    "\n",
    "hash2 = utils.compute_hash(img_path2)\n",
    "print(f'Hash of Image 2 is {hash2}')\n",
    "\n",
    "hamming_dist = utils.distance(hash1, hash2, 'hamming')\n",
    "print(f'The hamming distance between the images is {hamming_dist}')"
   ]
  },
  {
   "cell_type": "code",
   "execution_count": null,
   "metadata": {},
   "outputs": [],
   "source": [
    "inter_imgs = []\n",
    "hamming_dist_from_img1 = []\n",
    "hamming_dist_from_img2 = []\n",
    "\n",
    "for i in range(21):\n",
    "    alpha = 1 - 0.05*i\n",
    "    inter_imgs.append(alpha*img1 + (1-alpha)*img2)\n",
    "    hash_inter_img = utils.compute_hash(inter_imgs[-1])\n",
    "    hamming_dist_from_img1.append(utils.distance(hash_inter_img, hash1, 'hamming')/96)\n",
    "    hamming_dist_from_img2.append(utils.distance(hash_inter_img, hash2, 'hamming')/96)"
   ]
  },
  {
   "cell_type": "code",
   "execution_count": null,
   "metadata": {},
   "outputs": [],
   "source": [
    "plt.imshow(inter_imgs[3]/255)"
   ]
  },
  {
   "cell_type": "code",
   "execution_count": null,
   "metadata": {},
   "outputs": [],
   "source": [
    "alpha = 1 - 0.05*np.linspace(0, 20, 21)\n",
    "plt.plot(alpha, hamming_dist_from_img1, label='Hamming Similarity from Image 1')\n",
    "plt.plot(alpha, hamming_dist_from_img2, label='Hamming Similarity from Image 2')\n",
    "plt.title('Hamming Similarity as images are interpolated')\n",
    "plt.ylabel('Hamming Similarity')\n",
    "plt.xlabel('alpha')\n",
    "plt.legend()\n",
    "plt.grid()"
   ]
  },
  {
   "cell_type": "code",
   "execution_count": null,
   "metadata": {},
   "outputs": [],
   "source": []
  }
 ],
 "metadata": {
  "kernelspec": {
   "display_name": "nhash",
   "language": "python",
   "name": "python3"
  },
  "language_info": {
   "codemirror_mode": {
    "name": "ipython",
    "version": 3
   },
   "file_extension": ".py",
   "mimetype": "text/x-python",
   "name": "python",
   "nbconvert_exporter": "python",
   "pygments_lexer": "ipython3",
   "version": "3.9.16"
  },
  "orig_nbformat": 4
 },
 "nbformat": 4,
 "nbformat_minor": 2
}
