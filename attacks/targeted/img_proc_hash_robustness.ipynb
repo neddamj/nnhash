{
 "cells": [
  {
   "attachments": {},
   "cell_type": "markdown",
   "metadata": {},
   "source": [
    "## Robustness of NeuralHash to Some Standard Image Processing Transformations"
   ]
  },
  {
   "cell_type": "code",
   "execution_count": null,
   "metadata": {},
   "outputs": [],
   "source": [
    "from data import IMAGENETTE\n",
    "import utils\n",
    "\n",
    "import matplotlib.pyplot as plt\n",
    "from PIL import Image\n",
    "import numpy as np\n",
    "import os"
   ]
  },
  {
   "cell_type": "code",
   "execution_count": null,
   "metadata": {},
   "outputs": [],
   "source": [
    "folder_path = '../images/'\n",
    "images = IMAGENETTE()\n",
    "x = images.load()\n",
    "images.save_to_disk(x, folder_path, num_images=100)"
   ]
  },
  {
   "attachments": {},
   "cell_type": "markdown",
   "metadata": {},
   "source": [
    "### Apply the image transformations to the Images"
   ]
  },
  {
   "cell_type": "code",
   "execution_count": null,
   "metadata": {},
   "outputs": [],
   "source": [
    "def flip_image(folder_path, file_name):\n",
    "    if 'flipped' in file_name or 'rotated' in file_name:\n",
    "        return\n",
    "    # Open the image file\n",
    "    image_path = os.path.join(folder_path, file_name)\n",
    "    image = Image.open(image_path)\n",
    "\n",
    "    # Flip the image horizontally\n",
    "    flipped_image = image.transpose(Image.FLIP_LEFT_RIGHT)\n",
    "\n",
    "    # Save the flipped image with a new file name\n",
    "    flipped_image_path = os.path.join(folder_path, f\"{file_name.split('.')[0]}_flipped.{file_name.split('.')[1]}\")\n",
    "    flipped_image.save(flipped_image_path)\n",
    "\n",
    "    # Close the original image\n",
    "    image.close()\n",
    "    return os.path.join(folder_path, f\"{file_name.split('.')[0]}_flipped.{file_name.split('.')[1]}\")"
   ]
  },
  {
   "cell_type": "code",
   "execution_count": null,
   "metadata": {},
   "outputs": [],
   "source": [
    "def rotate_image(folder_path, file_name):\n",
    "    if 'flipped' in file_name or 'rotated' in file_name:\n",
    "        return\n",
    "    # Open the image file\n",
    "    image_path = os.path.join(folder_path, file_name)\n",
    "    image = Image.open(image_path)\n",
    "\n",
    "    # Rotate the image by 90 degrees clockwise\n",
    "    rotated_image = image.transpose(Image.ROTATE_90)\n",
    "\n",
    "    # Save the rotated image with a new file name\n",
    "    rotated_image_path = os.path.join(folder_path, f\"{file_name.split('.')[0]}_rotated.{file_name.split('.')[1]}\")\n",
    "    rotated_image.save(rotated_image_path)\n",
    "\n",
    "    # Close the original image\n",
    "    image.close()\n",
    "    return os.path.join(folder_path, f\"{file_name.split('.')[0]}_rotated.{file_name.split('.')[1]}\")"
   ]
  },
  {
   "cell_type": "code",
   "execution_count": null,
   "metadata": {},
   "outputs": [],
   "source": [
    "original_paths, flipped_paths, rotated_paths = [], [], []\n",
    "original_hashes, flipped_hashes, rotated_hashes = [], [], []\n",
    "for file in sorted(os.listdir(folder_path)):\n",
    "    if file.endswith(('.jpg', '.jpeg', '.png')):\n",
    "        original_paths.append(os.path.join(folder_path, file))\n",
    "        if original_paths[-1] is not None:\n",
    "            original_hashes.append(utils.compute_hash(original_paths[-1], hash_file_path='./nhcalc'))\n",
    "        \n",
    "        flipped_paths.append(flip_image(folder_path, file))    \n",
    "        if flipped_paths[-1] is None:\n",
    "            flipped_paths.pop(-1)\n",
    "        else:\n",
    "            flipped_hashes.append(utils.compute_hash(flipped_paths[-1], hash_file_path='./nhcalc'))\n",
    "        \n",
    "\n",
    "        rotated_paths.append(rotate_image(folder_path, file))    \n",
    "        if rotated_paths[-1] is None:\n",
    "            rotated_paths.pop(-1)\n",
    "        else:\n",
    "            rotated_hashes.append(utils.compute_hash(rotated_paths[-1], hash_file_path='./nhcalc'))"
   ]
  },
  {
   "cell_type": "code",
   "execution_count": null,
   "metadata": {},
   "outputs": [],
   "source": [
    "l2_threshold = 20\n",
    "hamming_threshold = 40"
   ]
  },
  {
   "attachments": {},
   "cell_type": "markdown",
   "metadata": {},
   "source": [
    "### Compute the Hamming Distances and L2 Distortion between the Hashes of the Flipped Sets of Images"
   ]
  },
  {
   "cell_type": "code",
   "execution_count": null,
   "metadata": {},
   "outputs": [],
   "source": [
    "# Original and flipped\n",
    "success = []\n",
    "for orig_path, flipped_path, orig_hash, flipped_hash in zip(original_paths, flipped_paths, original_hashes, flipped_hashes):\n",
    "    orig_img, flipped_img = utils.load_img(orig_path), utils.load_img(flipped_path)\n",
    "    hamming_dist, l2_dist = utils.distance(orig_hash, flipped_hash, \"hamming\"), utils.distance(orig_img, flipped_img, \"l2\")\n",
    "    print(f'{orig_path} & {flipped_path}\\t Hamming Distance: {hamming_dist/96 * 100:.2f}%\\t L2 Dist: {l2_dist:.2f}')\n",
    "    if hamming_dist >= hamming_threshold and l2_dist < l2_threshold:\n",
    "        success.append(1)\n",
    "    else:\n",
    "        success.append(0)"
   ]
  },
  {
   "cell_type": "code",
   "execution_count": null,
   "metadata": {},
   "outputs": [],
   "source": [
    "flipped_asr = sum(success)/len(success)\n",
    "print(f'ASR: {100*flipped_asr:.2f}%')"
   ]
  },
  {
   "attachments": {},
   "cell_type": "markdown",
   "metadata": {},
   "source": [
    "### Compute the Hamming Distances and L2 Distortion between the Hashes of the Rotated Sets of Images"
   ]
  },
  {
   "cell_type": "code",
   "execution_count": null,
   "metadata": {},
   "outputs": [],
   "source": [
    "# Original and rotated\n",
    "for orig_path, rotated_path, orig_hash, rotated_hash in zip(original_paths, rotated_paths, original_hashes, rotated_hashes):\n",
    "    orig_img, rotated_img = utils.load_img(orig_path), utils.load_img(rotated_path)\n",
    "    hamming_dist, l2_dist = utils.distance(orig_hash, rotated_hash, \"hamming\"), utils.distance(orig_img, rotated_img, \"l2\")\n",
    "    print(f'{orig_path} & {rotated_path}\\t Hamming Distance: {hamming_dist/96 * 100:.2f}%\\t L2 Dist: {l2_dist:.2f}')\n",
    "    if hamming_dist >= hamming_threshold and l2_dist < l2_threshold:\n",
    "        success.append(1)\n",
    "    else:\n",
    "        success.append(0)"
   ]
  },
  {
   "cell_type": "code",
   "execution_count": null,
   "metadata": {},
   "outputs": [],
   "source": [
    "rotated_asr = sum(success)/len(success)\n",
    "print(f'ASR: {100*rotated_asr:.2f}%')"
   ]
  },
  {
   "cell_type": "code",
   "execution_count": null,
   "metadata": {},
   "outputs": [],
   "source": []
  }
 ],
 "metadata": {
  "kernelspec": {
   "display_name": "nhash",
   "language": "python",
   "name": "python3"
  },
  "language_info": {
   "codemirror_mode": {
    "name": "ipython",
    "version": 3
   },
   "file_extension": ".py",
   "mimetype": "text/x-python",
   "name": "python",
   "nbconvert_exporter": "python",
   "pygments_lexer": "ipython3",
   "version": "3.9.16"
  },
  "orig_nbformat": 4
 },
 "nbformat": 4,
 "nbformat_minor": 2
}
