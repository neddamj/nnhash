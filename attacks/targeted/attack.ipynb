{
 "cells": [
  {
   "cell_type": "code",
   "execution_count": null,
   "metadata": {},
   "outputs": [],
   "source": [
    "import sys\n",
    "sys.path.append('..')\n",
    "\n",
    "# Helper imports\n",
    "from data import CIFAR10, IMAGENETTE\n",
    "import utils\n",
    "\n",
    "# Numerical computing and display imports\n",
    "import matplotlib.pyplot as plt\n",
    "import pandas as pd\n",
    "import numpy as np\n",
    "\n",
    "# Other imports\n",
    "from datetime import datetime\n",
    "import os"
   ]
  },
  {
   "cell_type": "code",
   "execution_count": null,
   "metadata": {},
   "outputs": [],
   "source": [
    "# Load and Prepare the Data\n",
    "folder_path = os.path.join('..', '..', 'images/')\n",
    "dataset = 'imagenette'    \n",
    "if dataset == 'cifar10':\n",
    "    images = CIFAR10()\n",
    "if dataset == 'imagenette':\n",
    "    images = IMAGENETTE()\n",
    "x = images.load()\n",
    "images.save_to_disk(x, folder_path, num_images=100)\n",
    "#folder_path = utils.move_data_to_temp_ram(folder_path, ram_size_mb=50)\n",
    "del(x)"
   ]
  },
  {
   "cell_type": "code",
   "execution_count": null,
   "metadata": {},
   "outputs": [],
   "source": [
    "hash_func = 'pdq'\n",
    "hamming_percentage = 0.4\n",
    "if hash_func == 'neuralhash':\n",
    "    attack_hamming_threshold = int(hamming_percentage * 128)\n",
    "else:\n",
    "    attack_hamming_threshold = int(hamming_percentage  * 256)"
   ]
  },
  {
   "cell_type": "code",
   "execution_count": null,
   "metadata": {},
   "outputs": [],
   "source": [
    "# Threshold-hyperparameter mappings\n",
    "if hash_func == 'neuralhash':\n",
    "    threshold_hyperparam = {\n",
    "        '1':  {'simba_hamming_threshold': 7,  'simba_l2_threshold': 20, 'hsja_l2_threshold': 8},\n",
    "        '6':  {'simba_hamming_threshold': 10, 'simba_l2_threshold': 20, 'hsja_l2_threshold': 12},\n",
    "        '12': {'simba_hamming_threshold': 20, 'simba_l2_threshold': 28, 'hsja_l2_threshold': 12},\n",
    "        '25': {'simba_hamming_threshold': 25, 'simba_l2_threshold': 30, 'hsja_l2_threshold': 15},\n",
    "        '38': {'simba_hamming_threshold': 40, 'simba_l2_threshold': 35, 'hsja_l2_threshold': 15},\n",
    "        '51': {'simba_hamming_threshold': 55, 'simba_l2_threshold': 35, 'hsja_l2_threshold': 15}\n",
    "    }\n",
    "else:\n",
    "    # PDQ\n",
    "    threshold_hyperparam = {\n",
    "        '2':  {'simba_hamming_threshold': 7,  'simba_l2_threshold': 20, 'hsja_l2_threshold': 8},\n",
    "        '12':  {'simba_hamming_threshold': 20, 'simba_l2_threshold': 20, 'hsja_l2_threshold': 12},\n",
    "        '25': {'simba_hamming_threshold': 40, 'simba_l2_threshold': 28, 'hsja_l2_threshold': 15},\n",
    "        '51': {'simba_hamming_threshold': 50, 'simba_l2_threshold': 30, 'hsja_l2_threshold': 15},\n",
    "        '76': {'simba_hamming_threshold': 80, 'simba_l2_threshold': 35, 'hsja_l2_threshold': 15},\n",
    "        '102': {'simba_hamming_threshold': 110, 'simba_l2_threshold': 35, 'hsja_l2_threshold': 15}\n",
    "    }\n",
    "\n",
    "# SIMBA Hyperparams\n",
    "simba_epsilon = 0.9\n",
    "simba_hamming_threshold = threshold_hyperparam[str(attack_hamming_threshold)]['simba_hamming_threshold']                                # <= 5% - 10(max) & 10% - 20 & 20% - 23 \n",
    "simba_l2_threshold = threshold_hyperparam[str(attack_hamming_threshold)]['simba_l2_threshold']\n",
    "simba_max_steps = 1500\n",
    "fast = True\n",
    "\n",
    "# HSJA Hyperparams\n",
    "hsja_max_steps = 10\n",
    "hsja_grad_queries = 20\n",
    "hsja_l2_threshold = threshold_hyperparam[str(attack_hamming_threshold)]['hsja_l2_threshold']\n",
    "\n",
    "# Other params\n",
    "ssim_threshold = 0.8\n",
    "now = datetime.now()\n",
    "dt_string = now.strftime(\"%d-%m-%Y_%H:%M:%S\")"
   ]
  },
  {
   "cell_type": "code",
   "execution_count": null,
   "metadata": {},
   "outputs": [],
   "source": [
    "# Threshold-hyperparameter mappings\n",
    "if hash_func == 'neuralhash':\n",
    "    nes_threshold_hyperparam = {\n",
    "        '1':  {'nes_l2_threshold': 25, 'nes_l2_tolerance': 10, 'hsja_l2_threshold': 10},\n",
    "        '6':  {'nes_l2_threshold': 35, 'nes_l2_tolerance': 12, 'hsja_l2_threshold': 15},\n",
    "        '12': {'nes_l2_threshold': 45, 'nes_l2_tolerance': 15, 'hsja_l2_threshold': 20},\n",
    "        '25': {'nes_l2_threshold': 55, 'nes_l2_tolerance': 20, 'hsja_l2_threshold': 24},\n",
    "        '38': {'nes_l2_threshold': 75, 'nes_l2_tolerance': 10, 'hsja_l2_threshold': 24},\n",
    "        '51': {'nes_l2_threshold': 75, 'nes_l2_tolerance': 10, 'hsja_l2_threshold': 24}\n",
    "    }\n",
    "else:\n",
    "    # PDQ\n",
    "    nes_threshold_hyperparam = {\n",
    "        '2':  {'nes_l2_threshold': 25, 'nes_l2_tolerance': 10, 'hsja_l2_threshold': 10},\n",
    "        '12':  {'nes_l2_threshold': 35, 'nes_l2_tolerance': 12, 'hsja_l2_threshold': 15},\n",
    "        '25': {'nes_l2_threshold': 45, 'nes_l2_tolerance': 15, 'hsja_l2_threshold': 20},\n",
    "        '51': {'nes_l2_threshold': 55, 'nes_l2_tolerance': 20, 'hsja_l2_threshold': 24},\n",
    "        '76': {'nes_l2_threshold': 75, 'nes_l2_tolerance': 10, 'hsja_l2_threshold': 24},\n",
    "        '102': {'nes_l2_threshold': 75, 'nes_l2_tolerance': 10, 'hsja_l2_threshold': 24}\n",
    "    }\n",
    "# NES Hyperparams\n",
    "nes_mean = -0.025   #-0.1 (PDQ)\n",
    "nes_std = 0.1       #0.001 (PDQ)\n",
    "nes_sigma = 0.7\n",
    "nes_eps = 0.1                      \n",
    "nes_l2_threshold = nes_threshold_hyperparam[str(attack_hamming_threshold)]['nes_l2_threshold'] \n",
    "nes_l2_tolerance = nes_threshold_hyperparam[str(attack_hamming_threshold)]['nes_l2_tolerance'] \n",
    "nes_num_samples = 50"
   ]
  },
  {
   "cell_type": "code",
   "execution_count": null,
   "metadata": {},
   "outputs": [],
   "source": [
    "if hash_func == 'neuralhash':\n",
    "    zo_threshold_hyperparam = {\n",
    "        '1':  {'zo_l2_threshold': 25, 'zo_l2_tolerance': 10},\n",
    "        '6':  {'zo_l2_threshold': 35, 'zo_l2_tolerance': 12},\n",
    "        '12': {'zo_l2_threshold': 45, 'zo_l2_tolerance': 15},\n",
    "        '25': {'zo_l2_threshold': 55, 'zo_l2_tolerance': 20},\n",
    "        '38': {'zo_l2_threshold': 75, 'zo_l2_tolerance': 10},\n",
    "        '51': {'zo_l2_threshold': 75, 'zo_l2_tolerance': 10}\n",
    "    }  \n",
    "else:\n",
    "    # PDQ\n",
    "    zo_threshold_hyperparam = {\n",
    "        '2':  {'zo_l2_threshold': 25, 'zo_l2_tolerance': 10},\n",
    "        '12':  {'zo_l2_threshold': 35, 'zo_l2_tolerance': 12},\n",
    "        '25': {'zo_l2_threshold': 45, 'zo_l2_tolerance': 15},\n",
    "        '51': {'zo_l2_threshold': 55, 'zo_l2_tolerance': 20},\n",
    "        '76': {'zo_l2_threshold': 75, 'zo_l2_tolerance': 10},\n",
    "        '102': {'zo_l2_threshold': 75, 'zo_l2_tolerance': 10}\n",
    "    } \n",
    "\n",
    "# ZO-SignSGD Hyperparameters\n",
    "zo_max_queries = 50\n",
    "zo_epsilon = 0.1\n",
    "zo_upper_tolerance = 10 \n",
    "zo_lower_tolerance = 5\n",
    "zo_l2_threshold = zo_threshold_hyperparam[str(attack_hamming_threshold)]['zo_l2_threshold'] \n",
    "zo_l2_tolerance = zo_threshold_hyperparam[str(attack_hamming_threshold)]['zo_l2_tolerance'] \n",
    "zo_search_steps = 50"
   ]
  },
  {
   "cell_type": "code",
   "execution_count": null,
   "metadata": {},
   "outputs": [],
   "source": [
    "# Soft-Label Attack imports\n",
    "from zo_signsgd import ZOSignSGDttack\n",
    "from simba import SimBAttack\n",
    "from nes import NESAttack\n",
    "\n",
    "zosignsgd = ZOSignSGDttack(max_queries=zo_max_queries, \n",
    "                           epsilon=zo_epsilon, \n",
    "                           hamming_threshold=attack_hamming_threshold,\n",
    "                           search_steps=zo_search_steps)\n",
    "simba = SimBAttack(eps=simba_epsilon,\n",
    "                   hamming_threshold=simba_hamming_threshold,\n",
    "                   max_steps=simba_max_steps,\n",
    "                   fast=fast)\n",
    "nes = NESAttack(mean=nes_mean,\n",
    "                std=nes_std,\n",
    "                sigma=nes_sigma,\n",
    "                eps=nes_eps,\n",
    "                hamming_threshold=attack_hamming_threshold,\n",
    "                num_samples=nes_num_samples)"
   ]
  },
  {
   "cell_type": "code",
   "execution_count": null,
   "metadata": {},
   "outputs": [],
   "source": [
    "# Hard-label Attack imports\n",
    "from hsja import HSJAttack\n",
    "\n",
    "hsja = HSJAttack(max_iters=hsja_max_steps, \n",
    "                 grad_queries=hsja_grad_queries, \n",
    "                 l2_threshold=hsja_l2_threshold, \n",
    "                 hamming_threshold=attack_hamming_threshold)"
   ]
  },
  {
   "cell_type": "code",
   "execution_count": null,
   "metadata": {},
   "outputs": [],
   "source": [
    "# Joint Attack\n",
    "from joint_attack import JointAttack\n",
    "\n",
    "joint_attack = JointAttack(soft_label=zosignsgd, \n",
    "                           hard_label=hsja)"
   ]
  },
  {
   "cell_type": "code",
   "execution_count": null,
   "metadata": {},
   "outputs": [],
   "source": [
    "folder_path"
   ]
  },
  {
   "cell_type": "code",
   "execution_count": null,
   "metadata": {},
   "outputs": [],
   "source": [
    "for i in range(0, 99):\n",
    "    # Format the path to the input image\n",
    "    img_path = os.path.join(folder_path, f'{i+2}.bmp')\n",
    "    target_path = os.path.join(folder_path, '1.bmp')\n",
    "\n",
    "    # Load the target image\n",
    "    target_img = utils.load_img(target_path)\n",
    "\n",
    "    # Attack NeuralHash \n",
    "    orig_img, sl_img, adv_img, sl_num_queries, hl_num_queries = joint_attack.attack(img_path, target_path)\n",
    "    \n",
    "    # Save the simba image and the final image\n",
    "    utils.save_img(os.path.join(folder_path, f'{i+2}_sl.bmp'), sl_img)  \n",
    "    utils.save_img(os.path.join(folder_path, f'{i+2}_final.bmp'), adv_img)\n",
    "\n",
    "    # Attack Metrics\n",
    "    orig_hash  = utils.compute_hash(orig_img)\n",
    "    target_hash = utils.compute_hash(target_path)\n",
    "    sl_hash = utils.compute_hash(sl_img)\n",
    "    adv_hash = utils.compute_hash(adv_img)\n",
    "    simba_hamming_dist = utils.distance(target_hash, sl_hash, \"hamming\")\n",
    "    final_hamming_dist = utils.distance(target_hash, adv_hash, \"hamming\")\n",
    "    sl_l2_dist = utils.distance(orig_img, sl_img, 'l2')\n",
    "    final_l2_dist = utils.distance(orig_img, adv_img, 'l2')\n",
    "    sl_ssim = utils.distance(orig_img, sl_img, 'ssim')\n",
    "    final_ssim = utils.distance(orig_img, adv_img.astype(np.uint8), 'ssim')\n",
    "    total_queries = sl_num_queries + hl_num_queries\n",
    "    success = (final_hamming_dist <= attack_hamming_threshold) and (final_ssim >= ssim_threshold)\n",
    "\n",
    "    attack_metrics = {\n",
    "        'Image Path':         [img_path],\n",
    "        'Target Path':        [target_path],\n",
    "        'Success':            [success],\n",
    "        'Queries':            [total_queries],\n",
    "        'Soft-Label L2':      [sl_l2_dist],\n",
    "        'Final L2':           [final_l2_dist],\n",
    "        'Sotf-Label SSIM':    [sl_ssim],\n",
    "        'Final SSIM':         [final_ssim],\n",
    "        'Soft-Label Hamming': [simba_hamming_dist],\n",
    "        'Final Hamming':      [final_hamming_dist]\n",
    "    }\n",
    "\n",
    "    # Save the results\n",
    "    df = pd.DataFrame.from_dict(attack_metrics)\n",
    "    if type(joint_attack.soft_label) == SimBAttack:\n",
    "        sl_attack = 'simba'\n",
    "        eps = simba_epsilon\n",
    "    elif type(joint_attack.soft_label) == NESAttack:\n",
    "        sl_attack = 'nes'\n",
    "        eps = nes_eps\n",
    "    else:\n",
    "        sl_attack = 'zo_signsgd'\n",
    "        eps = zo_epsilon\n",
    "    \n",
    "    file_path = os.path.join('metrics', sl_attack, str(eps), f'pdq_hamm_{attack_hamming_threshold}_l2_{hsja_l2_threshold}_{dt_string}.csv')\n",
    "    if os.path.exists(file_path):\n",
    "        df.to_csv(file_path, mode='a', index=False, header=False)\n",
    "    else: \n",
    "        df.to_csv(file_path, index=False, header=True)  \n",
    "    \n",
    "    break"
   ]
  },
  {
   "cell_type": "code",
   "execution_count": null,
   "metadata": {},
   "outputs": [],
   "source": [
    "def plot_results(orig_img, sl_img, adv_img, hamming_threshold):\n",
    "    fig, (ax1, ax2, ax3) = plt.subplots(1, 3, figsize=(15,6))\n",
    "    #fig.suptitle(f'Hamming Threshold: {hamming_threshold}')\n",
    "    ax1.imshow(orig_img)\n",
    "    ax1.set_title('Orginal Image') \n",
    "    ax2.imshow(sl_img)\n",
    "    ax2.set_title('Noisy Soft-Label Image')\n",
    "    ax3.imshow(adv_img.astype(np.uint8))\n",
    "    ax3.set_title('Denoised Final Image')"
   ]
  },
  {
   "cell_type": "code",
   "execution_count": null,
   "metadata": {},
   "outputs": [],
   "source": [
    "# Show the images/results\n",
    "plot_results(orig_img, sl_img, adv_img, attack_hamming_threshold)"
   ]
  },
  {
   "cell_type": "markdown",
   "metadata": {},
   "source": [
    "### Analyze the Results"
   ]
  },
  {
   "cell_type": "code",
   "execution_count": null,
   "metadata": {},
   "outputs": [],
   "source": [
    "df = pd.read_csv(file_path)\n",
    "df.head()"
   ]
  },
  {
   "cell_type": "code",
   "execution_count": null,
   "metadata": {},
   "outputs": [],
   "source": [
    "queries = np.array(df['Queries'])\n",
    "avg_queries = queries.mean()\n",
    "print(f'The attacks were completed in {int(avg_queries)} queries on average')"
   ]
  },
  {
   "cell_type": "code",
   "execution_count": null,
   "metadata": {},
   "outputs": [],
   "source": [
    "sl_hamm = np.array(df['Soft-Label Hamming'])\n",
    "sl_ssim = np.array(df['Sotf-Label SSIM'])\n",
    "asr = 0\n",
    "for hamm, ssim in zip(sl_hamm, sl_ssim):\n",
    "    asr += 1 if (hamm <= attack_hamming_threshold  and ssim >= 0.8) else 0\n",
    "print(asr)"
   ]
  },
  {
   "cell_type": "code",
   "execution_count": null,
   "metadata": {},
   "outputs": [],
   "source": [
    "success = np.array(df['Success'])\n",
    "ASR = success.mean()\n",
    "print(f'The ASR is {100*ASR:.2f}% ')"
   ]
  },
  {
   "cell_type": "code",
   "execution_count": null,
   "metadata": {},
   "outputs": [],
   "source": [
    "hamming_dist = np.array(df['Final Hamming'])\n",
    "avg_hamm = hamming_dist.mean()\n",
    "print(f'The average hamming distance after joint attack is {avg_hamm}')"
   ]
  },
  {
   "cell_type": "code",
   "execution_count": null,
   "metadata": {},
   "outputs": [],
   "source": [
    "simba_l2_dist = np.array(df['Soft-Label L2'])/np.sqrt(224*224*3)\n",
    "simba_avg_l2 = simba_l2_dist.mean()\n",
    "simba_l2_std = np.std(simba_l2_dist)\n",
    "print(f'The average L2 distortion after the soft-label attack is {simba_avg_l2:.4f} +- {simba_l2_std:.4f}')\n",
    "\n",
    "final_l2_dist = np.array(df['Final L2'])/np.sqrt(224*224*3)\n",
    "final_avg_l2 = final_l2_dist.mean()\n",
    "final_l2_std = np.std(final_l2_dist)\n",
    "print(f'The average L2 distortion after the complete attack is {final_avg_l2:.4f} +- {final_l2_std}')"
   ]
  },
  {
   "cell_type": "code",
   "execution_count": null,
   "metadata": {},
   "outputs": [],
   "source": [
    "index = np.arange(99)\n",
    "bar_width = 0.3\n",
    "fig, ax = plt.subplots(figsize=(15,6)) \n",
    "simba_distortion = ax.bar(index, df['Soft-Label L2'], bar_width, label='Soft-Label L2 Dist')\n",
    "output_distortion = ax.bar(index + bar_width, df['Final L2'], bar_width, label='Final L2 Dist')\n",
    "ax.set_label('Image')\n",
    "ax.set_ylabel('L2 Distortion')\n",
    "ax.legend()\n",
    "\n",
    "plt.show()"
   ]
  },
  {
   "cell_type": "code",
   "execution_count": null,
   "metadata": {},
   "outputs": [],
   "source": []
  },
  {
   "cell_type": "code",
   "execution_count": null,
   "metadata": {},
   "outputs": [],
   "source": []
  }
 ],
 "metadata": {
  "kernelspec": {
   "display_name": "Python 3 (ipykernel)",
   "language": "python",
   "name": "python3"
  },
  "language_info": {
   "codemirror_mode": {
    "name": "ipython",
    "version": 3
   },
   "file_extension": ".py",
   "mimetype": "text/x-python",
   "name": "python",
   "nbconvert_exporter": "python",
   "pygments_lexer": "ipython3",
   "version": "3.9.16"
  }
 },
 "nbformat": 4,
 "nbformat_minor": 2
}
