{
 "cells": [
  {
   "cell_type": "code",
   "execution_count": null,
   "metadata": {},
   "outputs": [],
   "source": [
    "import sys\n",
    "sys.path.append('..')\n",
    "\n",
    "# Attack imports\n",
    "from simba import simba_attack_image\n",
    "from hsja import hop_skip_jump_attack\n",
    "\n",
    "# Helper imports\n",
    "from data import CIFAR10, IMAGENETTE\n",
    "import utils\n",
    "\n",
    "# Numerical computing and display imports\n",
    "import matplotlib.pyplot as plt\n",
    "from PIL import Image\n",
    "import numpy as np\n",
    "\n",
    "# Other imports\n",
    "from datetime import datetime\n",
    "import logging"
   ]
  },
  {
   "cell_type": "code",
   "execution_count": null,
   "metadata": {},
   "outputs": [],
   "source": [
    "# Load and Prepare the Data\n",
    "folder_path = '../../images/'\n",
    "dataset = 'imagenette'    \n",
    "if dataset == 'cifar10':\n",
    "    images = CIFAR10()\n",
    "if dataset == 'imagenette':\n",
    "    images = IMAGENETTE()\n",
    "x = images.load()\n",
    "images.save_to_disk(x, folder_path, num_images=100)\n",
    "folder_path = utils.move_data_to_temp_ram(folder_path, ram_size_mb=50)"
   ]
  },
  {
   "cell_type": "code",
   "execution_count": null,
   "metadata": {},
   "outputs": [],
   "source": [
    "# SIMBA Hyperparams\n",
    "simba_epsilon = 0.9\n",
    "simba_hamming_threshold = 30\n",
    "simba_max_steps = 10000\n",
    "\n",
    "# HSJA Hyperparams\n",
    "hsja_max_steps = 2\n",
    "hsja_grad_queries = 20\n",
    "hsja_l2_threshold = 25\n",
    "hsja_hamming_threshold = int(0.2 * 96 + 0.5)                # 10% ~ 10 and 50% = 48"
   ]
  },
  {
   "cell_type": "code",
   "execution_count": null,
   "metadata": {},
   "outputs": [],
   "source": [
    "# Configure logging\n",
    "now = datetime.now()\n",
    "dt_string = now.strftime(\"%d-%m-%Y_%H:%M:%S\")\n",
    "logging.basicConfig(filename=f'../../logs/targeted/Eps-{simba_epsilon}_Bits-{simba_hamming_threshold}_{dt_string}.log',\n",
    "                    format='%(asctime)s %(message)s',\n",
    "                    level='DEBUG',\n",
    "                    filemode='w',\n",
    "                    force=True)\n",
    "logger = logging.getLogger()\n",
    "logger.info(f'Epsilon: {simba_epsilon}\\tMismatched Bits Threshold: {simba_hamming_threshold}\\n')"
   ]
  },
  {
   "cell_type": "code",
   "execution_count": null,
   "metadata": {},
   "outputs": [],
   "source": [
    "def joint_attack(img_path,\n",
    "           target_img_path,\n",
    "           epsilon, \n",
    "           logger,\n",
    "           max_mismatched_bits,\n",
    "           simba_max_steps,\n",
    "           hsja_max_steps,\n",
    "           grad_queries,\n",
    "           l2_threshold,\n",
    "           hamming_threshold):\n",
    "    # Soft-label attack\n",
    "    (simba_filename, simba_queries) = simba_attack_image(img_path=img_path, \n",
    "                                          target_path=target_img_path,\n",
    "                                          eps=epsilon, \n",
    "                                          logger=logger,\n",
    "                                          max_steps=simba_max_steps,\n",
    "                                          mismatched_threshold=max_mismatched_bits)\n",
    "    # Hard-label attack\n",
    "    (adv_img, hsja_queries) = hop_skip_jump_attack(orig_img_path=target_img_path, \n",
    "                                target_img_path=simba_filename, \n",
    "                                max_iters=hsja_max_steps, \n",
    "                                grad_queries=grad_queries, \n",
    "                                l2_threshold=l2_threshold, \n",
    "                                hamming_threshold=hamming_threshold)\n",
    "    # Load the original image as well as the noisy adv. image outputted by simba\n",
    "    orig_img, simba_img = utils.load_img(img_path), utils.load_img(simba_filename)\n",
    "    return orig_img, simba_img, adv_img, simba_queries, hsja_queries"
   ]
  },
  {
   "cell_type": "code",
   "execution_count": null,
   "metadata": {},
   "outputs": [],
   "source": [
    "# Format the path to the input image and target image\n",
    "img_path = '../../images/1.jpeg' \n",
    "_, _, _, _, path, filetype = img_path.split('.')\n",
    "img_path = path.split('/')\n",
    "img_path = f'{folder_path}{img_path[2]}.{filetype}'\n",
    "\n",
    "target_img_path = '../../images/3.jpeg' \n",
    "_, _, _, _, path, filetype = target_img_path.split('.')\n",
    "target_img_path = path.split('/')\n",
    "target_img_path = f'{folder_path}{target_img_path[2]}.{filetype}'\n",
    "\n",
    "# Attack NeuralHash \n",
    "orig_img, simba_img, adv_img, simba_num_queries, hsja_num_queries = joint_attack(img_path,\n",
    "                                                                        target_img_path, \n",
    "                                                                        simba_epsilon, \n",
    "                                                                        logger, \n",
    "                                                                        simba_hamming_threshold, \n",
    "                                                                        simba_max_steps, \n",
    "                                                                        hsja_max_steps, \n",
    "                                                                        hsja_grad_queries, \n",
    "                                                                        hsja_l2_threshold, \n",
    "                                                                        hsja_hamming_threshold)"
   ]
  },
  {
   "cell_type": "code",
   "execution_count": null,
   "metadata": {},
   "outputs": [],
   "source": [
    "# Attack Matrics\n",
    "orig_img, target_img = utils.load_img(img_path), utils.load_img(target_img_path)\n",
    "orig_hash, simba_hash, adv_hash, target_hash = utils.compute_hash(orig_img), utils.compute_hash(simba_img), utils.compute_hash(adv_img), utils.compute_hash(target_img)\n",
    "simba_hamming_dist = utils.distance(target_hash, simba_hash, \"hamming\")\n",
    "final_hamming_dist = utils.distance(target_hash, adv_hash, \"hamming\")\n",
    "simba_l2_dist = utils.distance(orig_img, simba_img, 'l2')\n",
    "final_l2_dist = utils.distance(orig_img, adv_img, 'l2')\n",
    "print(f'Simba Hamming Dist: {simba_hamming_dist} \\tFinal Hamming Dist: {final_hamming_dist}')\n",
    "print(f\"Simba L2 Dist: {simba_l2_dist} \\tFinal L2 Dist: {final_l2_dist}\\n\")\n",
    "if final_hamming_dist <= hsja_hamming_threshold and final_l2_dist < hsja_l2_threshold:\n",
    "    print('The attack was successful\\n')\n",
    "else:\n",
    "    print('The attack failed\\n')\n",
    "\n",
    "total_queries = simba_num_queries + hsja_num_queries\n",
    "print(f'Total Queries: {total_queries}')"
   ]
  },
  {
   "cell_type": "code",
   "execution_count": null,
   "metadata": {},
   "outputs": [],
   "source": [
    "def plot_results(orig_img, simba_img, adv_img, target_img, hamming_threshold):\n",
    "    fig, (ax1, ax2, ax3, ax4) = plt.subplots(1, 4, figsize=(20,6))\n",
    "    fig.suptitle(f'Hamming Threshold: {hamming_threshold}')\n",
    "    ax1.imshow(orig_img)\n",
    "    ax1.set_title('Orginal Image')\n",
    "    ax2.imshow(simba_img)\n",
    "    ax2.set_title('Noisy Simba Image')\n",
    "    ax3.imshow(adv_img.astype(np.uint8))\n",
    "    ax3.set_title('Denoised Final Image')\n",
    "    ax4.imshow(target_img.astype(np.uint8))\n",
    "    ax4.set_title('Target Image')"
   ]
  },
  {
   "cell_type": "code",
   "execution_count": null,
   "metadata": {},
   "outputs": [],
   "source": [
    "# Show the images/results\n",
    "plot_results(orig_img, simba_img, adv_img, target_img, hsja_hamming_threshold)"
   ]
  },
  {
   "cell_type": "code",
   "execution_count": null,
   "metadata": {},
   "outputs": [],
   "source": []
  }
 ],
 "metadata": {
  "kernelspec": {
   "display_name": "nhash",
   "language": "python",
   "name": "python3"
  },
  "language_info": {
   "codemirror_mode": {
    "name": "ipython",
    "version": 3
   },
   "file_extension": ".py",
   "mimetype": "text/x-python",
   "name": "python",
   "nbconvert_exporter": "python",
   "pygments_lexer": "ipython3",
   "version": "3.9.16"
  },
  "orig_nbformat": 4
 },
 "nbformat": 4,
 "nbformat_minor": 2
}
