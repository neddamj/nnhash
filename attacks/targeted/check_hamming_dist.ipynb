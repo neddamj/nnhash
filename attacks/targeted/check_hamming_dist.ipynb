{
 "cells": [
  {
   "cell_type": "code",
   "execution_count": null,
   "metadata": {},
   "outputs": [],
   "source": [
    "import sys\n",
    "sys.path.append('..')\n",
    "\n",
    "# Helper imports\n",
    "from data import CIFAR10, IMAGENETTE\n",
    "import utils\n",
    "\n",
    "# Numerical computing and display imports\n",
    "import matplotlib.pyplot as plt\n",
    "from PIL import Image\n",
    "import numpy as np\n",
    "\n",
    "# Other imports\n",
    "from datetime import datetime\n",
    "import logging\n",
    "import pickle\n",
    "import os"
   ]
  },
  {
   "cell_type": "code",
   "execution_count": null,
   "metadata": {},
   "outputs": [],
   "source": [
    "# Load and Prepare the Data\n",
    "folder_path = '../../images/'\n",
    "dataset = 'imagenette'    \n",
    "if dataset == 'cifar10':\n",
    "    images = CIFAR10()\n",
    "if dataset == 'imagenette':\n",
    "    images = IMAGENETTE()\n",
    "x = images.load()\n",
    "images.save_to_disk(x, folder_path, num_images=110)\n",
    "folder_path = utils.move_data_to_temp_ram(folder_path, ram_size_mb=50)"
   ]
  },
  {
   "cell_type": "code",
   "execution_count": null,
   "metadata": {},
   "outputs": [],
   "source": [
    "hamm_distance = [[], []]\n",
    "hash_funcs = ['neuralhash', 'pdq']\n",
    "hash_lengths = [128, 256]\n",
    "\n",
    "for i, hash_func in enumerate(hash_funcs):\n",
    "    print(f'PHA {i+1}: {hash_func}')\n",
    "    for j in range(5):\n",
    "        target_path = f'../../images/{105+(j+1)}.bmp' \n",
    "        target_hash = utils.compute_hash(target_path, hash_func=hash_func)\n",
    "\n",
    "        for k in range(100):\n",
    "            img_path = f'../../images/{k+1}.bmp' \n",
    "            img_hash = utils.compute_hash(img_path, hash_func=hash_func)\n",
    "            # Compute the hamming distance between the images\n",
    "            hamm = utils.distance(img_hash, target_hash, type='hamming', hash_func=hash_func)\n",
    "            hamm_distance[i].append(hamm/hash_lengths[i])\n",
    "            print(f'{j*50 + (k+1)}: Relative Hamming Distance {(hamm/hash_lengths[i])*100:.2f}%')\n",
    "    print(f'Average Relative Hamming Distance: {sum(hamm_distance[i])/len(hamm_distance[i]) :.2f}')"
   ]
  },
  {
   "cell_type": "code",
   "execution_count": null,
   "metadata": {},
   "outputs": [],
   "source": [
    "neuralhash_hamm_distance = sorted(hamm_distance[0])\n",
    "count, bins_count = np.histogram(neuralhash_hamm_distance, bins=500) \n",
    "pdf = count / sum(count)\n",
    "cdf = np.cumsum(pdf)\n",
    "plt.plot(bins_count[1:], cdf, label=\"NeuralHash\") \n",
    "\n",
    "pdq_hamm_distance = sorted(hamm_distance[1])\n",
    "count, bins_count = np.histogram(pdq_hamm_distance, bins=500) \n",
    "pdf = count / sum(count)\n",
    "cdf = np.cumsum(pdf)\n",
    "plt.plot(bins_count[1:], cdf, label=\"PDQ\") \n",
    "plt.xlabel('Hamming Distances')\n",
    "plt.ylabel('Probabilities')\n",
    "plt.legend()"
   ]
  },
  {
   "cell_type": "code",
   "execution_count": null,
   "metadata": {},
   "outputs": [],
   "source": []
  }
 ],
 "metadata": {
  "kernelspec": {
   "display_name": "nhash",
   "language": "python",
   "name": "python3"
  },
  "language_info": {
   "codemirror_mode": {
    "name": "ipython",
    "version": 3
   },
   "file_extension": ".py",
   "mimetype": "text/x-python",
   "name": "python",
   "nbconvert_exporter": "python",
   "pygments_lexer": "ipython3",
   "version": "3.9.16"
  }
 },
 "nbformat": 4,
 "nbformat_minor": 2
}
