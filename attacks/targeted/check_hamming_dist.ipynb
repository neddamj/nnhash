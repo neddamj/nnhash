{
 "cells": [
  {
   "cell_type": "code",
   "execution_count": null,
   "metadata": {},
   "outputs": [],
   "source": [
    "import sys\n",
    "sys.path.append('..')\n",
    "\n",
    "# Helper imports\n",
    "from data import CIFAR10, IMAGENETTE\n",
    "import utils\n",
    "\n",
    "# Numerical computing and display imports\n",
    "import matplotlib.pyplot as plt\n",
    "from PIL import Image\n",
    "import numpy as np\n",
    "\n",
    "# Other imports\n",
    "from datetime import datetime\n",
    "import logging\n",
    "import pickle\n",
    "import os"
   ]
  },
  {
   "cell_type": "code",
   "execution_count": null,
   "metadata": {},
   "outputs": [],
   "source": [
    "# Load and Prepare the Data\n",
    "folder_path = '../../images/'\n",
    "dataset = 'imagenette'    \n",
    "if dataset == 'cifar10':\n",
    "    images = CIFAR10()\n",
    "if dataset == 'imagenette':\n",
    "    images = IMAGENETTE()\n",
    "x = images.load()\n",
    "images.save_to_disk(x, folder_path, num_images=110)\n",
    "folder_path = utils.move_data_to_temp_ram(folder_path, ram_size_mb=50)"
   ]
  },
  {
   "cell_type": "code",
   "execution_count": null,
   "metadata": {},
   "outputs": [],
   "source": [
    "hamm_distance = []\n",
    "\n",
    "for j in range(5):\n",
    "    target_path = f'../../images/{105+(j+1)}.bmp' \n",
    "    target_hash = utils.compute_hash(target_path)\n",
    "\n",
    "    for i in range(100):\n",
    "        img_path = f'../../images/{i+1}.bmp' \n",
    "        img_hash = utils.compute_hash(img_path)\n",
    "        # Compute the hamming distance between the images\n",
    "        hamm = utils.distance(img_hash, target_hash, 'hamming')\n",
    "        hamm_distance.append(hamm/128)\n",
    "        print(f'Relative Hamming Distance {(hamm/128)*100:.2f}%')\n",
    "\n",
    "print(f'Average Relative Hamming Distance: {sum(hamm_distance)/len(hamm_distance) :.2f}')"
   ]
  },
  {
   "cell_type": "code",
   "execution_count": null,
   "metadata": {},
   "outputs": [],
   "source": [
    "plt.bar(np.linspace(1, len(hamm_distance), num=len(hamm_distance)), hamm_distance)\n",
    "plt.axhline(0.4, color='r', linestyle='--')\n",
    "plt.ylabel('Hamming Distance')\n",
    "plt.xlabel('Image Index')\n",
    "#plt.title('PDQ Hamming Distance between 2 Distinct Images')"
   ]
  }
 ],
 "metadata": {
  "kernelspec": {
   "display_name": "nhash",
   "language": "python",
   "name": "python3"
  },
  "language_info": {
   "codemirror_mode": {
    "name": "ipython",
    "version": 3
   },
   "file_extension": ".py",
   "mimetype": "text/x-python",
   "name": "python",
   "nbconvert_exporter": "python",
   "pygments_lexer": "ipython3",
   "version": "3.9.16"
  }
 },
 "nbformat": 4,
 "nbformat_minor": 2
}
