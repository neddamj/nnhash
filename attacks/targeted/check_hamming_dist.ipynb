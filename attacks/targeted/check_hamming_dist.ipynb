{
 "cells": [
  {
   "cell_type": "code",
   "execution_count": 4,
   "metadata": {},
   "outputs": [
    {
     "name": "stderr",
     "output_type": "stream",
     "text": [
      "/Users/neddamj/miniforge3/envs/nhash/lib/python3.9/site-packages/tqdm/auto.py:21: TqdmWarning: IProgress not found. Please update jupyter and ipywidgets. See https://ipywidgets.readthedocs.io/en/stable/user_install.html\n",
      "  from .autonotebook import tqdm as notebook_tqdm\n"
     ]
    }
   ],
   "source": [
    "import sys\n",
    "sys.path.append('..')\n",
    "\n",
    "# Helper imports\n",
    "from data import CIFAR10, IMAGENETTE\n",
    "import utils\n",
    "\n",
    "# Numerical computing and display imports\n",
    "import matplotlib.pyplot as plt\n",
    "from PIL import Image\n",
    "import numpy as np\n",
    "\n",
    "# Other imports\n",
    "from datetime import datetime\n",
    "import logging\n",
    "import pickle\n",
    "import os"
   ]
  },
  {
   "cell_type": "code",
   "execution_count": 5,
   "metadata": {},
   "outputs": [
    {
     "name": "stdout",
     "output_type": "stream",
     "text": [
      "Metal device set to: Apple M1\n",
      "\n",
      "systemMemory: 8.00 GB\n",
      "maxCacheSize: 2.67 GB\n",
      "\n"
     ]
    },
    {
     "name": "stderr",
     "output_type": "stream",
     "text": [
      "2024-04-09 10:58:21.091899: W tensorflow/tsl/platform/profile_utils/cpu_utils.cc:128] Failed to get CPU frequency: 0 Hz\n"
     ]
    },
    {
     "name": "stdout",
     "output_type": "stream",
     "text": [
      "[INFO] Images saved\n",
      "Started erase on disk4\n",
      "Unmounting disk\n",
      "Erasing\n",
      "Initialized /dev/rdisk4 as a 50 MB case-insensitive HFS Plus volume\n",
      "Mounting disk\n",
      "Finished erase on disk4 (TempRAM)\n",
      "[INFO] RAM Disk Created...\n",
      "[INFO] Files moved to temp RAM...\n"
     ]
    }
   ],
   "source": [
    "# Load and Prepare the Data\n",
    "folder_path = '../../images/'\n",
    "dataset = 'imagenette'    \n",
    "if dataset == 'cifar10':\n",
    "    images = CIFAR10()\n",
    "if dataset == 'imagenette':\n",
    "    images = IMAGENETTE()\n",
    "x = images.load()\n",
    "images.save_to_disk(x, folder_path, num_images=100)\n",
    "folder_path = utils.move_data_to_temp_ram(folder_path, ram_size_mb=50)"
   ]
  },
  {
   "cell_type": "code",
   "execution_count": 8,
   "metadata": {},
   "outputs": [
    {
     "name": "stdout",
     "output_type": "stream",
     "text": [
      "Relative Hamming Distance 41.41%\n",
      "Relative Hamming Distance 39.06%\n",
      "Relative Hamming Distance 44.53%\n",
      "Relative Hamming Distance 39.84%\n",
      "Relative Hamming Distance 39.06%\n",
      "Relative Hamming Distance 39.84%\n",
      "Relative Hamming Distance 38.28%\n",
      "Relative Hamming Distance 42.97%\n",
      "Relative Hamming Distance 35.94%\n",
      "Relative Hamming Distance 43.75%\n",
      "Relative Hamming Distance 40.62%\n",
      "Relative Hamming Distance 43.75%\n",
      "Relative Hamming Distance 45.31%\n",
      "Relative Hamming Distance 46.88%\n",
      "Relative Hamming Distance 49.22%\n",
      "Relative Hamming Distance 46.09%\n",
      "Relative Hamming Distance 42.97%\n",
      "Relative Hamming Distance 46.88%\n",
      "Relative Hamming Distance 42.19%\n",
      "Relative Hamming Distance 42.97%\n",
      "Relative Hamming Distance 36.72%\n",
      "Relative Hamming Distance 37.50%\n",
      "Relative Hamming Distance 45.31%\n",
      "Relative Hamming Distance 35.94%\n",
      "Relative Hamming Distance 40.62%\n",
      "Relative Hamming Distance 43.75%\n",
      "Relative Hamming Distance 44.53%\n",
      "Relative Hamming Distance 38.28%\n",
      "Relative Hamming Distance 39.84%\n",
      "Relative Hamming Distance 39.06%\n",
      "Relative Hamming Distance 42.97%\n",
      "Relative Hamming Distance 34.38%\n",
      "Relative Hamming Distance 44.53%\n",
      "Relative Hamming Distance 38.28%\n",
      "Relative Hamming Distance 46.88%\n",
      "Relative Hamming Distance 41.41%\n",
      "Relative Hamming Distance 43.75%\n",
      "Relative Hamming Distance 41.41%\n",
      "Relative Hamming Distance 42.97%\n",
      "Relative Hamming Distance 39.84%\n",
      "Relative Hamming Distance 39.06%\n",
      "Relative Hamming Distance 47.66%\n",
      "Relative Hamming Distance 38.28%\n",
      "Relative Hamming Distance 38.28%\n",
      "Relative Hamming Distance 46.88%\n",
      "Relative Hamming Distance 46.09%\n",
      "Relative Hamming Distance 40.62%\n",
      "Relative Hamming Distance 39.84%\n",
      "Relative Hamming Distance 53.12%\n",
      "Relative Hamming Distance 39.84%\n",
      "Relative Hamming Distance 37.50%\n",
      "Relative Hamming Distance 37.50%\n",
      "Relative Hamming Distance 44.53%\n",
      "Relative Hamming Distance 37.50%\n",
      "Relative Hamming Distance 39.84%\n",
      "Relative Hamming Distance 40.62%\n",
      "Relative Hamming Distance 42.97%\n",
      "Relative Hamming Distance 37.50%\n",
      "Relative Hamming Distance 43.75%\n",
      "Relative Hamming Distance 42.19%\n",
      "Relative Hamming Distance 39.84%\n",
      "Relative Hamming Distance 38.28%\n",
      "Relative Hamming Distance 39.06%\n",
      "Relative Hamming Distance 46.88%\n",
      "Relative Hamming Distance 44.53%\n",
      "Relative Hamming Distance 34.38%\n",
      "Relative Hamming Distance 42.19%\n",
      "Relative Hamming Distance 32.81%\n",
      "Relative Hamming Distance 46.88%\n",
      "Relative Hamming Distance 40.62%\n",
      "Relative Hamming Distance 42.19%\n",
      "Relative Hamming Distance 37.50%\n",
      "Relative Hamming Distance 39.06%\n",
      "Relative Hamming Distance 39.06%\n",
      "Relative Hamming Distance 43.75%\n",
      "Relative Hamming Distance 39.06%\n",
      "Relative Hamming Distance 42.19%\n",
      "Relative Hamming Distance 35.16%\n",
      "Relative Hamming Distance 42.97%\n",
      "Relative Hamming Distance 35.94%\n",
      "Relative Hamming Distance 41.41%\n",
      "Relative Hamming Distance 46.88%\n",
      "Relative Hamming Distance 38.28%\n",
      "Relative Hamming Distance 42.19%\n",
      "Relative Hamming Distance 40.62%\n",
      "Relative Hamming Distance 41.41%\n",
      "Relative Hamming Distance 35.16%\n",
      "Relative Hamming Distance 40.62%\n",
      "Relative Hamming Distance 40.62%\n",
      "Relative Hamming Distance 39.84%\n",
      "Relative Hamming Distance 41.41%\n",
      "Relative Hamming Distance 42.19%\n",
      "Relative Hamming Distance 46.09%\n",
      "Relative Hamming Distance 45.31%\n",
      "Relative Hamming Distance 46.09%\n",
      "Relative Hamming Distance 46.88%\n",
      "Relative Hamming Distance 47.66%\n",
      "Relative Hamming Distance 32.03%\n",
      "Relative Hamming Distance 39.06%\n",
      "Average Relative Hamming Distance: 5300.00\n"
     ]
    }
   ],
   "source": [
    "target_path = '../../images/100.bmp' \n",
    "target_hash = utils.compute_hash(target_path)\n",
    "\n",
    "hamm_distance = []\n",
    "\n",
    "for i in range(99):\n",
    "    img_path = f'../../images/{i+1}.bmp' \n",
    "    img_hash = utils.compute_hash(img_path)\n",
    "    # Compute the hamming distance between the images\n",
    "    hamm = utils.distance(img_hash, target_hash, 'hamming')\n",
    "    hamm_distance.append(hamm/128)\n",
    "    print(f'Relative Hamming Distance {(hamm/128)*100:.2f}%')\n",
    "\n",
    "print(f'Average Relative Hamming Distance: {sum(hamm_distance)/len(hamm_distance) :.2f}')"
   ]
  },
  {
   "cell_type": "code",
   "execution_count": null,
   "metadata": {},
   "outputs": [],
   "source": []
  },
  {
   "cell_type": "code",
   "execution_count": null,
   "metadata": {},
   "outputs": [],
   "source": []
  },
  {
   "cell_type": "code",
   "execution_count": null,
   "metadata": {},
   "outputs": [],
   "source": []
  }
 ],
 "metadata": {
  "kernelspec": {
   "display_name": "nhash",
   "language": "python",
   "name": "python3"
  },
  "language_info": {
   "codemirror_mode": {
    "name": "ipython",
    "version": 3
   },
   "file_extension": ".py",
   "mimetype": "text/x-python",
   "name": "python",
   "nbconvert_exporter": "python",
   "pygments_lexer": "ipython3",
   "version": "3.9.16"
  }
 },
 "nbformat": 4,
 "nbformat_minor": 2
}
