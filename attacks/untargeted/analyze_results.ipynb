{
 "cells": [
  {
   "cell_type": "code",
   "execution_count": null,
   "metadata": {},
   "outputs": [],
   "source": [
    "import matplotlib.pyplot as plt\n",
    "import pandas as pd\n",
    "import numpy as np"
   ]
  },
  {
   "cell_type": "markdown",
   "metadata": {},
   "source": [
    "## Analyze Attack Results"
   ]
  },
  {
   "cell_type": "code",
   "execution_count": null,
   "metadata": {},
   "outputs": [],
   "source": [
    "# Path to the results file you want to analyze\n",
    "results_path = '/Users/neddamj/Documents/BU/Research/2022PhotoDNA/nnhash/attacks/untargeted/metrics/zo_signsgd/0.1/pdq_hamm_102_l2_15_28-03-2024_11:13:19.csv'\n",
    "df = pd.read_csv(results_path)\n",
    "df.head()"
   ]
  },
  {
   "cell_type": "markdown",
   "metadata": {},
   "source": [
    "### Average # of Queries"
   ]
  },
  {
   "cell_type": "code",
   "execution_count": null,
   "metadata": {},
   "outputs": [],
   "source": [
    "queries = np.array(df['Queries'])\n",
    "avg_queries = queries.mean()\n",
    "print(f'The attacks were completed in {int(avg_queries)} queries on average')"
   ]
  },
  {
   "cell_type": "markdown",
   "metadata": {},
   "source": [
    "### Measure the ASR"
   ]
  },
  {
   "cell_type": "code",
   "execution_count": null,
   "metadata": {},
   "outputs": [],
   "source": [
    "\"\"\"sl_hamm = np.array(df['Soft-Label Hamming'])\n",
    "sl_ssim = np.array(df['Sotf-Label SSIM'])\n",
    "asr = 0\n",
    "for hamm, ssim in zip(sl_hamm, sl_ssim):\n",
    "    asr += 1 if (hamm <= attack_hamming_threshold and ssim >= 0.8) else 0\n",
    "print(asr)\"\"\""
   ]
  },
  {
   "cell_type": "code",
   "execution_count": null,
   "metadata": {},
   "outputs": [],
   "source": [
    "\n",
    "success = np.array(df['Success'])\n",
    "ASR = success.mean()\n",
    "print(f'The Final ASR is {100*ASR:.2f}% ')"
   ]
  },
  {
   "cell_type": "markdown",
   "metadata": {},
   "source": [
    "### Hamming Distance"
   ]
  },
  {
   "cell_type": "code",
   "execution_count": null,
   "metadata": {},
   "outputs": [],
   "source": [
    "hamming_dist = np.array(df['Final Hamming'])\n",
    "avg_hamm = hamming_dist.mean()\n",
    "print(f'The average hamming distance after joint attack is {avg_hamm}')"
   ]
  },
  {
   "cell_type": "markdown",
   "metadata": {},
   "source": [
    "### L2 Distortion"
   ]
  },
  {
   "cell_type": "code",
   "execution_count": null,
   "metadata": {},
   "outputs": [],
   "source": [
    "simba_l2_dist = np.array(df['Soft-Label L2'])/np.sqrt(224*224*3)\n",
    "simba_avg_l2 = simba_l2_dist.mean()\n",
    "simba_l2_std = np.std(simba_l2_dist)\n",
    "print(f'The average L2 distortion after the soft-label attack is {simba_avg_l2:.2f} +- {simba_l2_std:.2f}')\n",
    "\n",
    "final_l2_dist = np.array(df['Final L2'])/np.sqrt(224*224*3)\n",
    "final_avg_l2 = final_l2_dist.mean()\n",
    "final_std_l2 = np.std(final_l2_dist)\n",
    "print(f'The average L2 distortion after the complete attack is {final_avg_l2:.2f} +- {final_std_l2:.2f}')"
   ]
  },
  {
   "cell_type": "code",
   "execution_count": null,
   "metadata": {},
   "outputs": [],
   "source": [
    "index = np.arange(100)\n",
    "bar_width = 0.3\n",
    "fig, ax = plt.subplots(figsize=(15,6)) \n",
    "simba_distortion = ax.bar(index, df['Soft-Label L2'], bar_width, label='NES L2 Dist')\n",
    "output_distortion = ax.bar(index + bar_width, df['Final L2'], bar_width, label='Final L2 Dist')\n",
    "ax.set_label('Image')\n",
    "ax.set_ylabel('L2 Distortion')\n",
    "ax.legend()\n",
    "\n",
    "plt.show()"
   ]
  },
  {
   "cell_type": "markdown",
   "metadata": {},
   "source": [
    "### SSIM"
   ]
  },
  {
   "cell_type": "code",
   "execution_count": null,
   "metadata": {},
   "outputs": [],
   "source": [
    "ssim = np.array(df['Final SSIM'])\n",
    "avg_ssim = ssim.mean()\n",
    "print(f'The average SSIM after joint attack is {avg_ssim}')"
   ]
  },
  {
   "cell_type": "code",
   "execution_count": null,
   "metadata": {},
   "outputs": [],
   "source": []
  }
 ],
 "metadata": {
  "kernelspec": {
   "display_name": "Python 3 (ipykernel)",
   "language": "python",
   "name": "python3"
  },
  "language_info": {
   "codemirror_mode": {
    "name": "ipython",
    "version": 3
   },
   "file_extension": ".py",
   "mimetype": "text/x-python",
   "name": "python",
   "nbconvert_exporter": "python",
   "pygments_lexer": "ipython3",
   "version": "3.9.16"
  }
 },
 "nbformat": 4,
 "nbformat_minor": 2
}
