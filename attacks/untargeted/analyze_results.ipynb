{
 "cells": [
  {
   "cell_type": "code",
   "execution_count": 28,
   "metadata": {},
   "outputs": [],
   "source": [
    "import matplotlib.pyplot as plt\n",
    "import pandas as pd\n",
    "import numpy as np"
   ]
  },
  {
   "cell_type": "markdown",
   "metadata": {},
   "source": [
    "## Analyze Attack Results"
   ]
  },
  {
   "cell_type": "code",
   "execution_count": 29,
   "metadata": {},
   "outputs": [
    {
     "data": {
      "text/html": [
       "<div>\n",
       "<style scoped>\n",
       "    .dataframe tbody tr th:only-of-type {\n",
       "        vertical-align: middle;\n",
       "    }\n",
       "\n",
       "    .dataframe tbody tr th {\n",
       "        vertical-align: top;\n",
       "    }\n",
       "\n",
       "    .dataframe thead th {\n",
       "        text-align: right;\n",
       "    }\n",
       "</style>\n",
       "<table border=\"1\" class=\"dataframe\">\n",
       "  <thead>\n",
       "    <tr style=\"text-align: right;\">\n",
       "      <th></th>\n",
       "      <th>Image Path</th>\n",
       "      <th>Success</th>\n",
       "      <th>Queries</th>\n",
       "      <th>NES L2</th>\n",
       "      <th>Final L2</th>\n",
       "      <th>Final SSIM</th>\n",
       "      <th>NES Hamming</th>\n",
       "      <th>Final Hamming</th>\n",
       "    </tr>\n",
       "  </thead>\n",
       "  <tbody>\n",
       "    <tr>\n",
       "      <th>0</th>\n",
       "      <td>../../images/1.jpeg</td>\n",
       "      <td>True</td>\n",
       "      <td>112</td>\n",
       "      <td>23.219774</td>\n",
       "      <td>5.164620</td>\n",
       "      <td>0.997987</td>\n",
       "      <td>7</td>\n",
       "      <td>5</td>\n",
       "    </tr>\n",
       "    <tr>\n",
       "      <th>1</th>\n",
       "      <td>../../images/2.jpeg</td>\n",
       "      <td>True</td>\n",
       "      <td>113</td>\n",
       "      <td>24.094787</td>\n",
       "      <td>9.365923</td>\n",
       "      <td>0.988369</td>\n",
       "      <td>8</td>\n",
       "      <td>4</td>\n",
       "    </tr>\n",
       "    <tr>\n",
       "      <th>2</th>\n",
       "      <td>../../images/3.jpeg</td>\n",
       "      <td>True</td>\n",
       "      <td>115</td>\n",
       "      <td>21.780676</td>\n",
       "      <td>7.588324</td>\n",
       "      <td>0.989019</td>\n",
       "      <td>13</td>\n",
       "      <td>1</td>\n",
       "    </tr>\n",
       "    <tr>\n",
       "      <th>3</th>\n",
       "      <td>../../images/4.jpeg</td>\n",
       "      <td>True</td>\n",
       "      <td>117</td>\n",
       "      <td>18.329683</td>\n",
       "      <td>7.958137</td>\n",
       "      <td>0.995303</td>\n",
       "      <td>3</td>\n",
       "      <td>3</td>\n",
       "    </tr>\n",
       "    <tr>\n",
       "      <th>4</th>\n",
       "      <td>../../images/5.jpeg</td>\n",
       "      <td>True</td>\n",
       "      <td>106</td>\n",
       "      <td>15.844338</td>\n",
       "      <td>9.017555</td>\n",
       "      <td>0.934899</td>\n",
       "      <td>7</td>\n",
       "      <td>2</td>\n",
       "    </tr>\n",
       "  </tbody>\n",
       "</table>\n",
       "</div>"
      ],
      "text/plain": [
       "            Image Path  Success  Queries     NES L2  Final L2  Final SSIM  \\\n",
       "0  ../../images/1.jpeg     True      112  23.219774  5.164620    0.997987   \n",
       "1  ../../images/2.jpeg     True      113  24.094787  9.365923    0.988369   \n",
       "2  ../../images/3.jpeg     True      115  21.780676  7.588324    0.989019   \n",
       "3  ../../images/4.jpeg     True      117  18.329683  7.958137    0.995303   \n",
       "4  ../../images/5.jpeg     True      106  15.844338  9.017555    0.934899   \n",
       "\n",
       "   NES Hamming  Final Hamming  \n",
       "0            7              5  \n",
       "1            8              4  \n",
       "2           13              1  \n",
       "3            3              3  \n",
       "4            7              2  "
      ]
     },
     "execution_count": 29,
     "metadata": {},
     "output_type": "execute_result"
    }
   ],
   "source": [
    "# Path to the results file you want to analyze\n",
    "results_path = '/Users/neddamj/Documents/BU/Research/2022PhotoDNA/nnhash/src/untargeted/metrics/nes/hamm_1_l2_10_12-10-2023_17:25:39.csv'\n",
    "df = pd.read_csv(results_path)\n",
    "df.head()"
   ]
  },
  {
   "cell_type": "markdown",
   "metadata": {},
   "source": [
    "### Average # of Queries"
   ]
  },
  {
   "cell_type": "code",
   "execution_count": 30,
   "metadata": {},
   "outputs": [
    {
     "name": "stdout",
     "output_type": "stream",
     "text": [
      "The attacks were completed in 139 queries on average\n"
     ]
    }
   ],
   "source": [
    "queries = np.array(df['Queries'])\n",
    "avg_queries = queries.mean()\n",
    "print(f'The attacks were completed in {int(avg_queries)} queries on average')"
   ]
  },
  {
   "cell_type": "markdown",
   "metadata": {},
   "source": [
    "### Measure the ASR"
   ]
  },
  {
   "cell_type": "code",
   "execution_count": 31,
   "metadata": {},
   "outputs": [
    {
     "name": "stdout",
     "output_type": "stream",
     "text": [
      "The ASR is 100.00% \n"
     ]
    }
   ],
   "source": [
    "success = np.array(df['Success'])\n",
    "ASR = success.mean()\n",
    "print(f'The ASR is {100*ASR:.2f}% ')"
   ]
  },
  {
   "cell_type": "markdown",
   "metadata": {},
   "source": [
    "### Hamming Distance"
   ]
  },
  {
   "cell_type": "code",
   "execution_count": 32,
   "metadata": {},
   "outputs": [
    {
     "name": "stdout",
     "output_type": "stream",
     "text": [
      "The average hamming distance after joint attack is 6.67\n"
     ]
    }
   ],
   "source": [
    "hamming_dist = np.array(df['Final Hamming'])\n",
    "avg_hamm = hamming_dist.mean()\n",
    "print(f'The average hamming distance after joint attack is {avg_hamm}')"
   ]
  },
  {
   "cell_type": "markdown",
   "metadata": {},
   "source": [
    "### L2 Distortion"
   ]
  },
  {
   "cell_type": "code",
   "execution_count": 33,
   "metadata": {},
   "outputs": [
    {
     "name": "stdout",
     "output_type": "stream",
     "text": [
      "The average L2 distortion after the soft-label attack is 19.8331\n",
      "The average L2 distortion after the complete attack is 8.1334\n"
     ]
    }
   ],
   "source": [
    "simba_l2_dist = np.array(df['NES L2'])\n",
    "simba_avg_l2 = simba_l2_dist.mean()\n",
    "print(f'The average L2 distortion after the soft-label attack is {simba_avg_l2:.4f}')\n",
    "\n",
    "final_l2_dist = np.array(df['Final L2'])\n",
    "final_avg_l2 = final_l2_dist.mean()\n",
    "print(f'The average L2 distortion after the complete attack is {final_avg_l2:.4f}')"
   ]
  },
  {
   "cell_type": "code",
   "execution_count": 34,
   "metadata": {},
   "outputs": [
    {
     "data": {
      "image/png": "[encoded data removed]",
      "text/plain": [
       "<Figure size 1500x600 with 1 Axes>"
      ]
     },
     "metadata": {},
     "output_type": "display_data"
    }
   ],
   "source": [
    "index = np.arange(100)\n",
    "bar_width = 0.3\n",
    "fig, ax = plt.subplots(figsize=(15,6)) \n",
    "simba_distortion = ax.bar(index, df['NES L2'], bar_width, label='NES L2 Dist')\n",
    "output_distortion = ax.bar(index + bar_width, df['Final L2'], bar_width, label='Final L2 Dist')\n",
    "ax.set_label('Image')\n",
    "ax.set_ylabel('L2 Distortion')\n",
    "ax.legend()\n",
    "\n",
    "plt.show()"
   ]
  },
  {
   "cell_type": "markdown",
   "metadata": {},
   "source": [
    "### SSIM"
   ]
  },
  {
   "cell_type": "code",
   "execution_count": 35,
   "metadata": {},
   "outputs": [
    {
     "name": "stdout",
     "output_type": "stream",
     "text": [
      "The average SSIM after joint attack is 0.9703161086314845\n"
     ]
    }
   ],
   "source": [
    "ssim = np.array(df['Final SSIM'])\n",
    "avg_ssim = ssim.mean()\n",
    "print(f'The average SSIM after joint attack is {avg_ssim}')"
   ]
  },
  {
   "cell_type": "markdown",
   "metadata": {},
   "source": [
    "# Analyze Ablation Results"
   ]
  },
  {
   "cell_type": "code",
   "execution_count": 36,
   "metadata": {},
   "outputs": [
    {
     "data": {
      "text/html": [
       "<div>\n",
       "<style scoped>\n",
       "    .dataframe tbody tr th:only-of-type {\n",
       "        vertical-align: middle;\n",
       "    }\n",
       "\n",
       "    .dataframe tbody tr th {\n",
       "        vertical-align: top;\n",
       "    }\n",
       "\n",
       "    .dataframe thead th {\n",
       "        text-align: right;\n",
       "    }\n",
       "</style>\n",
       "<table border=\"1\" class=\"dataframe\">\n",
       "  <thead>\n",
       "    <tr style=\"text-align: right;\">\n",
       "      <th></th>\n",
       "      <th>Image Path</th>\n",
       "      <th>Success</th>\n",
       "      <th>Queries</th>\n",
       "      <th>Simba L2</th>\n",
       "      <th>Final L2</th>\n",
       "      <th>Final SSIM</th>\n",
       "      <th>Simba Hamming</th>\n",
       "      <th>Final Hamming</th>\n",
       "    </tr>\n",
       "  </thead>\n",
       "  <tbody>\n",
       "    <tr>\n",
       "      <th>0</th>\n",
       "      <td>/Volumes/TempRAM/1.jpeg</td>\n",
       "      <td>True</td>\n",
       "      <td>5085</td>\n",
       "      <td>42.622916</td>\n",
       "      <td>23.256781</td>\n",
       "      <td>0.933473</td>\n",
       "      <td>20</td>\n",
       "      <td>10</td>\n",
       "    </tr>\n",
       "    <tr>\n",
       "      <th>1</th>\n",
       "      <td>/Volumes/TempRAM/2.jpeg</td>\n",
       "      <td>True</td>\n",
       "      <td>1577</td>\n",
       "      <td>28.379657</td>\n",
       "      <td>20.207748</td>\n",
       "      <td>0.944184</td>\n",
       "      <td>20</td>\n",
       "      <td>12</td>\n",
       "    </tr>\n",
       "    <tr>\n",
       "      <th>2</th>\n",
       "      <td>/Volumes/TempRAM/3.jpeg</td>\n",
       "      <td>True</td>\n",
       "      <td>1891</td>\n",
       "      <td>40.107645</td>\n",
       "      <td>20.710353</td>\n",
       "      <td>0.961798</td>\n",
       "      <td>20</td>\n",
       "      <td>13</td>\n",
       "    </tr>\n",
       "    <tr>\n",
       "      <th>3</th>\n",
       "      <td>/Volumes/TempRAM/4.jpeg</td>\n",
       "      <td>True</td>\n",
       "      <td>3784</td>\n",
       "      <td>40.937901</td>\n",
       "      <td>23.782623</td>\n",
       "      <td>0.960586</td>\n",
       "      <td>20</td>\n",
       "      <td>17</td>\n",
       "    </tr>\n",
       "    <tr>\n",
       "      <th>4</th>\n",
       "      <td>/Volumes/TempRAM/5.jpeg</td>\n",
       "      <td>True</td>\n",
       "      <td>3365</td>\n",
       "      <td>28.012280</td>\n",
       "      <td>12.205376</td>\n",
       "      <td>0.985255</td>\n",
       "      <td>25</td>\n",
       "      <td>22</td>\n",
       "    </tr>\n",
       "  </tbody>\n",
       "</table>\n",
       "</div>"
      ],
      "text/plain": [
       "                Image Path  Success  Queries   Simba L2   Final L2  \\\n",
       "0  /Volumes/TempRAM/1.jpeg     True     5085  42.622916  23.256781   \n",
       "1  /Volumes/TempRAM/2.jpeg     True     1577  28.379657  20.207748   \n",
       "2  /Volumes/TempRAM/3.jpeg     True     1891  40.107645  20.710353   \n",
       "3  /Volumes/TempRAM/4.jpeg     True     3784  40.937901  23.782623   \n",
       "4  /Volumes/TempRAM/5.jpeg     True     3365  28.012280  12.205376   \n",
       "\n",
       "   Final SSIM  Simba Hamming  Final Hamming  \n",
       "0    0.933473             20             10  \n",
       "1    0.944184             20             12  \n",
       "2    0.961798             20             13  \n",
       "3    0.960586             20             17  \n",
       "4    0.985255             25             22  "
      ]
     },
     "execution_count": 36,
     "metadata": {},
     "output_type": "execute_result"
    }
   ],
   "source": [
    "# Path to the results file you want to analyze\n",
    "results_path = '/Users/neddamj/Documents/BU/Research/2022PhotoDNA/nnhash/src/untargeted/metrics/0.9/hamm_10_l2_24_24-08-2023_10:03:55.csv'\n",
    "df = pd.read_csv(results_path)\n",
    "df.head()"
   ]
  },
  {
   "cell_type": "markdown",
   "metadata": {},
   "source": [
    "### SimBA Avg Number of Queries"
   ]
  },
  {
   "cell_type": "code",
   "execution_count": 37,
   "metadata": {},
   "outputs": [
    {
     "name": "stdout",
     "output_type": "stream",
     "text": [
      "The attacks were completed in 3197 queries on average\n"
     ]
    }
   ],
   "source": [
    "queries = np.array(df['Queries'])\n",
    "avg_queries = queries.mean()\n",
    "print(f'The attacks were completed in {int(avg_queries)} queries on average')"
   ]
  },
  {
   "cell_type": "markdown",
   "metadata": {},
   "source": [
    "### SimBA L2 Distortion"
   ]
  },
  {
   "cell_type": "code",
   "execution_count": 38,
   "metadata": {},
   "outputs": [
    {
     "name": "stdout",
     "output_type": "stream",
     "text": [
      "The average L2 distortion after the soft-label attack is 38.9854\n"
     ]
    }
   ],
   "source": [
    "simba_l2_dist = np.array(df['Simba L2'])\n",
    "simba_avg_l2 = simba_l2_dist.mean()\n",
    "print(f'The average L2 distortion after the soft-label attack is {simba_avg_l2:.4f}')"
   ]
  },
  {
   "cell_type": "code",
   "execution_count": null,
   "metadata": {},
   "outputs": [],
   "source": []
  }
 ],
 "metadata": {
  "kernelspec": {
   "display_name": "Python 3 (ipykernel)",
   "language": "python",
   "name": "python3"
  },
  "language_info": {
   "codemirror_mode": {
    "name": "ipython",
    "version": 3
   },
   "file_extension": ".py",
   "mimetype": "text/x-python",
   "name": "python",
   "nbconvert_exporter": "python",
   "pygments_lexer": "ipython3",
   "version": "3.9.16"
  }
 },
 "nbformat": 4,
 "nbformat_minor": 2
}
